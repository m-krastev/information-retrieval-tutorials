{
 "cells": [
  {
   "cell_type": "markdown",
   "id": "3c4d4928",
   "metadata": {},
   "source": [
    "# Analysis (50 points)"
   ]
  },
  {
   "cell_type": "markdown",
   "id": "b32b6684",
   "metadata": {},
   "source": [
    "### Overview\n",
    "\n",
    "All datasets can be obtained by running the code below. The data will be sorted in the `./analysis_data/` folder. The format is the same as that of data you used in the previous part of this assignment, so make sure you change the dataset paths in the *hw2.ipynb* (or *hw2.py*) to the correct data folder, except for the `common_words` stopwords. Also, set the RESET flag to `True`. Finally, make sure you dig around the dataset you are working with, to get familiar with the type of queries and documents, the type of relevance judgements, etc."
   ]
  },
  {
   "cell_type": "markdown",
   "id": "04c07750",
   "metadata": {},
   "source": [
    "### Install"
   ]
  },
  {
   "cell_type": "code",
   "execution_count": 41,
   "id": "fbe5ad13",
   "metadata": {},
   "outputs": [
    {
     "name": "stdout",
     "output_type": "stream",
     "text": [
      "The autoreload extension is already loaded. To reload it, use:\n",
      "  %reload_ext autoreload\n"
     ]
    }
   ],
   "source": [
    "%load_ext autoreload\n",
    "%autoreload 2"
   ]
  },
  {
   "cell_type": "code",
   "execution_count": 42,
   "id": "c410017f",
   "metadata": {},
   "outputs": [],
   "source": [
    "# !pip install ir_datasets\n",
    "# !pip install ipywidgets"
   ]
  },
  {
   "cell_type": "markdown",
   "id": "3a884315",
   "metadata": {},
   "source": [
    "### Import"
   ]
  },
  {
   "cell_type": "code",
   "execution_count": 43,
   "id": "19232dc0",
   "metadata": {},
   "outputs": [
    {
     "name": "stdout",
     "output_type": "stream",
     "text": [
      "The autoreload extension is already loaded. To reload it, use:\n",
      "  %reload_ext autoreload\n"
     ]
    }
   ],
   "source": [
    "import ir_datasets\n",
    "import csv\n",
    "import os\n",
    "from tqdm import tqdm\n",
    "import random\n",
    "import json\n",
    "import numpy as np\n",
    "from ltr.utils import compare_methods\n",
    "from ltr.utils import plot_distribution\n",
    "\n",
    "%load_ext autoreload\n",
    "%autoreload 2"
   ]
  },
  {
   "cell_type": "markdown",
   "id": "ee2935bd",
   "metadata": {},
   "source": [
    "### Function to save data in the .tsv format"
   ]
  },
  {
   "cell_type": "code",
   "execution_count": 44,
   "id": "e6f78517",
   "metadata": {},
   "outputs": [],
   "source": [
    "def save_tsv(folder_name, dataset_path, concatenate_docs=False, doc_text=None, \n",
    "             extract_partial=False, extract=None, provide_n_docs=False, n_docs=None, **kwargs):\n",
    "    '''\n",
    "    Saves queries, documents and qrels in asisgnment-specific .tsv format.\n",
    "    \n",
    "    Input:\n",
    "        - dataset_path: dataset to be downloaded using ir_dataset package\n",
    "        - folder_name: name of the folder within the data_for_analysis folder\n",
    "    '''\n",
    "    # Check if the folder exists, and if not, create it\n",
    "    folder_path = 'analysis_data/'+folder_name\n",
    "    if not os.path.exists(folder_path):\n",
    "        os.makedirs(folder_path)\n",
    "        dataset = ir_datasets.load(dataset_path)\n",
    "    \n",
    "    # Queries\n",
    "    print(f'Extracting queries of {folder_name} ...')\n",
    "    query_path = os.path.join(folder_path, 'queries.tsv')\n",
    "    if not os.path.exists(query_path):\n",
    "        total_queries = sum(1 for _ in dataset.queries_iter())\n",
    "        with open(query_path, 'w', newline='', encoding='utf-8') as tsv_file:\n",
    "            tsv_writer = csv.writer(tsv_file, delimiter='\\t')\n",
    "            for query in tqdm(dataset.queries_iter(), total=total_queries, desc=\"Saving queries\"):\n",
    "                tsv_writer.writerow([query[0], query[1]])    \n",
    "        \n",
    "    # Docs\n",
    "    print(f'Extracting documents of {folder_name} ...')\n",
    "    doc_path = os.path.join(folder_path, 'collection.tsv')\n",
    "    if not os.path.exists(doc_path):\n",
    "      \n",
    "        total_docs = n_docs if provide_n_docs else sum(1 for _ in dataset.docs_iter())\n",
    "        sampled_docs = random.sample(list(dataset.docs_iter()), extract) if extract_partial else dataset.docs_iter()\n",
    "\n",
    "        with open(doc_path, 'w', newline='', encoding='utf-8') as tsv_file:\n",
    "            tsv_writer = csv.writer(tsv_file, delimiter='\\t')\n",
    "            for doc in tqdm(dataset.docs_iter(), total=total_docs, desc=\"Saving docs\"):\n",
    "                if concatenate_docs:\n",
    "                    tsv_writer.writerow([doc[0], f\"{doc[doc_text[0]]} {doc[doc_text[1]]}\"])\n",
    "                else:\n",
    "                    tsv_writer.writerow([doc[0], doc[1]])\n",
    "    \n",
    "    # Qrels\n",
    "    print(f'Extracting qrels of {folder_name} ...')\n",
    "    ## Initialize file handles only if they don't exist\n",
    "    train_file_path = os.path.join(folder_path, 'train_pairs_graded.tsv')\n",
    "    dev_file_path = os.path.join(folder_path, 'dev_pairs_graded.tsv')\n",
    "    test_file_path = os.path.join(folder_path, 'test_pairs_graded.tsv')\n",
    "\n",
    "    if not os.path.exists(train_file_path):\n",
    "        total_qrels = sum(1 for _ in dataset.qrels_iter())\n",
    "        \n",
    "        ## Calculate the indices to split the data\n",
    "        index_80_percent = int(0.8 * total_qrels)\n",
    "        index_90_percent = int(0.9 * total_qrels)\n",
    "        \n",
    "        with open(os.path.join(folder_path, 'train_pairs_graded.tsv'), 'w', newline='', encoding='utf-8') as train_file, \\\n",
    "                open(os.path.join(folder_path, 'dev_pairs_graded.tsv'), 'w', newline='', encoding='utf-8') as dev_file, \\\n",
    "                open(os.path.join(folder_path, 'test_pairs_graded.tsv'), 'w', newline='', encoding='utf-8') as test_file:\n",
    "\n",
    "            train_writer = csv.writer(train_file, delimiter='\\t')\n",
    "            dev_writer = csv.writer(dev_file, delimiter='\\t')\n",
    "            test_writer = csv.writer(test_file, delimiter='\\t')\n",
    "            \n",
    "            for i, qrel in tqdm(enumerate(dataset.qrels_iter()), total=total_qrels, desc=\"Saving qrels\"):\n",
    "                if i < index_80_percent:\n",
    "                    train_writer.writerow([qrel[0], qrel[1], qrel[2]])\n",
    "                elif i < index_90_percent:\n",
    "                    dev_writer.writerow([qrel[0], qrel[1], qrel[2]])\n",
    "                else:\n",
    "                    test_writer.writerow([qrel[0], qrel[1], qrel[2]])"
   ]
  },
  {
   "cell_type": "code",
   "execution_count": 45,
   "id": "56c69928",
   "metadata": {},
   "outputs": [],
   "source": [
    "datasets_to_save ={\n",
    "        'COVID': {\n",
    "            'dataset_path': 'beir/trec-covid',\n",
    "            'concatenate_docs': True,\n",
    "            'doc_text': [2, 1]\n",
    "        },\n",
    "        'GENOMICS':  {\n",
    "            'dataset_path': 'medline/2004/trec-genomics-2005',\n",
    "            'concatenate_docs': True,\n",
    "            'doc_text': [1, 2]\n",
    "        },\n",
    "        'ARGS': {\n",
    "            'dataset_path': 'argsme/2020-04-01/touche-2021-task-1',\n",
    "            'concatenate_docs': True,\n",
    "            'doc_text': [3, 1]\n",
    "        },\n",
    "        'GAMING': {\n",
    "            'dataset_path': 'beir/cqadupstack/gaming',\n",
    "            'concatenate_docs': True,\n",
    "            'doc_text': [2, 1]\n",
    "        },\n",
    "        'NUTRITION': {\n",
    "            'dataset_path': 'nfcorpus/train/nontopic',\n",
    "            'concatenate_docs': True,\n",
    "            'doc_text': [2, 3]\n",
    "        },\n",
    "        'CLIMATE': {\n",
    "            'dataset_path': 'beir/climate-fever',\n",
    "            'concatenate_docs': True,\n",
    "            'doc_text': [2, 1]\n",
    "        },\n",
    "        'BUSINESS': {\n",
    "            'dataset_path': 'beir/fiqa/train',\n",
    "        },\n",
    "    }"
   ]
  },
  {
   "cell_type": "markdown",
   "id": "d440731d",
   "metadata": {},
   "source": [
    "### Did you choose your scenario? Let's get the dataset! \n",
    "Please use the Dataset name as specified in the markdown cells above."
   ]
  },
  {
   "cell_type": "code",
   "execution_count": 46,
   "id": "4c2a3142",
   "metadata": {
    "scrolled": true
   },
   "outputs": [
    {
     "name": "stdout",
     "output_type": "stream",
     "text": [
      "Saving NUTRITION ...\n",
      "Extracting queries of NUTRITION ...\n",
      "Extracting documents of NUTRITION ...\n",
      "Extracting qrels of NUTRITION ...\n"
     ]
    }
   ],
   "source": [
    "# scenario = input('What scenario are you interested in? ')\n",
    "scenario = \"NUTRITION\"\n",
    "while scenario not in datasets_to_save.keys():\n",
    "    print('Please specify a valid scenario.')\n",
    "    scenario = input('What scenario are you interested in? ')\n",
    "\n",
    "print(f'Saving {scenario} ...')\n",
    "save_tsv(scenario, **datasets_to_save[scenario])"
   ]
  },
  {
   "cell_type": "code",
   "execution_count": 47,
   "id": "631cf30a",
   "metadata": {},
   "outputs": [],
   "source": [
    "# Additional features:\n",
    "# - hapax legomena: words that appear only once in the document\n",
    "# Additional unique features:\n",
    "# - Jaccard similarity between the query and the document (not sure if this doesn't overlap with query-term coverage)\n",
    "# - average concreteness of the words in the document\n"
   ]
  },
  {
   "cell_type": "code",
   "execution_count": 48,
   "id": "1dc3a4bb",
   "metadata": {},
   "outputs": [],
   "source": [
    "COLLECTION_PATH = f\"./analysis_data/{scenario}/collection.tsv\"\n",
    "QUERIES_PATH = f\"./analysis_data/{scenario}/queries.tsv\"\n",
    "TRAIN_PATH = f\"./analysis_data/{scenario}/train_pairs_graded.tsv\"\n",
    "DEV_PATH = f\"./analysis_data/{scenario}/dev_pairs_graded.tsv\"\n",
    "TEST_PATH = f\"./analysis_data/{scenario}/test_pairs_graded.tsv\"\n",
    "STOP_WORDS_PATH = \"./data/common_words\"\n",
    "\n",
    "\n",
    "from ltr.dataset import Documents, Queries, Preprocess\n",
    "\n",
    "prp = Preprocess(STOP_WORDS_PATH)\n",
    "\n",
    "queries = Queries(prp)\n",
    "queries.preprocess_queries(QUERIES_PATH)\n",
    "\n",
    "# IMPORTANT: DO NOT CHANGE DOC_JSON PATH\n",
    "DOC_JSON = f\"./analysis_data/{scenario}/doc.pickle\"\n",
    "import os\n",
    "import pickle\n",
    "\n",
    "RESET = False\n",
    "\n",
    "if os.path.exists(DOC_JSON) and not RESET:\n",
    "    with open(DOC_JSON, \"rb\") as file:\n",
    "        documents = pickle.load(file)\n",
    "else:\n",
    "    documents = Documents(prp)\n",
    "    documents.process_documents(COLLECTION_PATH)\n",
    "    with open(DOC_JSON, \"wb\") as file:\n",
    "        pickle.dump(documents, file)"
   ]
  },
  {
   "cell_type": "code",
   "execution_count": 49,
   "id": "1a121e88",
   "metadata": {},
   "outputs": [
    {
     "name": "stderr",
     "output_type": "stream",
     "text": [
      "2033it [00:00, 3877.34it/s]"
     ]
    },
    {
     "name": "stderr",
     "output_type": "stream",
     "text": [
      "29906it [00:06, 4716.86it/s]\n",
      "3738it [00:00, 5278.12it/s]\n",
      "3739it [00:00, 5329.06it/s]\n"
     ]
    }
   ],
   "source": [
    "from ltr.dataset import FeatureExtraction, GenerateFeatures\n",
    "\n",
    "feature_ex = FeatureExtraction({}, documents, queries)\n",
    "\n",
    "feat_gen = GenerateFeatures(feature_ex)\n",
    "args = {}\n",
    "args[\"k1\"] = 1.5\n",
    "args[\"b\"] = 0.75\n",
    "args[\"idf_smoothing\"] = 0.5\n",
    "\n",
    "feat_gen.run(TRAIN_PATH, TRAIN_PATH + \"g\", **args)\n",
    "feat_gen.run(DEV_PATH, DEV_PATH + \"g\", **args)\n",
    "feat_gen.run(TEST_PATH, TEST_PATH + \"g\", **args)"
   ]
  },
  {
   "cell_type": "code",
   "execution_count": 50,
   "id": "0e3ee0d8",
   "metadata": {},
   "outputs": [],
   "source": [
    "from ltr.dataset import DataSet\n",
    "from ltr.utils import seed, create_results\n",
    "# from ltr.eval import evaluate_model\n",
    "from ltr.model import LTRModel\n",
    "from ltr.train import train_pointwise\n",
    "# from ltr.train import train_pairwise\n",
    "from ltr.train import train_pairwise_spedup\n",
    "from ltr.train import train_listwise\n",
    "from argparse import Namespace\n",
    "import torch\n",
    "seed(42)\n",
    "\n",
    "N_FEATURES = 15\n",
    "\n",
    "fold_paths = [f\"./analysis_data/{scenario}/\"]\n",
    "num_relevance_labels = 3\n",
    "num_nonzero_feat = N_FEATURES\n",
    "num_unique_feat = N_FEATURES\n",
    "data = DataSet(\n",
    "    \"ir1-2023\", fold_paths, num_relevance_labels, num_unique_feat, num_nonzero_feat\n",
    ")\n",
    "\n",
    "data = data.get_data_folds()[0]\n",
    "data.read_data()"
   ]
  },
  {
   "cell_type": "code",
   "execution_count": 51,
   "id": "d1b93d0e",
   "metadata": {},
   "outputs": [],
   "source": [
    "metrics={\"ndcg\", \"precision@05\", \"recall@05\"}"
   ]
  },
  {
   "cell_type": "code",
   "execution_count": 52,
   "id": "9f6c2dcc",
   "metadata": {},
   "outputs": [
    {
     "name": "stdout",
     "output_type": "stream",
     "text": [
      "Training Model\n"
     ]
    },
    {
     "name": "stderr",
     "output_type": "stream",
     "text": [
      "                                                         "
     ]
    },
    {
     "name": "stdout",
     "output_type": "stream",
     "text": [
      "\"metric\": \"mean\" (\"standard deviation\")\n",
      "dcg: 28.5150 (14.53520)\n",
      "dcg@03: 8.3658 (2.65449)\n",
      "dcg@05: 10.9162 (3.16271)\n",
      "dcg@10: 15.5123 (4.52256)\n",
      "dcg@20: 21.0285 (6.87345)\n",
      "ndcg: 0.9350 (0.06602)\n",
      "ndcg@03: 0.8070 (0.21758)\n",
      "ndcg@05: 0.8320 (0.18434)\n",
      "ndcg@10: 0.8678 (0.14714)\n",
      "ndcg@20: 0.8992 (0.11457)\n",
      "precision@01: 0.4565 (0.49811)\n",
      "precision@03: 0.3043 (0.27650)\n",
      "precision@05: 0.2391 (0.22504)\n",
      "precision@10: 0.1761 (0.18319)\n",
      "precision@20: 0.1174 (0.12947)\n",
      "recall@01: 0.2852 (0.40851)\n",
      "recall@03: 0.4937 (0.43494)\n",
      "recall@05: 0.5713 (0.41339)\n",
      "recall@10: 0.7157 (0.37392)\n",
      "recall@100: 1.0000 (0.00000)\n",
      "recall@20: 0.8656 (0.27075)\n",
      "relevant rank: 14.6232 (17.70888)\n",
      "relevant rank per query: 43.8696 (87.10516)\n"
     ]
    },
    {
     "name": "stderr",
     "output_type": "stream",
     "text": [
      "\r"
     ]
    }
   ],
   "source": [
    "params_regr = Namespace(epochs=11, \n",
    "                    lr=1e-3,\n",
    "                    batch_size=1,\n",
    "                    metrics=metrics)\n",
    "\n",
    "pointwise_regression_model = LTRModel(data.num_features)\n",
    "pw_regr = create_results(data, pointwise_regression_model, \n",
    "                          train_pointwise, \n",
    "                          pointwise_regression_model,\n",
    "                          \"./outputs/pointwise_res.json\",\n",
    "                          params_regr)\n",
    "\n",
    "torch.save(pointwise_regression_model.state_dict(), \"./outputs/analysis_pointwise_model\")"
   ]
  },
  {
   "cell_type": "code",
   "execution_count": 53,
   "id": "15afa087",
   "metadata": {},
   "outputs": [
    {
     "name": "stdout",
     "output_type": "stream",
     "text": [
      "Training Model\n"
     ]
    },
    {
     "name": "stderr",
     "output_type": "stream",
     "text": [
      "                                                         "
     ]
    },
    {
     "name": "stdout",
     "output_type": "stream",
     "text": [
      "\"metric\": \"mean\" (\"standard deviation\")\n",
      "dcg: 28.5765 (14.53380)\n",
      "dcg@03: 8.3846 (2.67070)\n",
      "dcg@05: 10.9947 (3.29502)\n",
      "dcg@10: 15.5297 (4.59534)\n",
      "dcg@20: 21.0551 (6.78114)\n",
      "ndcg: 0.9380 (0.06177)\n",
      "ndcg@03: 0.8056 (0.21111)\n",
      "ndcg@05: 0.8348 (0.18041)\n",
      "ndcg@10: 0.8681 (0.14509)\n",
      "ndcg@20: 0.9013 (0.11066)\n",
      "precision@01: 0.5000 (0.50000)\n",
      "precision@03: 0.3007 (0.27390)\n",
      "precision@05: 0.2457 (0.23793)\n",
      "precision@10: 0.1717 (0.19015)\n",
      "precision@20: 0.1130 (0.12088)\n",
      "recall@01: 0.2972 (0.40534)\n",
      "recall@03: 0.4605 (0.42232)\n",
      "recall@05: 0.5751 (0.41271)\n",
      "recall@10: 0.6839 (0.38131)\n",
      "recall@100: 1.0000 (0.00000)\n",
      "recall@20: 0.8490 (0.26957)\n",
      "relevant rank: 15.4384 (19.27245)\n",
      "relevant rank per query: 46.3152 (93.42178)\n"
     ]
    },
    {
     "name": "stderr",
     "output_type": "stream",
     "text": [
      "\r"
     ]
    }
   ],
   "source": [
    "\n",
    "params = Namespace(epochs=10, \n",
    "                    lr=1e-3,\n",
    "                    batch_size=1,\n",
    "                    metrics=metrics)\n",
    "\n",
    "sped_up_pairwise_model = LTRModel(data.num_features)\n",
    "\n",
    "create_results(data, sped_up_pairwise_model, \n",
    "               train_pairwise_spedup, \n",
    "               sped_up_pairwise_model,\n",
    "               \"./outputs/pairwise_spedup_res.json\",\n",
    "               params)\n",
    "\n",
    "torch.save(sped_up_pairwise_model.state_dict(), \"./outputs/analysis_pairwise_spedup_model\")"
   ]
  },
  {
   "cell_type": "code",
   "execution_count": 55,
   "id": "bbb8ae51",
   "metadata": {},
   "outputs": [
    {
     "name": "stdout",
     "output_type": "stream",
     "text": [
      "Training Model\n"
     ]
    },
    {
     "name": "stderr",
     "output_type": "stream",
     "text": [
      "                                                         \r"
     ]
    },
    {
     "name": "stdout",
     "output_type": "stream",
     "text": [
      "\"metric\": \"mean\" (\"standard deviation\")\n",
      "dcg: 28.6203 (14.58455)\n",
      "dcg@03: 8.3729 (2.72633)\n",
      "dcg@05: 11.0027 (3.31047)\n",
      "dcg@10: 15.6335 (4.50488)\n",
      "dcg@20: 21.1949 (6.93359)\n",
      "ndcg: 0.9400 (0.06475)\n",
      "ndcg@03: 0.8092 (0.22524)\n",
      "ndcg@05: 0.8374 (0.18847)\n",
      "ndcg@10: 0.8742 (0.14405)\n",
      "ndcg@20: 0.9062 (0.11324)\n",
      "precision@01: 0.4783 (0.49953)\n",
      "precision@03: 0.3043 (0.27650)\n",
      "precision@05: 0.2522 (0.23567)\n",
      "precision@10: 0.1837 (0.17832)\n",
      "precision@20: 0.1223 (0.13277)\n",
      "recall@01: 0.3067 (0.41934)\n",
      "recall@03: 0.5024 (0.43168)\n",
      "recall@05: 0.5961 (0.41220)\n",
      "recall@10: 0.7497 (0.34412)\n",
      "recall@100: 1.0000 (0.00000)\n",
      "recall@20: 0.8933 (0.22888)\n",
      "relevant rank: 13.1522 (16.95343)\n",
      "relevant rank per query: 39.4565 (75.60515)\n"
     ]
    }
   ],
   "source": [
    "params_regr = Namespace(\n",
    "    epochs=11, lr=1e-4, batch_size=1, metrics=metrics\n",
    ")\n",
    "\n",
    "model = LTRModel(data.num_features)\n",
    "\n",
    "pw_regr = create_results(\n",
    "    data,\n",
    "    model,\n",
    "    train_listwise,\n",
    "    model,\n",
    "    \"./outputs/analysis_res_15.json\",\n",
    "    params_regr,\n",
    ")\n",
    "\n",
    "torch.save(model.state_dict(), \"./outputs/analysis_liswise_model\")\n"
   ]
  },
  {
   "cell_type": "code",
   "execution_count": 56,
   "id": "95e3f993",
   "metadata": {},
   "outputs": [],
   "source": [
    "\n",
    "pointwise_temp_model = LTRModel(data.num_features)\n",
    "pointwise_temp_model.load_state_dict(torch.load(\"./outputs/analysis_pointwise_model\"))\n",
    "\n",
    "pairwise_temp_model = LTRModel(data.num_features)\n",
    "pairwise_temp_model.load_state_dict(torch.load(\"./outputs/analysis_pairwise_spedup_model\"))\n",
    "\n",
    "listwise_temp_model = LTRModel(data.num_features)\n",
    "listwise_temp_model.load_state_dict(torch.load(\"./outputs/analysis_listwise_model\"))\n",
    "\n",
    "\n",
    "methods = [\n",
    "    {\"results_file\": \"./outputs/analysis_pointwise_res.json\", \"label\": \"Pointwise\"},\n",
    "    {\"results_file\": \"./outputs/analysis_pairwise_spedup_res.json\", \"label\": \"Pairwise\"},\n",
    "    {\"results_file\": \"./outputs/analysis_listwise_res.json\", \"label\": \"Listwise\"}\n",
    "]\n",
    "\n",
    "labels = []\n",
    "results = []\n",
    "q_results = []\n",
    "for m in methods:\n",
    "    labels.append(m[\"label\"])\n",
    "    \n",
    "    with open(m[\"results_file\"]) as reader:\n",
    "        r = json.load(reader)\n",
    "    \n",
    "    results.append(r[\"test_metrics\"])\n",
    "    q_results.append(r[\"test_query_level_metrics\"])\n",
    "    "
   ]
  },
  {
   "cell_type": "code",
   "execution_count": 57,
   "id": "6b1ef3ed",
   "metadata": {},
   "outputs": [
    {
     "data": {
      "image/png": "[encoded data removed]",
      "text/plain": [
       "<Figure size 1500x700 with 3 Axes>"
      ]
     },
     "metadata": {},
     "output_type": "display_data"
    }
   ],
   "source": [
    "compare_methods(labels, results, metrics)"
   ]
  },
  {
   "cell_type": "code",
   "execution_count": 58,
   "id": "82bec0c6",
   "metadata": {},
   "outputs": [
    {
     "data": {
      "image/png": "[encoded data removed]",
      "text/plain": [
       "<Figure size 1000x2400 with 3 Axes>"
      ]
     },
     "metadata": {},
     "output_type": "display_data"
    }
   ],
   "source": [
    "plot_distribution(labels, q_results)"
   ]
  }
 ],
 "metadata": {
  "kernelspec": {
   "display_name": "Python 3 (ipykernel)",
   "language": "python",
   "name": "python3"
  },
  "language_info": {
   "codemirror_mode": {
    "name": "ipython",
    "version": 3
   },
   "file_extension": ".py",
   "mimetype": "text/x-python",
   "name": "python",
   "nbconvert_exporter": "python",
   "pygments_lexer": "ipython3",
   "version": "3.10.13"
  }
 },
 "nbformat": 4,
 "nbformat_minor": 5
}

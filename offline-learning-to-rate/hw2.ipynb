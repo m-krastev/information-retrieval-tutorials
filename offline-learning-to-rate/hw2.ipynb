{
 "cells": [
  {
   "cell_type": "code",
   "execution_count": 1,
   "metadata": {},
   "outputs": [],
   "source": [
    "%load_ext autoreload\n",
    "%autoreload 2"
   ]
  },
  {
   "cell_type": "code",
   "execution_count": 2,
   "metadata": {
    "nbgrader": {
     "grade": false,
     "grade_id": "cell-b08a635cb01047dd",
     "locked": true,
     "schema_version": 3,
     "solution": false,
     "task": false
    }
   },
   "outputs": [
    {
     "name": "stdout",
     "output_type": "stream",
     "text": [
      "The autoreload extension is already loaded. To reload it, use:\n",
      "  %reload_ext autoreload\n"
     ]
    }
   ],
   "source": [
    "from argparse import Namespace\n",
    "\n",
    "import torch\n",
    "from torch import nn\n",
    "from tqdm.notebook import tqdm, trange\n",
    "from torch.utils.data import DataLoader\n",
    "\n",
    "# use to get reproducible results\n",
    "from ltr.utils import seed\n",
    "seed(42)"
   ]
  },
  {
   "cell_type": "markdown",
   "metadata": {
    "nbgrader": {
     "grade": false,
     "grade_id": "cell-ef602d983baa9d90",
     "locked": true,
     "schema_version": 3,
     "solution": false,
     "task": false
    }
   },
   "source": [
    "# Chapter 1: Offline LTR <a class=\"anchor\" id=\"o_LTR\"></a>"
   ]
  },
  {
   "cell_type": "markdown",
   "metadata": {
    "nbgrader": {
     "grade": false,
     "grade_id": "cell-9978e0796016b961",
     "locked": true,
     "schema_version": 3,
     "solution": false,
     "task": false
    }
   },
   "source": [
    "A typical setup of learning to rank involves a feature vector constructed using a query-document pair, and a set of relevance judgements. In this assignment, you are given a small dataset that consists of number of queries with their corresponding list of documents. As the first step, you need to extract features for this dataset, and then use them in order to perform learninig-to-rank with different loss functions. In particular, the information about each of the files in this dataset is as follows:\n",
    "\n",
    "    - `collection.tsv`: Each line consists of _document ID_ and the _document text_\n",
    "    - `queries.tsv`: Each line consists of _query ID_ and the _query text_\n",
    "    - `(train/dev/test)_pairs_graded.tsv`: Each line consists of _query ID_, _document ID_, _relevance score_; where relevance grade is an *ordinal* variable  with  5  grades,  for example: {`perfect`,`excellent`,`good`,`fair`,`bad`).\n"
   ]
  },
  {
   "cell_type": "markdown",
   "metadata": {
    "nbgrader": {
     "grade": false,
     "grade_id": "cell-d60b3e2cd8d41210",
     "locked": true,
     "schema_version": 3,
     "solution": false,
     "task": false
    }
   },
   "source": [
    "## Section 1: Feature Extraction <a class=\"anchor\" id=\"dataU\"></a>\n",
    "\n",
    "[Back to TOC](#top)\n",
    "\n",
    "The following cell contains the path of raw dataset files and a file with the list of stop words. \n",
    "\n"
   ]
  },
  {
   "cell_type": "code",
   "execution_count": 3,
   "metadata": {},
   "outputs": [],
   "source": [
    "# IMPORTANT: DO NOT CHANGE ANY OF THE FILE PATHS.\n",
    "\n",
    "COLLECTION_PATH = \"./data/collection.tsv\"\n",
    "QUERIES_PATH = \"./data/queries.tsv\"\n",
    "TRAIN_PATH = \"./data/train_pairs_graded.tsv\"\n",
    "DEV_PATH = \"./data/dev_pairs_graded.tsv\"\n",
    "TEST_PATH = \"./data/test_pairs_graded.tsv\"\n",
    "STOP_WORDS_PATH = \"./data/common_words\""
   ]
  },
  {
   "cell_type": "markdown",
   "metadata": {},
   "source": [
    "First, you need to preprocess query and document texts and extract term based statistics for documents."
   ]
  },
  {
   "cell_type": "code",
   "execution_count": 4,
   "metadata": {},
   "outputs": [],
   "source": [
    "from ltr.dataset import Documents, Queries, Preprocess\n",
    "prp = Preprocess(STOP_WORDS_PATH)\n",
    "\n",
    "queries = Queries(prp)\n",
    "queries.preprocess_queries(QUERIES_PATH)"
   ]
  },
  {
   "cell_type": "markdown",
   "metadata": {},
   "source": [
    "In the next cell, you will use `Documents` class to extract document term-based stats, as this process might take longer, `if` statement and  `RESET` allows you to skip this step after the first time.\n",
    "\n",
    "ToDo: \n",
    "\n",
    "Complete the implementation of `process_documents` function. you can find the implemenation in `ltr.dataset`."
   ]
  },
  {
   "cell_type": "code",
   "execution_count": 5,
   "metadata": {},
   "outputs": [],
   "source": [
    "# IMPORTANT: DO NOT CHANGE DOC_JSON PATH\n",
    "DOC_JSON = \"./datasets/doc.pickle\"\n",
    "import os\n",
    "import pickle\n",
    "RESET = False\n",
    "if os.path.exists(DOC_JSON) and not RESET:\n",
    "    with open(DOC_JSON, \"rb\") as file:\n",
    "        documents = pickle.load(file)\n",
    "else:\n",
    "    documents = Documents(prp)\n",
    "    documents.process_documents(COLLECTION_PATH)\n",
    "    with open(DOC_JSON, \"wb\") as file:\n",
    "        pickle.dump(documents, file)"
   ]
  },
  {
   "cell_type": "markdown",
   "metadata": {},
   "source": [
    "The class `FeatureExtraction` in `ltr.dataset` is defined for extracting features. This class includes a class `extract` method, that will extract predefined features for each query-document pair. The other class, `GenerateFeatures` is already implemented to allow for reading lines of `(train\\dev\\test)_pairs_graded.tsv` files one by one, extract the features, and write them in the `(train\\dev\\test)_pairs_graded.tsv`. The `FeatureExtraction` class has the following property: `features` that is a `dict` with feature names as the keys and their values as dictionary values. The list of features that you have to implement can be found in `__feature_list__` inside `ltr.dataset` and also listed in `README.md` file."
   ]
  },
  {
   "cell_type": "code",
   "execution_count": 6,
   "metadata": {},
   "outputs": [],
   "source": [
    "# IMPORTANT: DO NOT CHANGE `args` VALUES FOR BM25 CALCULATION\n",
    "N_FEATURES = 17\n",
    "\n",
    "from ltr.dataset import FeatureExtraction, GenerateFeatures\n",
    "\n",
    "feature_ex = FeatureExtraction({}, documents, queries)\n",
    "\n",
    "feat_gen = GenerateFeatures(feature_ex)\n",
    "args = {}\n",
    "args[\"k1\"] = 1.5\n",
    "args[\"b\"] = 0.75\n",
    "args[\"idf_smoothing\"] = 0.5"
   ]
  },
  {
   "cell_type": "markdown",
   "metadata": {},
   "source": [
    "ToDo: \n",
    "\n",
    "Implement method `extract` in `ltr.dataset.FeatureExtraction`. This method should return a dictionary with feature names as the keys and their values as dictionary values. This method is called inside `run` method of `GenerateFeatures` class. You can pass any required arguments through `args`. For instance, as defined in the previous cell, you can pass `k1` and `b` as BM25 arguments through `args`."
   ]
  },
  {
   "cell_type": "code",
   "execution_count": 7,
   "metadata": {},
   "outputs": [
    {
     "name": "stderr",
     "output_type": "stream",
     "text": [
      "255it [00:00, 572.77it/s]"
     ]
    },
    {
     "name": "stderr",
     "output_type": "stream",
     "text": [
      "96985it [02:17, 705.50it/s]\n",
      "19500it [00:26, 739.67it/s]\n",
      "48127it [01:08, 700.48it/s]\n"
     ]
    }
   ],
   "source": [
    "feat_gen.run(TRAIN_PATH, TRAIN_PATH+'g', **args)\n",
    "feat_gen.run(DEV_PATH, DEV_PATH+'g', **args)\n",
    "feat_gen.run(TEST_PATH, TEST_PATH+'g', **args)"
   ]
  },
  {
   "cell_type": "markdown",
   "metadata": {},
   "source": [
    "The `DataSet` class will read the generated feature files for train/valid/test splits and you can use them for training LTR models with different ranking loss functions."
   ]
  },
  {
   "cell_type": "code",
   "execution_count": 8,
   "metadata": {},
   "outputs": [],
   "source": [
    "#IMPORTANT: DO NOT CHANGE THE `fold_paths`\n",
    "from ltr.dataset import DataSet\n",
    "\n",
    "fold_paths = [\"./data/\"]\n",
    "num_relevance_labels = 5\n",
    "num_nonzero_feat = N_FEATURES\n",
    "num_unique_feat = N_FEATURES\n",
    "data = DataSet(\n",
    "        \"ir1-2023\",\n",
    "        fold_paths,\n",
    "        num_relevance_labels,\n",
    "        num_unique_feat,\n",
    "        num_nonzero_feat)\n",
    "\n",
    "data = data.get_data_folds()[0]\n",
    "data.read_data()"
   ]
  },
  {
   "cell_type": "code",
   "execution_count": 9,
   "metadata": {
    "nbgrader": {
     "grade": false,
     "grade_id": "cell-2a79356db5683374",
     "locked": true,
     "schema_version": 3,
     "solution": false,
     "task": false
    }
   },
   "outputs": [
    {
     "name": "stdout",
     "output_type": "stream",
     "text": [
      "Number of features: 17\n",
      "Split: train\n",
      "\tNumber of queries 961\n",
      "\tNumber of docs 89506\n",
      "Split: validation\n",
      "\tNumber of queries 195\n",
      "\tNumber of docs 19500\n",
      "Split: test\n",
      "\tNumber of queries 483\n",
      "\tNumber of docs 48127\n"
     ]
    }
   ],
   "source": [
    "print(f\"Number of features: {data.num_features}\")\n",
    "# print some statistics\n",
    "for split in [\"train\", \"validation\", \"test\"]:\n",
    "    print(f\"Split: {split}\")\n",
    "    split = getattr(data, split)\n",
    "    print(f\"\\tNumber of queries {split.num_queries()}\")\n",
    "    print(f\"\\tNumber of docs {split.num_docs()}\")"
   ]
  },
  {
   "cell_type": "markdown",
   "metadata": {
    "nbgrader": {
     "grade": false,
     "grade_id": "cell-5b034476f52f28bb",
     "locked": true,
     "schema_version": 3,
     "solution": false,
     "task": false
    }
   },
   "source": [
    "### Section 1.2 Utility classes/methods\n",
    "\n",
    "You can use `LTRData` class in this assignment that is defined in `ltr.dataset`. "
   ]
  },
  {
   "cell_type": "code",
   "execution_count": 10,
   "metadata": {
    "nbgrader": {
     "grade": false,
     "grade_id": "cell-6be5d30fd0264dc3",
     "locked": true,
     "schema_version": 3,
     "solution": false,
     "task": false
    }
   },
   "outputs": [
    {
     "name": "stdout",
     "output_type": "stream",
     "text": [
      "tensor([[6.0000e+00, 2.0000e+00, 4.7000e+01, 2.0747e+01, 1.2766e-01, 4.2553e-02,\n",
      "         4.2553e-02, 4.2553e-02, 0.0000e+00, 4.1494e+01, 1.2672e+01, 1.5404e+01,\n",
      "         1.3831e+01, 1.3297e+00, 1.0730e+00, 1.0894e+00, 2.8469e+01],\n",
      "        [2.0000e+00, 6.6667e-01, 6.6000e+01, 2.0747e+01, 3.0303e-02, 0.0000e+00,\n",
      "         1.5152e-02, 1.0101e-02, 5.1015e-05, 1.4411e+01, 0.0000e+00, 7.7022e+00,\n",
      "         4.8035e+00, 1.1702e+01, 2.3500e-01, 2.2121e-01, 1.1413e+01],\n",
      "        [4.0000e+00, 1.3333e+00, 3.5000e+01, 2.0747e+01, 1.1429e-01, 0.0000e+00,\n",
      "         5.7143e-02, 3.8095e-02, 7.2562e-04, 2.8821e+01, 0.0000e+00, 1.5404e+01,\n",
      "         9.6071e+00, 4.6806e+01, 1.5069e+00, 8.6571e-01, 2.1704e+01],\n",
      "        [3.0000e+00, 1.0000e+00, 2.8000e+01, 2.0747e+01, 1.0714e-01, 0.0000e+00,\n",
      "         1.0714e-01, 3.5714e-02, 2.5510e-03, 2.0125e+01, 0.0000e+00, 2.0125e+01,\n",
      "         6.7085e+00, 9.0008e+01, 6.8393e-01, 3.4643e-01, 1.2180e+01],\n",
      "        [3.0000e+00, 1.0000e+00, 3.1000e+01, 2.0747e+01, 9.6774e-02, 0.0000e+00,\n",
      "         9.6774e-02, 3.2258e-02, 2.0812e-03, 1.9009e+01, 0.0000e+00, 1.9009e+01,\n",
      "         6.3362e+00, 8.0295e+01, 2.2274e+00, 2.1032e+00, 1.1283e+01],\n",
      "        [2.0000e+00, 6.6667e-01, 3.2000e+01, 2.0747e+01, 6.2500e-02, 0.0000e+00,\n",
      "         6.2500e-02, 2.0833e-02, 8.6806e-04, 1.3417e+01, 0.0000e+00, 1.3417e+01,\n",
      "         4.4723e+00, 4.0003e+01, 9.0500e-01, 1.0219e+00, 1.0356e+01],\n",
      "        [3.0000e+00, 1.0000e+00, 1.5000e+01, 2.0747e+01, 2.0000e-01, 0.0000e+00,\n",
      "         2.0000e-01, 6.6667e-02, 8.8889e-03, 1.9009e+01, 0.0000e+00, 1.9009e+01,\n",
      "         6.3362e+00, 8.0295e+01, 1.9467e+00, 1.5667e+00, 1.2572e+01],\n",
      "        [2.0000e+00, 6.6667e-01, 2.8000e+01, 2.0747e+01, 7.1429e-02, 0.0000e+00,\n",
      "         7.1429e-02, 2.3810e-02, 1.1338e-03, 1.3417e+01, 0.0000e+00, 1.3417e+01,\n",
      "         4.4723e+00, 4.0003e+01, 8.8179e-01, 7.8929e-01, 1.0713e+01],\n",
      "        [2.0000e+00, 6.6667e-01, 3.4000e+01, 2.0747e+01, 5.8824e-02, 0.0000e+00,\n",
      "         5.8824e-02, 1.9608e-02, 7.6894e-04, 1.3417e+01, 0.0000e+00, 1.3417e+01,\n",
      "         4.4723e+00, 4.0003e+01, 1.1712e+00, 3.3235e-01, 1.0186e+01],\n",
      "        [3.0000e+00, 1.0000e+00, 4.2000e+01, 2.0747e+01, 7.1429e-02, 0.0000e+00,\n",
      "         7.1429e-02, 2.3810e-02, 1.1338e-03, 2.0125e+01, 0.0000e+00, 2.0125e+01,\n",
      "         6.7085e+00, 9.0008e+01, 1.6533e+00, 1.0071e+00, 1.1159e+01],\n",
      "        [9.0000e+00, 3.0000e+00, 5.0000e+01, 2.0747e+01, 1.8000e-01, 0.0000e+00,\n",
      "         1.0000e-01, 6.0000e-02, 1.8667e-03, 6.5345e+01, 0.0000e+00, 3.8511e+01,\n",
      "         2.1782e+01, 2.5994e+02, 1.0176e+00, 5.6200e-01, 2.6035e+01],\n",
      "        [2.0000e+00, 6.6667e-01, 3.1000e+01, 2.0747e+01, 6.4516e-02, 0.0000e+00,\n",
      "         6.4516e-02, 2.1505e-02, 9.2496e-04, 1.2672e+01, 0.0000e+00, 1.2672e+01,\n",
      "         4.2241e+00, 3.5686e+01, 1.9694e+00, 1.4032e+00, 9.8638e+00],\n",
      "        [2.0000e+00, 6.6667e-01, 3.8000e+01, 2.0747e+01, 5.2632e-02, 0.0000e+00,\n",
      "         5.2632e-02, 1.7544e-02, 6.1557e-04, 1.5404e+01, 0.0000e+00, 1.5404e+01,\n",
      "         5.1348e+00, 5.2732e+01, 8.1316e-01, 2.4474e-01, 1.1324e+01],\n",
      "        [2.0000e+00, 6.6667e-01, 2.7000e+01, 2.0747e+01, 7.4074e-02, 0.0000e+00,\n",
      "         7.4074e-02, 2.4691e-02, 1.2193e-03, 1.3417e+01, 0.0000e+00, 1.3417e+01,\n",
      "         4.4723e+00, 4.0003e+01, 8.9741e-01, 3.0370e-01, 1.0807e+01],\n",
      "        [2.0000e+00, 6.6667e-01, 2.1000e+01, 2.0747e+01, 9.5238e-02, 0.0000e+00,\n",
      "         9.5238e-02, 3.1746e-02, 2.0156e-03, 1.2672e+01, 0.0000e+00, 1.2672e+01,\n",
      "         4.2241e+00, 3.5686e+01, 3.1443e+00, 2.5143e+00, 1.0769e+01],\n",
      "        [4.0000e+00, 1.3333e+00, 3.7000e+01, 2.0747e+01, 1.0811e-01, 0.0000e+00,\n",
      "         1.0811e-01, 3.6036e-02, 2.5972e-03, 2.5345e+01, 0.0000e+00, 2.5345e+01,\n",
      "         8.4482e+00, 1.4275e+02, 2.7270e+00, 1.9351e+00, 1.1791e+01],\n",
      "        [4.0000e+00, 1.3333e+00, 2.4000e+01, 2.0747e+01, 1.6667e-01, 0.0000e+00,\n",
      "         1.6667e-01, 5.5556e-02, 6.1728e-03, 2.6834e+01, 0.0000e+00, 2.6834e+01,\n",
      "         8.9446e+00, 1.6001e+02, 8.5208e-01, 5.6250e-01, 1.3356e+01],\n",
      "        [5.0000e+00, 1.6667e+00, 4.7000e+01, 2.0747e+01, 1.0638e-01, 0.0000e+00,\n",
      "         1.0638e-01, 3.5461e-02, 2.5150e-03, 3.1681e+01, 0.0000e+00, 3.1681e+01,\n",
      "         1.0560e+01, 2.2304e+02, 1.5757e+00, 1.3681e+00, 1.1921e+01],\n",
      "        [3.0000e+00, 1.0000e+00, 4.3000e+01, 2.0747e+01, 6.9767e-02, 0.0000e+00,\n",
      "         4.6512e-02, 2.3256e-02, 3.6056e-04, 2.2113e+01, 0.0000e+00, 1.5404e+01,\n",
      "         7.3709e+00, 3.9768e+01, 1.4870e+00, 1.0628e+00, 1.7506e+01],\n",
      "        [2.0000e+00, 6.6667e-01, 4.7000e+01, 2.0747e+01, 4.2553e-02, 0.0000e+00,\n",
      "         4.2553e-02, 1.4184e-02, 4.0239e-04, 1.5404e+01, 0.0000e+00, 1.5404e+01,\n",
      "         5.1348e+00, 5.2732e+01, 9.0830e-01, 3.8085e-01, 1.0569e+01],\n",
      "        [2.0000e+00, 6.6667e-01, 2.3000e+01, 2.0747e+01, 8.6957e-02, 0.0000e+00,\n",
      "         8.6957e-02, 2.8986e-02, 1.6803e-03, 1.2672e+01, 0.0000e+00, 1.2672e+01,\n",
      "         4.2241e+00, 3.5686e+01, 1.9183e+00, 1.2522e+00, 1.0575e+01],\n",
      "        [3.0000e+00, 1.0000e+00, 6.5000e+01, 2.0747e+01, 4.6154e-02, 0.0000e+00,\n",
      "         3.0769e-02, 1.5385e-02, 1.5779e-04, 2.1119e+01, 0.0000e+00, 1.3417e+01,\n",
      "         7.0397e+00, 3.0222e+01, 1.2694e+00, 5.6154e-01, 1.4275e+01],\n",
      "        [3.0000e+00, 1.0000e+00, 4.2000e+01, 2.0747e+01, 7.1429e-02, 0.0000e+00,\n",
      "         7.1429e-02, 2.3810e-02, 1.1338e-03, 2.0125e+01, 0.0000e+00, 2.0125e+01,\n",
      "         6.7085e+00, 9.0008e+01, 1.0957e+00, 6.6667e-01, 1.1159e+01],\n",
      "        [2.0000e+00, 6.6667e-01, 2.3000e+01, 2.0747e+01, 8.6957e-02, 0.0000e+00,\n",
      "         8.6957e-02, 2.8986e-02, 1.6803e-03, 1.3417e+01, 0.0000e+00, 1.3417e+01,\n",
      "         4.4723e+00, 4.0003e+01, 7.1435e-01, 2.0435e-01, 1.1196e+01],\n",
      "        [2.0000e+00, 6.6667e-01, 2.1000e+01, 2.0747e+01, 9.5238e-02, 0.0000e+00,\n",
      "         9.5238e-02, 3.1746e-02, 2.0156e-03, 1.3417e+01, 0.0000e+00, 1.3417e+01,\n",
      "         4.4723e+00, 4.0003e+01, 7.2762e-01, 2.9524e-01, 1.1402e+01],\n",
      "        [2.0000e+00, 6.6667e-01, 2.9000e+01, 2.0747e+01, 6.8966e-02, 0.0000e+00,\n",
      "         6.8966e-02, 2.2989e-02, 1.0569e-03, 1.3417e+01, 0.0000e+00, 1.3417e+01,\n",
      "         4.4723e+00, 4.0003e+01, 1.5945e+00, 1.1069e+00, 1.0622e+01],\n",
      "        [4.0000e+00, 1.3333e+00, 3.6000e+01, 2.0747e+01, 1.1111e-01, 0.0000e+00,\n",
      "         1.1111e-01, 3.7037e-02, 2.7435e-03, 2.6834e+01, 0.0000e+00, 2.6834e+01,\n",
      "         8.9446e+00, 1.6001e+02, 8.3083e-01, 8.5278e-01, 1.2547e+01],\n",
      "        [2.0000e+00, 6.6667e-01, 3.9000e+01, 2.0747e+01, 5.1282e-02, 0.0000e+00,\n",
      "         2.5641e-02, 1.7094e-02, 1.4610e-04, 1.4411e+01, 0.0000e+00, 7.7022e+00,\n",
      "         4.8035e+00, 1.1702e+01, 1.3156e+00, 1.1000e+00, 1.4839e+01],\n",
      "        [3.0000e+00, 1.0000e+00, 3.6000e+01, 2.0747e+01, 8.3333e-02, 0.0000e+00,\n",
      "         8.3333e-02, 2.7778e-02, 1.5432e-03, 1.9009e+01, 0.0000e+00, 1.9009e+01,\n",
      "         6.3362e+00, 8.0295e+01, 2.0339e+00, 1.5556e+00, 1.0932e+01],\n",
      "        [3.0000e+00, 1.0000e+00, 5.0000e+01, 2.0747e+01, 6.0000e-02, 0.0000e+00,\n",
      "         6.0000e-02, 2.0000e-02, 8.0000e-04, 2.0125e+01, 0.0000e+00, 2.0125e+01,\n",
      "         6.7085e+00, 9.0008e+01, 7.6520e-01, 4.1600e-01, 1.0649e+01],\n",
      "        [3.0000e+00, 1.0000e+00, 5.1000e+01, 2.0747e+01, 5.8824e-02, 0.0000e+00,\n",
      "         3.9216e-02, 1.9608e-02, 2.5631e-04, 2.2113e+01, 0.0000e+00, 1.5404e+01,\n",
      "         7.3709e+00, 3.9768e+01, 1.3941e+00, 7.5490e-01, 1.6359e+01],\n",
      "        [4.0000e+00, 1.3333e+00, 2.0000e+01, 2.0747e+01, 2.0000e-01, 0.0000e+00,\n",
      "         2.0000e-01, 6.6667e-02, 8.8889e-03, 2.5345e+01, 0.0000e+00, 2.5345e+01,\n",
      "         8.4482e+00, 1.4275e+02, 1.8045e+00, 1.6150e+00, 1.2892e+01]]) tensor([4., 1., 2., 0., 0., 0., 0., 0., 0., 0., 1., 0., 0., 0., 0., 0., 0., 0.,\n",
      "        0., 0., 0., 3., 0., 0., 0., 0., 0., 3., 0., 0., 4., 0.])\n"
     ]
    }
   ],
   "source": [
    "from ltr.dataset import LTRData\n",
    "## example \n",
    "train_dl = DataLoader(LTRData(data, \"train\"), batch_size=32, shuffle=False)\n",
    "# this is how you would use it to quickly iterate over the train/val/test sets \n",
    "# - (of course, without the break statement!)\n",
    "for (x, y) in train_dl:\n",
    "    print(x, y)\n",
    "    break"
   ]
  },
  {
   "cell_type": "markdown",
   "metadata": {
    "nbgrader": {
     "grade": false,
     "grade_id": "cell-a79c0f58db4af010",
     "locked": true,
     "schema_version": 3,
     "solution": false,
     "task": false
    }
   },
   "source": [
    "You can use `evaluate_model` from `ltr.eval` to evaluate a model, on a given split."
   ]
  },
  {
   "cell_type": "code",
   "execution_count": 11,
   "metadata": {
    "nbgrader": {
     "grade": false,
     "grade_id": "cell-66bc9b1a832d14d0",
     "locked": true,
     "schema_version": 3,
     "solution": false,
     "task": false
    }
   },
   "outputs": [
    {
     "name": "stderr",
     "output_type": "stream",
     "text": [
      "                                                         \r"
     ]
    },
    {
     "name": "stdout",
     "output_type": "stream",
     "text": [
      "\"metric\": \"mean\" (\"standard deviation\")\n",
      "dcg: 9.5070 (11.40018)\n",
      "dcg@03: 4.1789 (7.34274)\n",
      "dcg@05: 4.4651 (7.56729)\n",
      "dcg@10: 4.9245 (8.27616)\n",
      "dcg@20: 5.4393 (9.05140)\n",
      "ndcg: 0.3860 (0.28722)\n",
      "ndcg@03: 0.2110 (0.35506)\n",
      "ndcg@05: 0.2125 (0.34552)\n",
      "ndcg@10: 0.2232 (0.34467)\n",
      "ndcg@20: 0.2342 (0.34806)\n",
      "precision@01: 0.2253 (0.41776)\n",
      "precision@03: 0.1190 (0.21224)\n",
      "precision@05: 0.0813 (0.13900)\n",
      "precision@10: 0.0522 (0.09705)\n",
      "precision@20: 0.0332 (0.06361)\n",
      "recall@01: 0.1369 (0.29952)\n",
      "recall@03: 0.1884 (0.35005)\n",
      "recall@05: 0.2153 (0.36859)\n",
      "recall@10: 0.2461 (0.38594)\n",
      "recall@20: 0.2769 (0.40497)\n",
      "relevant rank: 47.5329 (32.95382)\n",
      "relevant rank per query: 115.1758 (154.51108)\n"
     ]
    }
   ],
   "source": [
    "from ltr.eval import evaluate_model\n",
    "## example \n",
    "# function that scores a given feature vector e.g a network\n",
    "net = nn.Linear(N_FEATURES, 1)\n",
    "# the evaluate method accepts a function. more specifically, a callable (such as pytorch modules) \n",
    "def notwork(x):\n",
    "    return net(x)\n",
    "# evaluate the function\n",
    "_ = evaluate_model(data, notwork, split=\"validation\", print_results=True)"
   ]
  },
  {
   "cell_type": "markdown",
   "metadata": {
    "nbgrader": {
     "grade": false,
     "grade_id": "cell-66ae15ed8cb736b5",
     "locked": true,
     "schema_version": 3,
     "solution": false,
     "task": false
    }
   },
   "source": [
    "The next cell is used to generate reproducible results:"
   ]
  },
  {
   "cell_type": "markdown",
   "metadata": {
    "nbgrader": {
     "grade": false,
     "grade_id": "cell-a29483034efce729",
     "locked": true,
     "schema_version": 3,
     "solution": false,
     "task": false
    }
   },
   "source": [
    "## Section 2: Pointwise LTR <a class=\"anchor\" id=\"pointwiseLTR\"></a>\n",
    "\n",
    "[Back to TOC](#top)\n",
    "\n",
    "Let $x \\in \\mathbb{R}^d$ be an input feature vector, containing features for a query-document pair. Let $f: \\mathbb{R}^d \\rightarrow \\mathbb{R} $ be a function that maps this feature vector to a number $f(x)$ - either a relevance score (regression) or label (classification). The data $\\{x \\}$ are treated as feature vectors and the relevance judgements are treated as the target which we want to predict. \n",
    "\n",
    "In this section, you will implement a simple Pointwise model using either a regression loss, and use the train set to train this model to predict the relevance score. \n"
   ]
  },
  {
   "cell_type": "markdown",
   "metadata": {
    "nbgrader": {
     "grade": false,
     "grade_id": "cell-fdcb0b1bd78f6eda",
     "locked": true,
     "schema_version": 3,
     "solution": false,
     "task": false
    }
   },
   "source": [
    "### Section 2.1: Neural Model\n",
    "\n",
    "\n",
    "\\# ToDO:\n",
    "Implement the following methods for the Class `LTRModel` in `ltr.model`:\n",
    "  - `__init__`\n",
    "  - `forward`\n",
    "\n",
    "We will use this neural network to learn a LTR model with different loss functions(Pointwise, Pairwise, Listwise), using the relevance grades as the label. This network should have the following attribute:\n",
    "  - `layers`: $N_FEATURES (input) \\rightarrow 10 \\rightarrow 1$ where each layer is a linear layer (`nn.Linear`) with a ReLu activation function (`nn.ReLU`) in between the layers. Use the default weight initialization scheme. (Hint: use `nn.Sequential` for a one-line forward function!)"
   ]
  },
  {
   "cell_type": "code",
   "execution_count": 12,
   "metadata": {
    "nbgrader": {
     "grade": false,
     "grade_id": "cell-917f63ec6b575f59",
     "locked": true,
     "schema_version": 3,
     "solution": false,
     "task": false
    }
   },
   "outputs": [
    {
     "name": "stdout",
     "output_type": "stream",
     "text": [
      "LTRModel(\n",
      "  (layers): Sequential(\n",
      "    (0): Linear(in_features=17, out_features=10, bias=True)\n",
      "    (1): ReLU()\n",
      "    (2): Linear(in_features=10, out_features=1, bias=True)\n",
      "  )\n",
      ")\n"
     ]
    }
   ],
   "source": [
    "from ltr.model import LTRModel\n",
    " \n",
    "# check the network configuration - layer dimensions and configurations\n",
    "point_nn_reg = LTRModel(data.num_features)\n",
    "print(point_nn_reg)\n"
   ]
  },
  {
   "cell_type": "markdown",
   "metadata": {
    "nbgrader": {
     "grade": false,
     "grade_id": "cell-d683efd6ca306e81",
     "locked": true,
     "schema_version": 3,
     "solution": false,
     "task": false
    }
   },
   "source": [
    "\\#ToDo:\n",
    "Implement regression loss in `pointwise_loss` function. You can find the definition in `ltr.ltr`."
   ]
  },
  {
   "cell_type": "markdown",
   "metadata": {
    "nbgrader": {
     "grade": false,
     "grade_id": "cell-0977a61ec0cfa7ed",
     "locked": true,
     "schema_version": 3,
     "solution": false,
     "task": false
    }
   },
   "source": [
    "\\# ToDO:\n",
    "Implement `train_pointwise` function in `ltr.ltr` as a wrapper for training a pointwise LTR, that takes the model as input and trains the model."
   ]
  },
  {
   "cell_type": "code",
   "execution_count": 13,
   "metadata": {},
   "outputs": [
    {
     "name": "stderr",
     "output_type": "stream",
     "text": [
      "                                                         \r"
     ]
    }
   ],
   "source": [
    "from ltr.loss import pointwise_loss\n",
    "from ltr.train import train_pointwise\n",
    "\n",
    "# Change this to test your code!\n",
    "pointwise_test_params = Namespace(epochs=2, \n",
    "                    lr=1e-3,\n",
    "                    batch_size=256,\n",
    "                   metrics={\"ndcg\"})\n",
    "# uncomment to test your code\n",
    "## train a regression model\n",
    "met_reg = train_pointwise(point_nn_reg, pointwise_test_params, data)"
   ]
  },
  {
   "cell_type": "markdown",
   "metadata": {
    "nbgrader": {
     "grade": false,
     "grade_id": "cell-16ed543545863f61",
     "locked": true,
     "schema_version": 3,
     "solution": false,
     "task": false
    }
   },
   "source": [
    "The function `create_results` is defined in `ltr.utils` to create the results. It could be used  to generate your results:"
   ]
  },
  {
   "cell_type": "code",
   "execution_count": 14,
   "metadata": {
    "nbgrader": {
     "grade": false,
     "grade_id": "cell-cb8314e4e579adac",
     "locked": true,
     "schema_version": 3,
     "solution": false,
     "task": false
    },
    "scrolled": true
   },
   "outputs": [
    {
     "name": "stdout",
     "output_type": "stream",
     "text": [
      "Training Model\n"
     ]
    },
    {
     "name": "stderr",
     "output_type": "stream",
     "text": [
      "                                                                 \r"
     ]
    },
    {
     "name": "stdout",
     "output_type": "stream",
     "text": [
      "\"metric\": \"mean\" (\"standard deviation\")\n",
      "dcg: 17.5062 (13.84711)\n",
      "dcg@03: 13.3816 (8.64736)\n",
      "dcg@05: 14.2244 (9.37051)\n",
      "dcg@10: 15.3466 (10.71336)\n",
      "dcg@20: 16.1481 (11.94413)\n",
      "ndcg: 0.7977 (0.25651)\n",
      "ndcg@03: 0.7174 (0.36339)\n",
      "ndcg@05: 0.7220 (0.34280)\n",
      "ndcg@10: 0.7436 (0.31726)\n",
      "ndcg@20: 0.7594 (0.29955)\n",
      "precision@01: 0.7439 (0.43649)\n",
      "precision@03: 0.3912 (0.26061)\n",
      "precision@05: 0.2673 (0.19848)\n",
      "precision@10: 0.1595 (0.14624)\n",
      "precision@20: 0.0914 (0.09854)\n",
      "recall@01: 0.5384 (0.43021)\n",
      "recall@03: 0.7093 (0.38978)\n",
      "recall@05: 0.7546 (0.36155)\n",
      "recall@10: 0.8159 (0.32544)\n",
      "recall@20: 0.8726 (0.27834)\n",
      "relevant rank: 14.5375 (22.55292)\n",
      "relevant rank per query: 34.0935 (90.81418)\n"
     ]
    }
   ],
   "source": [
    "# # IMPORTANT DO NOT CHANGE seed, params, or any of the PATH variables\n",
    "from ltr.utils import create_results\n",
    "\n",
    "seed(42)\n",
    "\n",
    "params_regr = Namespace(epochs=11, \n",
    "                    lr=1e-3,\n",
    "                    batch_size=1,\n",
    "                    metrics={\"ndcg\", \"precision@05\", \"recall@05\"})\n",
    "\n",
    "pointwise_regression_model = LTRModel(data.num_features)\n",
    "pw_regr = create_results(data, pointwise_regression_model, \n",
    "                          train_pointwise, \n",
    "                          pointwise_regression_model,\n",
    "                          \"./outputs/pointwise_res.json\",\n",
    "                          params_regr)\n",
    "\n",
    "torch.save(pointwise_regression_model.state_dict(), \"./outputs/pointwise_model\")"
   ]
  },
  {
   "cell_type": "markdown",
   "metadata": {
    "nbgrader": {
     "grade": false,
     "grade_id": "cell-e48bb26c37eacea9",
     "locked": true,
     "schema_version": 3,
     "solution": false,
     "task": false
    }
   },
   "source": [
    "## Section 3: Pairwise LTR <a class=\"anchor\" id=\"pairwiseLTR\"></a>\n",
    "\n",
    "[Back to TOC](#top)\n",
    "\n",
    "In this section,  you will learn and implement RankNet, a  pairwise learning to rank algorithm.\n",
    "\n",
    "For a given query, consider two documents $D_i$ and $D_j$ with two different ground truth relevance  labels,  with  feature  vectors $x_i$ and $x_j$ respectively.   The  RankNet  model,  just  like  the pointwise model, uses $f$ to predict scores i.e $s_i=f(x_i)$ and $s_j=f(x_j)$, but uses a different loss during  training. $D_i \\triangleright D_j$ denotes  the  event  that $D_i$ should  be  ranked  higher  than $D_j$.   The  two outputs $s_i$ and $s_j$ are mapped to a learned probability that $D_i \\triangleright D_j$: \n",
    "\n",
    "\n",
    "$$        P_{ij} = \\frac{1}{1 + e^{-\\sigma(s_i - s_j)}} $$\n",
    "  \n",
    "where $\\sigma$ is a parameter that determines the shape of the sigmoid. The loss of the RankNet model is the cross entropy cost function:\n",
    "\n",
    "$$        C = - \\bar{P}_{ij} \\log P_{ij} - (1-\\bar{P}_{ij}) \\log (1 - P_{ij}) $$\n",
    "\n",
    "As the name suggests, in the pairwise approach to LTR, we optimize a loss $l$ over pairs of documents. Let $S_{ij} \\in \\{0, \\pm1 \\}$ be equal to $1$ if the relevance of document $i$ is greater than document $j$; $-1$ if document $j$ is more relevant than document $i$; and 0 if they have the same relevance. This gives us $\\bar{P}_{ij} = \\frac{1}{2} (1 + S_{ij})$ so that $\\bar{P}_{ij} = 1$ if $D_i \\triangleright D_j$; $\\bar{P}_{ij} = 0$ if $D_j \\triangleright D_i$; and finally $\\bar{P}_{ij} = \\frac{1}{2}$ if the relevance is identical. This gives us:\n",
    "\n",
    "$$        C = \\frac{1}{2}(1- S_{ij})\\sigma(s_i - s_j) + \\log(1+ e^{-\\sigma(s_i - s_j)}) $$\n",
    "\n",
    "Now, consider a single query for which $n$ documents have been returned. Let the output scores of the ranker be $s_j$ ; $j=\\{1, \\dots, n \\}$, the model parameters be $w_k \\in \\mathbb{R}^W$, and let the set of pairs of document indices used for training be $\\mathcal{P}$. Then, the total cost is $C_T = \\sum_{i,j \\in \\mathcal{P}} C(s_i; s_j)$. \n",
    "\n",
    "\n",
    "\n",
    "- Implement RankNet. You should construct training samples by creating all possible pairs of documents for a given query and optimizing the loss above.\n",
    "- Use the same model architecture as in pointwise LTR."
   ]
  },
  {
   "cell_type": "markdown",
   "metadata": {
    "nbgrader": {
     "grade": false,
     "grade_id": "cell-5359ecd282448c2a",
     "locked": true,
     "schema_version": 3,
     "solution": false,
     "task": false
    }
   },
   "source": [
    "For the pairwise loss, we need to have a structured **dataloader** which detects the documents associated with a specific query. The class `QueryGroupedLTRData` is defined in `ltr.dataset` for this end."
   ]
  },
  {
   "cell_type": "code",
   "execution_count": 15,
   "metadata": {
    "nbgrader": {
     "grade": false,
     "grade_id": "cell-0009b5254fc5f2ad",
     "locked": true,
     "schema_version": 3,
     "solution": false,
     "task": false
    }
   },
   "outputs": [
    {
     "name": "stdout",
     "output_type": "stream",
     "text": [
      "Query 300 has 100 query-document pairs\n",
      "Shape of features for Query 300: torch.Size([100, 17])\n",
      "Shape of labels for Query 300: torch.Size([100])\n"
     ]
    }
   ],
   "source": [
    "\n",
    "from ltr.dataset import QueryGroupedLTRData\n",
    "    \n",
    "## example\n",
    "train_data = QueryGroupedLTRData(data, \"train\")\n",
    "# this is how you would use it to quickly iterate over the train/val/test sets \n",
    "\n",
    "q_i = 300\n",
    "features_i, labels_i = train_data[q_i]\n",
    "print(f\"Query {q_i} has {len(features_i)} query-document pairs\")\n",
    "print(f\"Shape of features for Query {q_i}: {features_i.size()}\")\n",
    "print(f\"Shape of labels for Query {q_i}: {labels_i.size()}\")\n",
    "        "
   ]
  },
  {
   "cell_type": "markdown",
   "metadata": {
    "nbgrader": {
     "grade": false,
     "grade_id": "cell-acdb1bfcd2ec582e",
     "locked": true,
     "schema_version": 3,
     "solution": false,
     "task": false
    }
   },
   "source": [
    "#ToDO:\n",
    "\n",
    "First, implement the pairwaise loss in `pairwsie_loss` function in `ltr.loss` as described above.\n",
    "Then, implement `train_pairwise` method in `ltr.train`."
   ]
  },
  {
   "cell_type": "code",
   "execution_count": 16,
   "metadata": {
    "nbgrader": {
     "grade": true,
     "grade_id": "cell-a85b3e6ab896fd79",
     "locked": true,
     "points": 15,
     "schema_version": 3,
     "solution": false,
     "task": false
    }
   },
   "outputs": [],
   "source": [
    "from ltr.loss import pairwise_loss\n",
    "from ltr.train import train_pairwise"
   ]
  },
  {
   "cell_type": "markdown",
   "metadata": {},
   "source": [
    "Normal training with pairwise loss requires a lot of time, you can investigate normal training of LTRModel with pairwise loss by uncommenting the following cell."
   ]
  },
  {
   "cell_type": "code",
   "execution_count": 32,
   "metadata": {},
   "outputs": [
    {
     "name": "stdout",
     "output_type": "stream",
     "text": [
      "Training Model\n"
     ]
    },
    {
     "name": "stderr",
     "output_type": "stream",
     "text": [
      "                                                                 \r"
     ]
    },
    {
     "name": "stdout",
     "output_type": "stream",
     "text": [
      "\"metric\": \"mean\" (\"standard deviation\")\n",
      "dcg: 17.6799 (13.71426)\n",
      "dcg@03: 13.4508 (8.59064)\n",
      "dcg@05: 14.4003 (9.31731)\n",
      "dcg@10: 15.5678 (10.56587)\n",
      "dcg@20: 16.4408 (11.86911)\n",
      "ndcg: 0.8090 (0.24611)\n",
      "ndcg@03: 0.7240 (0.35901)\n",
      "ndcg@05: 0.7354 (0.33318)\n",
      "ndcg@10: 0.7574 (0.30713)\n",
      "ndcg@20: 0.7764 (0.28469)\n",
      "precision@01: 0.7394 (0.43895)\n",
      "precision@03: 0.3957 (0.25670)\n",
      "precision@05: 0.2731 (0.19711)\n",
      "precision@10: 0.1644 (0.14291)\n",
      "precision@20: 0.0950 (0.09923)\n",
      "recall@01: 0.5375 (0.43104)\n",
      "recall@03: 0.7180 (0.38531)\n",
      "recall@05: 0.7731 (0.35415)\n",
      "recall@10: 0.8424 (0.30271)\n",
      "recall@20: 0.9017 (0.24592)\n",
      "relevant rank: 12.4587 (19.41430)\n",
      "relevant rank per query: 29.2183 (86.77833)\n"
     ]
    }
   ],
   "source": [
    "seed(42)\n",
    "\n",
    "params = Namespace(epochs=1, lr=1e-4, batch_size=1, metrics={\"ndcg\", \"precision@05\", \"recall@05\"})\n",
    "## uncomment to test your code\n",
    "pairwise_net = LTRModel(N_FEATURES)\n",
    "\n",
    "seed(42)\n",
    "params = Namespace(epochs=10, \n",
    "                    lr=1e-3,\n",
    "                    batch_size=1,\n",
    "                    metrics={\"ndcg\", \"precision@05\", \"recall@05\"})\n",
    "pairwise_net = LTRModel(N_FEATURES)\n",
    "\n",
    "res = create_results(data, pairwise_net, \n",
    "               train_pairwise, \n",
    "               pairwise_net,\n",
    "               \"pairwise_normal_res.json\",\n",
    "               params)\n",
    "             "
   ]
  },
  {
   "cell_type": "code",
   "execution_count": 33,
   "metadata": {},
   "outputs": [
    {
     "name": "stdout",
     "output_type": "stream",
     "text": [
      "res.metrics.metrics_train [{'precision@05': (0.4315228966986156, 0.28077733695496093), 'ndcg': (0.763785797905578, 0.2007811800835804), 'recall@05': (0.5181243436736921, 0.35111715938945826)}, {'precision@05': (0.46219382321618746, 0.2757657182023343), 'ndcg': (0.7950929957120265, 0.18793976991540395), 'recall@05': (0.5497504504383847, 0.3411548587178672)}, {'precision@05': (0.4602768903088392, 0.27872432666581837), 'ndcg': (0.7922139045055171, 0.1894505028126161), 'recall@05': (0.5464015105784507, 0.342180754948883)}, {'precision@05': (0.4585729499467519, 0.2806095748476816), 'ndcg': (0.7889232986786625, 0.19129860782384853), 'recall@05': (0.5459713786792659, 0.3438820245927335)}, {'precision@05': (0.4602768903088392, 0.2790298269209272), 'ndcg': (0.7915630976336694, 0.19085196557540432), 'recall@05': (0.5470039422810846, 0.3451320296044309)}, {'precision@05': (0.46112886048988283, 0.2788444194027107), 'ndcg': (0.791185450198438, 0.19026259127009912), 'recall@05': (0.5466171782219775, 0.34156530970084215)}, {'precision@05': (0.46070287539936106, 0.2778663880507059), 'ndcg': (0.7908933910659822, 0.18940283170500968), 'recall@05': (0.5490098053752765, 0.34351737505591307)}, {'precision@05': (0.45665601703940367, 0.28123018191874194), 'ndcg': (0.7878570201258582, 0.1925910174023995), 'recall@05': (0.5439829162984956, 0.34669161522709996)}, {'precision@05': (0.4589989350372737, 0.27638981554556424), 'ndcg': (0.7943424360992358, 0.1898987561132658), 'recall@05': (0.5476034522256426, 0.3456044172793484)}, {'precision@05': (0.4624068157614484, 0.28084567369804464), 'ndcg': (0.7931886544786276, 0.1908159260592617), 'recall@05': (0.5482669739943272, 0.34657676220732286)}]\n",
      "res.metrics.metrics_val [{'precision@05': (0.2505494505494506, 0.19006859743384055), 'ndcg': (0.7737687657695044, 0.26731865796279847), 'recall@05': (0.7311254221968506, 0.38728606429545326)}, {'precision@05': (0.2681318681318682, 0.19265588572141648), 'ndcg': (0.814859934460363, 0.25185336413693316), 'recall@05': (0.7574098520527092, 0.36826063734707465)}, {'precision@05': (0.2692307692307693, 0.19845131586245568), 'ndcg': (0.8043867483545752, 0.2544956036734428), 'recall@05': (0.7617596689025261, 0.3681624348539445)}, {'precision@05': (0.2637362637362638, 0.1930190923292894), 'ndcg': (0.8057431827074479, 0.2509030156999762), 'recall@05': (0.7600381761096047, 0.36899888853765994)}, {'precision@05': (0.26483516483516484, 0.1909338682898811), 'ndcg': (0.8192353395406151, 0.2488434838607815), 'recall@05': (0.7623733409447694, 0.36375511137705846)}, {'precision@05': (0.26483516483516484, 0.19660504636946596), 'ndcg': (0.8073384449782662, 0.2527892507989825), 'recall@05': (0.7528102849531422, 0.3718410414039471)}, {'precision@05': (0.26703296703296703, 0.19474127386956155), 'ndcg': (0.8159812418583413, 0.2505968469646054), 'recall@05': (0.7597242043670616, 0.3676024413524407)}, {'precision@05': (0.265934065934066, 0.1934190805159719), 'ndcg': (0.8126700008274098, 0.24842925340335448), 'recall@05': (0.7605418391132677, 0.36756904520706646)}, {'precision@05': (0.2692307692307693, 0.19169131991349403), 'ndcg': (0.8141170793362171, 0.2481628672203509), 'recall@05': (0.7654892726321298, 0.35860114709810664)}, {'precision@05': (0.27032967032967037, 0.19071554417509132), 'ndcg': (0.8107498419070074, 0.2503980763545408), 'recall@05': (0.7716039912468484, 0.360048300467633)}]\n"
     ]
    }
   ],
   "source": [
    "print(\"res.metrics.metrics_train\", res[\"metrics\"][\"metrics_train\"])\n",
    "print(\"res.metrics.metrics_val\", res[\"metrics\"][\"metrics_val\"])"
   ]
  },
  {
   "cell_type": "markdown",
   "metadata": {
    "nbgrader": {
     "grade": false,
     "grade_id": "cell-3a95bb01f72fc76c",
     "locked": true,
     "schema_version": 3,
     "solution": false,
     "task": false
    }
   },
   "source": [
    "## Section 4: Pairwise: Speed-up RankNet <a class=\"anchor\" id=\"SpairwiseLTR\"></a>\n",
    "\n",
    "[Back to TOC](#top)\n",
    "\n",
    "To speed up training of the previous model, we can consider a sped up version of the model, where instead of `.backward` on the loss, we use `torch.backward(lambda_i)`. \n",
    "\n",
    "The derivative of the total cost $C_T$ with respect to the model parameters $w_k$ is:\n",
    "\n",
    "$$        \\frac{\\partial C_T}{\\partial w_k} = \\sum_{(i,j) \\in \\mathcal{P}} \\frac{\\partial C(s_i, s_j)}{\\partial s_i} \\frac{\\partial s_i}{\\partial w_k} + \\frac{\\partial C(s_i, s_j)}{\\partial s_j} \\frac{\\partial s_j}{\\partial w_k} $$\n",
    "\n",
    "We can rewrite this sum by considering the set of indices $j$ , for which $\\{i,j\\}$ is a valid pair, denoted by $\\mathcal{P}_i$, and the set of document indices $\\mathcal{D}$:\n",
    "\n",
    "$$\n",
    "\\frac{\\partial C_T}{\\partial w_k} = \\sum_{i \\in \\mathcal{D}}\n",
    "\\frac{\\partial s_i}{\\partial w_k} \\sum_{j \\in \\mathcal{P}_i} \n",
    "\\frac{\\partial C(s_i, s_j)}{\\partial s_i} \n",
    "$$\n",
    "\n",
    "This sped of version of the algorithm first computes scores $s_i$ for all the documents. Then for each $j= 1, \\dots, n$, compute:\n",
    "\n",
    "$$\n",
    "\\lambda_{ij} = \\frac{\\partial C(s_i, s_j)}{\\partial s_i} = \\sigma \\bigg( \\frac{1}{2}(1 - S_{ij}) -  \\frac{1}{1 + e^{\\sigma(s_i -s_j))}} \\bigg) \\\\\n",
    "\\lambda_i = \\sum_{j \\in \\mathcal{P}_i} \\frac{\\partial C(s_i, s_j)}{\\partial s_i} = \\sum_{j \\in \\mathcal{P}_i} \\lambda_{ij}\n",
    "$$\n",
    "\n",
    "That gives us:\n",
    "\n",
    "$$\n",
    "\\frac{\\partial C_T}{\\partial w_k} = \\sum_{i \\in \\mathcal{D}}\n",
    "\\frac{\\partial s_i}{\\partial w_k} \\lambda_i\n",
    "$$\n",
    "\n",
    "This can be directly optimized in pytorch using: `torch.autograd.backward(scores, lambda_i)` \n",
    " \n"
   ]
  },
  {
   "cell_type": "markdown",
   "metadata": {
    "nbgrader": {
     "grade": false,
     "grade_id": "cell-2a9b7b682a011642",
     "locked": true,
     "schema_version": 3,
     "solution": false,
     "task": false
    }
   },
   "source": [
    "\\# ToDO:\n",
    "\n",
    "Implement the `compute_lambda_i` for the sped-up version of pairwise loss as described above. You can find the function definiton in `ltr.ltr`."
   ]
  },
  {
   "cell_type": "markdown",
   "metadata": {
    "nbgrader": {
     "grade": false,
     "grade_id": "cell-302ff24228d5d645",
     "locked": true,
     "schema_version": 3,
     "solution": false,
     "task": false
    }
   },
   "source": [
    "\\# ToDO:\n",
    "\n",
    "Implement `train_pairwise_spedup` function for more efficient training with pairwise loss. You can find the definition in `ltr.train`. "
   ]
  },
  {
   "cell_type": "code",
   "execution_count": 29,
   "metadata": {},
   "outputs": [
    {
     "name": "stdout",
     "output_type": "stream",
     "text": [
      "Training Model\n"
     ]
    },
    {
     "name": "stderr",
     "output_type": "stream",
     "text": [
      "                                                                 \r"
     ]
    },
    {
     "name": "stdout",
     "output_type": "stream",
     "text": [
      "\"metric\": \"mean\" (\"standard deviation\")\n",
      "dcg: 17.7333 (13.67905)\n",
      "dcg@03: 13.4724 (8.54200)\n",
      "dcg@05: 14.4382 (9.38335)\n",
      "dcg@10: 15.6565 (10.57231)\n",
      "dcg@20: 16.4955 (11.77564)\n",
      "ndcg: 0.8119 (0.24491)\n",
      "ndcg@03: 0.7262 (0.35795)\n",
      "ndcg@05: 0.7359 (0.33667)\n",
      "ndcg@10: 0.7619 (0.30279)\n",
      "ndcg@20: 0.7800 (0.28210)\n",
      "precision@01: 0.7483 (0.43397)\n",
      "precision@03: 0.3942 (0.25220)\n",
      "precision@05: 0.2739 (0.20036)\n",
      "precision@10: 0.1655 (0.14419)\n",
      "precision@20: 0.0948 (0.09809)\n",
      "recall@01: 0.5441 (0.42890)\n",
      "recall@03: 0.7185 (0.38731)\n",
      "recall@05: 0.7692 (0.35736)\n",
      "recall@10: 0.8459 (0.29660)\n",
      "recall@20: 0.9046 (0.24394)\n",
      "relevant rank: 12.4131 (19.42940)\n",
      "relevant rank per query: 29.1114 (87.03186)\n"
     ]
    }
   ],
   "source": [
    "# IMPORTANT DO NOT CHANGE seed, params, or any of the PATH variables\n",
    "from ltr.loss import compute_lambda_i\n",
    "from ltr.loss import mean_lambda\n",
    "from ltr.train import train_pairwise_spedup\n",
    "\n",
    "seed(42)\n",
    "params = Namespace(epochs=10, \n",
    "                    lr=1e-3,\n",
    "                    batch_size=1,\n",
    "                    metrics={\"ndcg\", \"precision@05\", \"recall@05\"})\n",
    "sped_up_pairwise_model = LTRModel(N_FEATURES)\n",
    "\n",
    "\n",
    "create_results(data, sped_up_pairwise_model, \n",
    "               train_pairwise_spedup, \n",
    "               sped_up_pairwise_model,\n",
    "               \"./outputs/pairwise_spedup_res.json\",\n",
    "               params)\n",
    "\n",
    "torch.save(sped_up_pairwise_model.state_dict(), \"./outputs/pairwise_spedup_model\")"
   ]
  },
  {
   "cell_type": "markdown",
   "metadata": {},
   "source": [
    "##  Section 5: Listwise LTR <a class=\"anchor\" id=\"listwiseLTR\"></a>\n",
    "\n",
    "[Back to TOC](#top)\n",
    "\n",
    "In this section, you will implement LambdaRank, a listwise approach to LTR. Consider the computation of $\\lambda$ for sped-up RankNet (that you've already implemented). $\\lambda$ here amounts to the 'force' on a document given its neighbours in the ranked list. The design of $\\lambda$ in LambdaRank is similar to RankNet, but is scaled by DCG gain from swapping the two documents in question. Let's suppose that the corresponding ranks of doucment $D_i$ and $D_j$ are $r_i$ and $r_j$ respectively. Given a ranking measure $IRM$, such as $NDCG$ or $ERR$, the lambda function in LambdaRank is defined as:\n",
    "\n",
    "\n",
    "$$        \\frac{\\partial C}{\\partial s_i} = \\sum_{j \\in D} \\lambda_{ij} \\cdot |\\bigtriangleup IRM (i,j)| $$\n",
    "\n",
    "Where $|\\bigtriangleup IRM(i,j)|$ is the absolute difference in $IRM$ after swapping the rank positions $r_i$ and $r_j$ while leaving everything else unchanged ($| \\cdot |$ denotes the absolute value). Note that we do not backpropogate $|\\bigtriangleup IRM|$, it is treated as a constant that scales the gradients. In this assignment we will use $|\\bigtriangleup NDCG|$"
   ]
  },
  {
   "cell_type": "markdown",
   "metadata": {
    "nbgrader": {
     "grade": false,
     "grade_id": "cell-351c194e6797d0a0",
     "locked": true,
     "schema_version": 3,
     "solution": false,
     "task": false
    }
   },
   "source": [
    "\\# ToDO:\n",
    "\n",
    "Implement the listwise loss in `listwise_loss` function defined in `ltr.ltr`\n",
    "\n"
   ]
  },
  {
   "cell_type": "markdown",
   "metadata": {},
   "source": [
    "The function `mean_lambda_list` is defined in `ltr.ltr`.\n",
    "\n",
    "\\# ToDo:\n",
    "Implement `train_listwise` function to train with list_wise loss. you can find the definition in `ltr.train`."
   ]
  },
  {
   "cell_type": "code",
   "execution_count": 20,
   "metadata": {},
   "outputs": [
    {
     "name": "stdout",
     "output_type": "stream",
     "text": [
      "Training Model\n"
     ]
    },
    {
     "name": "stderr",
     "output_type": "stream",
     "text": [
      "                                                         \r"
     ]
    },
    {
     "name": "stdout",
     "output_type": "stream",
     "text": [
      "\"metric\": \"mean\" (\"standard deviation\")\n",
      "dcg: 14.9697 (13.53105)\n",
      "dcg@03: 10.2389 (8.63264)\n",
      "dcg@05: 11.1236 (9.33497)\n",
      "dcg@10: 12.2388 (10.34785)\n",
      "dcg@20: 13.0939 (11.39398)\n",
      "ndcg: 0.6614 (0.29807)\n",
      "ndcg@03: 0.5389 (0.40509)\n",
      "ndcg@05: 0.5531 (0.38583)\n",
      "ndcg@10: 0.5794 (0.36376)\n",
      "ndcg@20: 0.5992 (0.35116)\n",
      "precision@01: 0.5323 (0.49896)\n",
      "precision@03: 0.3036 (0.25677)\n",
      "precision@05: 0.2147 (0.19403)\n",
      "precision@10: 0.1341 (0.13355)\n",
      "precision@20: 0.0790 (0.08629)\n",
      "recall@01: 0.3735 (0.43100)\n",
      "recall@03: 0.5447 (0.43737)\n",
      "recall@05: 0.5999 (0.42516)\n",
      "recall@10: 0.6889 (0.39847)\n",
      "recall@20: 0.7525 (0.37469)\n",
      "relevant rank: 22.7683 (30.12796)\n",
      "relevant rank per query: 53.3964 (111.66315)\n"
     ]
    }
   ],
   "source": [
    "# # IMPORTANT DO NOT CHANGE seed, params, or any of the PATH variables\n",
    "\n",
    "# from ltr.utils import seed, create_results\n",
    "# from ltr.model import LTRModel\n",
    "# from ltr.train import train_listwise\n",
    "\n",
    "# seed(42)\n",
    "# params = Namespace(epochs=1, \n",
    "#                     lr=1e-4,\n",
    "#                     batch_size=1,\n",
    "#                     metrics={\"ndcg\", \"precision@05\", \"recall@05\"})\n",
    "# listwise_model = LTRModel(N_FEATURES)\n",
    "\n",
    "# create_results(data, listwise_model, \n",
    "#                train_listwise, \n",
    "#                listwise_model,\n",
    "#                \"./outputs/listwise_res.json\",\n",
    "#                params)\n",
    "\n",
    "# torch.save(listwise_model.state_dict(), \"./outputs/listwise_model\")"
   ]
  },
  {
   "cell_type": "code",
   "execution_count": 21,
   "metadata": {},
   "outputs": [
    {
     "name": "stdout",
     "output_type": "stream",
     "text": [
      "torch.Size([100, 1])\n",
      " "
     ]
    },
    {
     "name": "stdout",
     "output_type": "stream",
     "text": [
      "         1880 function calls (1854 primitive calls) in 0.347 seconds\n",
      "\n",
      "   Ordered by: internal time\n",
      "\n",
      "   ncalls  tottime  percall  cumtime  percall filename:lineno(function)\n",
      "        1    0.331    0.331    0.344    0.344 loss.py:121(listwise_loss)\n",
      "        1    0.011    0.011    0.011    0.011 {method 'unbind' of 'torch._C._TensorBase' objects}\n",
      "        1    0.001    0.001    0.001    0.001 {method 'exp2' of 'torch._C._TensorBase' objects}\n",
      "        1    0.000    0.000    0.000    0.000 {method 'repeat' of 'torch._C._TensorBase' objects}\n",
      "       19    0.000    0.000    0.000    0.000 {built-in method posix.stat}\n",
      "        3    0.000    0.000    0.000    0.000 {built-in method torch.sum}\n",
      "        1    0.000    0.000    0.347    0.347 {built-in method builtins.exec}\n",
      "        1    0.000    0.000    0.346    0.346 <string>:1(<module>)\n",
      "        1    0.000    0.000    0.000    0.000 {built-in method torch.cartesian_prod}\n",
      "        1    0.000    0.000    0.001    0.001 traceback.py:397(_extract_from_extended_frame_gen)\n",
      "       31    0.000    0.000    0.000    0.000 traceback.py:458(format_frame_summary)\n",
      "        1    0.000    0.000    0.000    0.000 socket.py:545(send)\n",
      "      146    0.000    0.000    0.000    0.000 traceback.py:316(line)\n",
      "        2    0.000    0.000    0.000    0.000 {built-in method torch._C._nn.linear}\n",
      "        4    0.000    0.000    0.000    0.000 {built-in method torch.empty}\n",
      "        5    0.000    0.000    0.000    0.000 module.py:451(__init__)\n",
      "        1    0.000    0.000    0.000    0.000 {built-in method torch.exp}\n",
      "        1    0.000    0.000    0.000    0.000 dataset.py:615(__getitem__)\n",
      "       32    0.000    0.000    0.000    0.000 traceback.py:325(walk_stack)\n",
      "        1    0.000    0.000    0.000    0.000 traceback.py:513(format)\n",
      "       20    0.000    0.000    0.000    0.000 linecache.py:52(checkcache)\n",
      "       11    0.000    0.000    0.000    0.000 module.py:1697(__setattr__)\n",
      "        1    0.000    0.000    0.000    0.000 {built-in method torch._ops.profiler._record_function_enter_new}\n",
      "        3    0.000    0.000    0.000    0.000 {built-in method torch.arange}\n",
      "       31    0.000    0.000    0.000    0.000 linecache.py:26(getline)\n",
      "      174    0.000    0.000    0.000    0.000 {method 'strip' of 'str' objects}\n",
      "      172    0.000    0.000    0.000    0.000 {built-in method builtins.len}\n",
      "       59    0.000    0.000    0.000    0.000 {method 'format' of 'str' objects}\n",
      "        2    0.000    0.000    0.000    0.000 linear.py:90(__init__)\n",
      "  112/105    0.000    0.000    0.000    0.000 {built-in method builtins.isinstance}\n",
      "        2    0.000    0.000    0.000    0.000 init.py:373(kaiming_uniform_)\n",
      "       31    0.000    0.000    0.000    0.000 linecache.py:147(lazycache)\n",
      "        1    0.000    0.000    0.000    0.000 optimizer.py:846(add_param_group)\n",
      "        2    0.000    0.000    0.000    0.000 eval_frame.py:267(__call__)\n",
      "        4    0.000    0.000    0.000    0.000 {method 'uniform_' of 'torch._C._TensorBase' objects}\n",
      "        1    0.000    0.000    0.000    0.000 {built-in method torch.sort}\n",
      "        2    0.000    0.000    0.000    0.000 linear.py:103(reset_parameters)\n",
      "        4    0.000    0.000    0.000    0.000 {built-in method _make_subclass}\n",
      "       20    0.000    0.000    0.000    0.000 module.py:1682(__getattr__)\n",
      "       31    0.000    0.000    0.000    0.000 linecache.py:36(getlines)\n",
      "        1    0.000    0.000    0.000    0.000 {built-in method torch.rsub}\n",
      "        2    0.000    0.000    0.000    0.000 eval_frame.py:307(_fn)\n",
      "       15    0.000    0.000    0.000    0.000 {built-in method builtins.hasattr}\n",
      "       31    0.000    0.000    0.000    0.000 traceback.py:264(__init__)\n",
      "        1    0.000    0.000    0.000    0.000 _tensor.py:911(__rdiv__)\n",
      "      153    0.000    0.000    0.000    0.000 {method 'append' of 'list' objects}\n",
      "        4    0.000    0.000    0.000    0.000 {method 'unsqueeze' of 'torch._C._TensorBase' objects}\n",
      "        1    0.000    0.000    0.000    0.000 {built-in method torch.argsort}\n",
      "      5/1    0.000    0.000    0.000    0.000 module.py:1520(_call_impl)\n",
      "        1    0.000    0.000    0.000    0.000 traceback.py:439(from_list)\n",
      "       32    0.000    0.000    0.000    0.000 traceback.py:389(extended_frame_gen)\n",
      "     17/6    0.000    0.000    0.000    0.000 module.py:2335(named_modules)\n",
      "        2    0.000    0.000    0.000    0.000 iostream.py:626(write)\n",
      "        4    0.000    0.000    0.000    0.000 module.py:554(register_parameter)\n",
      "        1    0.000    0.000    0.000    0.000 model.py:7(__init__)\n",
      "        2    0.000    0.000    0.000    0.000 inspect.py:936(getsourcefile)\n",
      "        5    0.000    0.000    0.000    0.000 _tensor.py:964(__len__)\n",
      "       10    0.000    0.000    0.000    0.000 grad_mode.py:182(__init__)\n",
      "        5    0.000    0.000    0.000    0.000 module.py:2156(_named_members)\n",
      "        1    0.000    0.000    0.000    0.000 optimizer.py:239(__init__)\n",
      "        1    0.000    0.000    0.001    0.001 random.py:26(manual_seed)\n",
      "        1    0.000    0.000    0.000    0.000 optimizer.py:776(zero_grad)\n",
      "       28    0.000    0.000    0.000    0.000 traceback.py:310(_original_line)\n",
      "        1    0.000    0.000    0.000    0.000 functional.py:1198(cartesian_prod)\n",
      "        1    0.000    0.000    0.000    0.000 {method 'sum' of 'torch._C._TensorBase' objects}\n",
      "        1    0.000    0.000    0.000    0.000 {built-in method torch.relu}\n",
      "        1    0.000    0.000    0.001    0.001 utils.py:43(seed)\n",
      "        2    0.000    0.000    0.000    0.000 _compile.py:20(inner)\n",
      "        6    0.000    0.000    0.000    0.000 {built-in method torch._C._log_api_usage_once}\n",
      "        5    0.000    0.000    0.000    0.000 grad_mode.py:73(__init__)\n",
      "        1    0.000    0.000    0.000    0.000 {method 'reciprocal' of 'torch._C._TensorBase' objects}\n",
      "        2    0.000    0.000    0.000    0.000 functools.py:35(update_wrapper)\n",
      "        1    0.000    0.000    0.000    0.000 {built-in method torch.abs}\n",
      "        1    0.000    0.000    0.000    0.000 {method 'log2' of 'torch._C._TensorBase' objects}\n",
      "        7    0.000    0.000    0.000    0.000 parameter.py:8(__instancecheck__)\n",
      "        1    0.000    0.000    0.000    0.000 {numpy.random.mtrand.seed}\n",
      "        1    0.000    0.000    0.000    0.000 {built-in method torch.sign}\n",
      "       11    0.000    0.000    0.000    0.000 {built-in method torch._C._get_tracing_state}\n",
      "        4    0.000    0.000    0.000    0.000 init.py:291(_calculate_fan_in_and_fan_out)\n",
      "        2    0.000    0.000    0.000    0.000 inspect.py:896(getfile)\n",
      "        5    0.000    0.000    0.000    0.000 grad_mode.py:78(__enter__)\n",
      "        2    0.000    0.000    0.000    0.000 decorators.py:33(disable)\n",
      "        1    0.000    0.000    0.011    0.011 _tensor.py:980(__iter__)\n",
      "        2    0.000    0.000    0.000    0.000 {built-in method torch.exp2}\n",
      "        1    0.000    0.000    0.000    0.000 {method 'flatten' of 'torch._C._TensorBase' objects}\n",
      "        1    0.000    0.000    0.000    0.000 profiler.py:636(__exit__)\n",
      "        5    0.000    0.000    0.000    0.000 grad_mode.py:82(__exit__)\n",
      "        1    0.000    0.000    0.000    0.000 dataset.py:452(query_feat)\n",
      "        1    0.000    0.000    0.000    0.000 random.py:128(seed)\n",
      "       19    0.000    0.000    0.000    0.000 {built-in method builtins.getattr}\n",
      "        1    0.000    0.000    0.000    0.000 iostream.py:259(schedule)\n",
      "        5    0.000    0.000    0.000    0.000 _contextlib.py:149(__new__)\n",
      "        2    0.000    0.000    0.000    0.000 init.py:67(calculate_gain)\n",
      "       40    0.000    0.000    0.000    0.000 {method 'add' of 'set' objects}\n",
      "       31    0.000    0.000    0.000    0.000 {method 'join' of 'str' objects}\n",
      "        2    0.000    0.000    0.000    0.000 linear.py:113(forward)\n",
      "        1    0.000    0.000    0.001    0.001 __init__.py:227(_lazy_call)\n",
      "      5/1    0.000    0.000    0.000    0.000 module.py:1514(_wrapped_call_impl)\n",
      "        1    0.000    0.000    0.000    0.000 {built-in method builtins.print}\n",
      "        1    0.000    0.000    0.000    0.000 container.py:97(__init__)\n",
      "       16    0.000    0.000    0.000    0.000 _tensor.py:1002(__hash__)\n",
      "        1    0.000    0.000    0.000    0.000 container.py:213(forward)\n",
      "        1    0.000    0.000    0.000    0.000 {built-in method torch._ops.profiler.}\n",
      "       33    0.000    0.000    0.000    0.000 {method 'get' of 'dict' objects}\n",
      "        2    0.000    0.000    0.000    0.000 eval_frame.py:221(__init__)\n",
      "        1    0.000    0.000    0.001    0.001 traceback.py:213(format_stack)\n",
      "        4    0.000    0.000    0.000    0.000 parameter.py:33(__new__)\n",
      "       10    0.000    0.000    0.000    0.000 {built-in method torch._C._set_grad_enabled}\n",
      "        2    0.000    0.000    0.000    0.000 _tensor.py:34(wrapped)\n",
      "        1    0.000    0.000    0.000    0.000 profiler.py:619(__init__)\n",
      "        4    0.000    0.000    0.000    0.000 {built-in method builtins.next}\n",
      "        2    0.000    0.000    0.000    0.000 init.py:12(_no_grad_uniform_)\n",
      "        3    0.000    0.000    0.000    0.000 module.py:599(add_module)\n",
      "        1    0.000    0.000    0.000    0.000 {function Random.seed at 0x104c534c0}\n",
      "        2    0.000    0.000    0.000    0.000 init.py:363(_calculate_correct_fan)\n",
      "        2    0.000    0.000    0.000    0.000 {method 'detach' of 'torch._C._TensorBase' objects}\n",
      "        1    0.000    0.000    0.000    0.000 adam.py:15(__init__)\n",
      "        1    0.000    0.000    0.000    0.000 __init__.py:68(queue_seed_all)\n",
      "        1    0.000    0.000    0.000    0.000 __init__.py:42(manual_seed)\n",
      "        1    0.000    0.000    0.001    0.001 traceback.py:220(extract_stack)\n",
      "        2    0.000    0.000    0.000    0.000 eval_frame.py:442(__init__)\n",
      "        2    0.000    0.000    0.000    0.000 contextlib.py:104(__init__)\n",
      "        2    0.000    0.000    0.000    0.000 iostream.py:521(_is_master_process)\n",
      "        2    0.000    0.000    0.000    0.000 __init__.py:39(__set__)\n",
      "        5    0.000    0.000    0.000    0.000 module.py:1698(remove_from)\n",
      "        5    0.000    0.000    0.000    0.000 module.py:2195(named_parameters)\n",
      "        4    0.000    0.000    0.000    0.000 {built-in method builtins.any}\n",
      "       16    0.000    0.000    0.000    0.000 {method 'endswith' of 'str' objects}\n",
      "        2    0.000    0.000    0.000    0.000 package_importer.py:692(_patched_getfile)\n",
      "        5    0.000    0.000    0.000    0.000 module.py:2170(parameters)\n",
      "        1    0.000    0.000    0.000    0.000 profiler.py:630(__enter__)\n",
      "        1    0.000    0.000    0.000    0.000 __init__.py:1820(__getattr__)\n",
      "        1    0.000    0.000    0.000    0.000 functional.py:1460(relu)\n",
      "       15    0.000    0.000    0.000    0.000 {built-in method torch.is_grad_enabled}\n",
      "        2    0.000    0.000    0.000    0.000 {method 'manual_seed' of 'torch._C.Generator' objects}\n",
      "        5    0.000    0.000    0.000    0.000 module.py:2224(<lambda>)\n",
      "        1    0.000    0.000    0.000    0.000 random.py:70(_seed_custom_device)\n",
      "        2    0.000    0.000    0.000    0.000 contextlib.py:141(__exit__)\n",
      "        8    0.000    0.000    0.000    0.000 inspect.py:946(<genexpr>)\n",
      "        8    0.000    0.000    0.000    0.000 {method 'size' of 'torch._C._TensorBase' objects}\n",
      "       14    0.000    0.000    0.000    0.000 {method 'dim' of 'torch._C._TensorBase' objects}\n",
      "        1    0.000    0.000    0.001    0.001 traceback.py:375(extract)\n",
      "       28    0.000    0.000    0.000    0.000 {method 'lstrip' of 'str' objects}\n",
      "        1    0.000    0.000    0.000    0.000 _ops.py:687(__call__)\n",
      "        1    0.000    0.000    0.000    0.000 _ops.py:447(__call__)\n",
      "       14    0.000    0.000    0.000    0.000 {built-in method builtins.setattr}\n",
      "        1    0.000    0.000    0.000    0.000 threading.py:1185(is_alive)\n",
      "        1    0.000    0.000    0.000    0.000 argparse.py:1322(__init__)\n",
      "        1    0.000    0.000    0.001    0.001 random.py:109(manual_seed_all)\n",
      "        3    0.000    0.000    0.000    0.000 linecache.py:80(updatecache)\n",
      "        6    0.000    0.000    0.000    0.000 inspect.py:943(<genexpr>)\n",
      "       10    0.000    0.000    0.000    0.000 {built-in method math.sqrt}\n",
      "        1    0.000    0.000    0.000    0.000 dataset.py:603(__init__)\n",
      "        1    0.000    0.000    0.000    0.000 traceback.py:29(format_list)\n",
      "        2    0.000    0.000    0.000    0.000 iostream.py:548(_schedule_flush)\n",
      "        2    0.000    0.000    0.000    0.000 <frozen genericpath>:16(exists)\n",
      "        1    0.000    0.000    0.000    0.000 _tensor.py:907(__rsub__)\n",
      "        2    0.000    0.000    0.000    0.000 contextlib.py:132(__enter__)\n",
      "        1    0.000    0.000    0.000    0.000 model.py:26(forward)\n",
      "        4    0.000    0.000    0.000    0.000 eval_frame.py:192(innermost_fn)\n",
      "        1    0.000    0.000    0.000    0.000 container.py:205(__iter__)\n",
      "        1    0.000    0.000    0.000    0.000 activation.py:100(forward)\n",
      "        2    0.000    0.000    0.000    0.000 init.py:122(uniform_)\n",
      "        2    0.000    0.000    0.000    0.000 functools.py:65(wraps)\n",
      "        6    0.000    0.000    0.000    0.000 {method 'startswith' of 'str' objects}\n",
      "        2    0.000    0.000    0.000    0.000 contextlib.py:287(helper)\n",
      "        1    0.000    0.000    0.000    0.000 activation.py:96(__init__)\n",
      "       10    0.000    0.000    0.000    0.000 {method 'setdefault' of 'dict' objects}\n",
      "        4    0.000    0.000    0.000    0.000 inspect.py:292(isclass)\n",
      "       16    0.000    0.000    0.000    0.000 {built-in method builtins.id}\n",
      "        1    0.000    0.000    0.000    0.000 threading.py:1118(_wait_for_tstate_lock)\n",
      "        4    0.000    0.000    0.000    0.000 {built-in method torch._C._dynamo.eval_frame.set_eval_frame}\n",
      "        5    0.000    0.000    0.000    0.000 {built-in method __new__ of type object at 0x104163da8}\n",
      "        1    0.000    0.000    0.000    0.000 dataset.py:447(query_labels)\n",
      "        7    0.000    0.000    0.000    0.000 {function _ParameterMeta.__instancecheck__ at 0x1106f7560}\n",
      "        6    0.000    0.000    0.000    0.000 {built-in method torch._C._has_torch_function_unary}\n",
      "        9    0.000    0.000    0.000    0.000 {method 'values' of 'collections.OrderedDict' objects}\n",
      "        1    0.000    0.000    0.000    0.000 {built-in method torch._C._mps_is_in_bad_fork}\n",
      "        2    0.000    0.000    0.000    0.000 inspect.py:283(ismodule)\n",
      "        1    0.000    0.000    0.000    0.000 optimizer.py:399(_patch_step_function)\n",
      "        1    0.000    0.000    0.000    0.000 {method 'float' of 'torch._C._TensorBase' objects}\n",
      "        1    0.000    0.000    0.000    0.000 typing.py:352(inner)\n",
      "        2    0.000    0.000    0.000    0.000 skipfiles.py:205(check)\n",
      "        1    0.000    0.000    0.000    0.000 iostream.py:137(_event_pipe)\n",
      "        1    0.000    0.000    0.000    0.000 _VF.py:26(__getattr__)\n",
      "       10    0.000    0.000    0.000    0.000 {method 'items' of 'collections.OrderedDict' objects}\n",
      "        2    0.000    0.000    0.000    0.000 {built-in method builtins.iter}\n",
      "        2    0.000    0.000    0.000    0.000 inspect.py:456(istraceback)\n",
      "        3    0.000    0.000    0.000    0.000 {built-in method torch._C._has_torch_function}\n",
      "        6    0.000    0.000    0.000    0.000 _jit_internal.py:1109(is_scripting)\n",
      "        2    0.000    0.000    0.000    0.000 inspect.py:300(ismethod)\n",
      "        2    0.000    0.000    0.000    0.000 inspect.py:466(isframe)\n",
      "        4    0.000    0.000    0.000    0.000 eval_frame.py:205(enable_dynamic)\n",
      "        2    0.000    0.000    0.000    0.000 inspect.py:378(isfunction)\n",
      "        6    0.000    0.000    0.000    0.000 {built-in method builtins.callable}\n",
      "        1    0.000    0.000    0.000    0.000 {method 'acquire' of '_thread.lock' objects}\n",
      "        4    0.000    0.000    0.000    0.000 {built-in method torch._C._has_torch_function_variadic}\n",
      "        1    0.000    0.000    0.000    0.000 {built-in method torch._C._get_privateuse1_backend_name}\n",
      "        2    0.000    0.000    0.000    0.000 inspect.py:480(iscode)\n",
      "        2    0.000    0.000    0.000    0.000 {method 'lower' of 'str' objects}\n",
      "        2    0.000    0.000    0.000    0.000 {method 'write' of '_io.StringIO' objects}\n",
      "        4    0.000    0.000    0.000    0.000 eval_frame.py:188(nothing)\n",
      "        2    0.000    0.000    0.000    0.000 contextlib.py:751(__init__)\n",
      "        1    0.000    0.000    0.000    0.000 threading.py:568(is_set)\n",
      "        2    0.000    0.000    0.000    0.000 {built-in method posix.getpid}\n",
      "        1    0.000    0.000    0.000    0.000 {built-in method torch._C._set_cudnn_deterministic}\n",
      "        2    0.000    0.000    0.000    0.000 {method '__exit__' of '_thread.RLock' objects}\n",
      "        2    0.000    0.000    0.000    0.000 {method 'update' of 'dict' objects}\n",
      "        2    0.000    0.000    0.000    0.000 __init__.py:16(flags_frozen)\n",
      "        1    0.000    0.000    0.000    0.000 __init__.py:15(_get_default_mps_generator)\n",
      "        2    0.000    0.000    0.000    0.000 contextlib.py:754(__enter__)\n",
      "        1    0.000    0.000    0.000    0.000 {method 'disable' of '_lsprof.Profiler' objects}\n",
      "        1    0.000    0.000    0.000    0.000 {method 'items' of 'dict' objects}\n",
      "        2    0.000    0.000    0.000    0.000 contextlib.py:757(__exit__)\n",
      "        1    0.000    0.000    0.000    0.000 {built-in method torch._C._set_cudnn_benchmark}\n",
      "        1    0.000    0.000    0.000    0.000 __init__.py:222(is_initialized)\n",
      "        1    0.000    0.000    0.000    0.000 {method 'append' of 'collections.deque' objects}\n",
      "        1    0.000    0.000    0.000    0.000 {method '__exit__' of 'torch._C.DisableTorchFunctionSubclass' objects}\n",
      "        1    0.000    0.000    0.000    0.000 __init__.py:45(<lambda>)\n",
      "        1    0.000    0.000    0.000    0.000 {method 'isdisjoint' of 'set' objects}\n",
      "        1    0.000    0.000    0.000    0.000 __init__.py:124(annotate)\n",
      "        1    0.000    0.000    0.000    0.000 {method 'reverse' of 'list' objects}\n",
      "        1    0.000    0.000    0.000    0.000 {built-in method sys._getframe}\n",
      "        1    0.000    0.000    0.000    0.000 typing.py:2256(cast)"
     ]
    }
   ],
   "source": [
    "%%prun\n",
    "# manually make a loss step\n",
    "from ltr.loss import listwise_loss\n",
    "from ltr.dataset import QueryGroupedLTRData\n",
    "from ltr.model import LTRModel\n",
    "from ltr.train import train_listwise\n",
    "\n",
    "seed(42)\n",
    "params = Namespace(epochs=1, \n",
    "                    lr=1e-4,\n",
    "                    batch_size=1,\n",
    "                    metrics={\"ndcg\", \"precision@05\", \"recall@05\"})\n",
    "\n",
    "listwise_model = LTRModel(N_FEATURES)\n",
    "train_data = QueryGroupedLTRData(data, \"train\")\n",
    "optimizer = torch.optim.Adam(listwise_model.parameters(), lr=params.lr)\n",
    "\n",
    "\n",
    "batch = train_data[0]\n",
    "features, labels = batch\n",
    "labels = labels.float()\n",
    "optimizer.zero_grad()\n",
    "output = listwise_model(features)\n",
    "loss = listwise_loss(output, labels)\n",
    "print(loss[0])"
   ]
  },
  {
   "cell_type": "code",
   "execution_count": 39,
   "metadata": {},
   "outputs": [
    {
     "name": "stdout",
     "output_type": "stream",
     "text": [
      "Training Model\n"
     ]
    },
    {
     "name": "stderr",
     "output_type": "stream",
     "text": [
      "                                                                 \r"
     ]
    },
    {
     "name": "stdout",
     "output_type": "stream",
     "text": [
      "\"metric\": \"mean\" (\"standard deviation\")\n",
      "dcg: 17.6616 (13.65349)\n",
      "dcg@03: 13.4112 (8.47022)\n",
      "dcg@05: 14.3815 (9.29032)\n",
      "dcg@10: 15.4814 (10.56736)\n",
      "dcg@20: 16.4218 (11.76909)\n",
      "ndcg: 0.8110 (0.24559)\n",
      "ndcg@03: 0.7259 (0.35704)\n",
      "ndcg@05: 0.7382 (0.33230)\n",
      "ndcg@10: 0.7564 (0.31049)\n",
      "ndcg@20: 0.7784 (0.28429)\n",
      "precision@01: 0.7416 (0.43773)\n",
      "precision@03: 0.3950 (0.25349)\n",
      "precision@05: 0.2731 (0.19801)\n",
      "precision@10: 0.1612 (0.14303)\n",
      "precision@20: 0.0945 (0.09762)\n",
      "recall@01: 0.5387 (0.43012)\n",
      "recall@03: 0.7155 (0.38632)\n",
      "recall@05: 0.7723 (0.35512)\n",
      "recall@10: 0.8292 (0.31344)\n",
      "recall@20: 0.9017 (0.24432)\n",
      "relevant rank: 12.4074 (18.96421)\n",
      "relevant rank per query: 29.0980 (85.73302)\n"
     ]
    }
   ],
   "source": [
    "seed(42)\n",
    "params = Namespace(epochs=11, \n",
    "                    lr=1e-4,\n",
    "                    batch_size=1,\n",
    "                    metrics={\"ndcg\", \"precision@05\", \"recall@05\"})\n",
    "listwise_model = LTRModel(N_FEATURES)\n",
    "\n",
    "create_results(data, listwise_model, \n",
    "               train_listwise, \n",
    "               listwise_model,\n",
    "               \"./outputs/listwise_res.json\",\n",
    "               params)\n",
    "\n",
    "torch.save(listwise_model.state_dict(), \"./outputs/listwise_model\")"
   ]
  },
  {
   "cell_type": "markdown",
   "metadata": {
    "nbgrader": {
     "grade": false,
     "grade_id": "cell-e47b21d69c9be1e4",
     "locked": true,
     "schema_version": 3,
     "solution": false,
     "task": false
    }
   },
   "source": [
    "## Section 6: Comparing Pointwise, Pairwise and Listwise<a class=\"anchor\" id=\"evaluation1\"></a>\n",
    "\n",
    "[Back to TOC](#top)\n",
    "\n",
    "In the next few cells, we will compare the methods you've implemented. Helper functions are provided for you, which you can use to make some conclusions. You can modify the code as needed!"
   ]
  },
  {
   "cell_type": "markdown",
   "metadata": {
    "nbgrader": {
     "grade": false,
     "grade_id": "cell-db32842ad0736348",
     "locked": true,
     "schema_version": 3,
     "solution": false,
     "task": false
    }
   },
   "source": [
    "First, let's have a function that plots the average scores of relevant (levels 3 and 4) and non-relevant (levels 0, 1, and 2) scores in terms of training epochs for different loss functions:"
   ]
  },
  {
   "cell_type": "code",
   "execution_count": 40,
   "metadata": {},
   "outputs": [],
   "source": [
    "# Load metrics and models\n",
    "import json\n",
    "\n",
    "pointwise_temp_model = LTRModel(N_FEATURES)\n",
    "pointwise_temp_model.load_state_dict(torch.load(\"./outputs/pointwise_model\"))\n",
    "\n",
    "pairwise_temp_model = LTRModel(N_FEATURES)\n",
    "pairwise_temp_model.load_state_dict(torch.load(\"./outputs/pairwise_spedup_model\"))\n",
    "\n",
    "listwise_temp_model = LTRModel(N_FEATURES)\n",
    "listwise_temp_model.load_state_dict(torch.load(\"./outputs/listwise_model\"))\n",
    "\n",
    "\n",
    "methods = [\n",
    "    {\"results_file\": \"./outputs/pointwise_res.json\", \"label\": \"Pointwise\"},\n",
    "    {\"results_file\": \"./outputs/pairwise_spedup_res.json\", \"label\": \"Pairwise\"},\n",
    "    {\"results_file\": \"./outputs/listwise_res.json\", \"label\": \"Listwise\"}\n",
    "]\n",
    "\n",
    "labels = []\n",
    "results = []\n",
    "q_results = []\n",
    "for m in methods:\n",
    "    labels.append(m[\"label\"])\n",
    "    \n",
    "    with open(m[\"results_file\"]) as reader:\n",
    "        r = json.load(reader)\n",
    "    \n",
    "    results.append(r[\"test_metrics\"])\n",
    "    q_results.append(r[\"test_query_level_metrics\"])"
   ]
  },
  {
   "cell_type": "markdown",
   "metadata": {},
   "source": [
    "In the following cell, `compare_methods` and `plot_distribution` figures are imported. You can use the them for your analysis and observe how the different loss functions compare to each other."
   ]
  },
  {
   "cell_type": "code",
   "execution_count": 41,
   "metadata": {},
   "outputs": [],
   "source": [
    "from ltr.utils import compare_methods\n",
    "from ltr.utils import plot_distribution"
   ]
  },
  {
   "cell_type": "code",
   "execution_count": 42,
   "metadata": {},
   "outputs": [
    {
     "data": {
      "image/png": "[encoded data removed]",
      "text/plain": [
       "<Figure size 1500x700 with 3 Axes>"
      ]
     },
     "metadata": {},
     "output_type": "display_data"
    }
   ],
   "source": [
    "compare_methods(labels, results)"
   ]
  },
  {
   "cell_type": "code",
   "execution_count": 43,
   "metadata": {},
   "outputs": [
    {
     "data": {
      "image/png": "[encoded data removed]",
      "text/plain": [
       "<Figure size 1000x2400 with 3 Axes>"
      ]
     },
     "metadata": {},
     "output_type": "display_data"
    }
   ],
   "source": [
    "plot_distribution(labels, q_results)"
   ]
  },
  {
   "cell_type": "markdown",
   "metadata": {
    "nbgrader": {
     "grade": false,
     "grade_id": "cell-067c6d8584df601e",
     "locked": true,
     "schema_version": 3,
     "solution": false,
     "task": false
    }
   },
   "source": [
    "1- Given the training results and evaluation results, please elaborate on the ranking performance with different loss functions.\n",
    "\n",
    "2- In this assignment, you extracted N_FEATURES features for each query-document pair. Now, consider adding 1-2 new features, and run the training again. Analyze training performance with the extended feature vectors.\n",
    "\n",
    "See `analysis.md` for further details and to submit your results."
   ]
  },
  {
   "cell_type": "code",
   "execution_count": null,
   "metadata": {},
   "outputs": [],
   "source": []
  }
 ],
 "metadata": {
  "celltoolbar": "Create Assignment",
  "kernelspec": {
   "display_name": "Python 3 (ipykernel)",
   "language": "python",
   "name": "python3"
  },
  "language_info": {
   "codemirror_mode": {
    "name": "ipython",
    "version": 3
   },
   "file_extension": ".py",
   "mimetype": "text/x-python",
   "name": "python",
   "nbconvert_exporter": "python",
   "pygments_lexer": "ipython3",
   "version": "3.10.13"
  },
  "toc": {
   "base_numbering": "",
   "nav_menu": {},
   "number_sections": false,
   "sideBar": true,
   "skip_h1_title": false,
   "title_cell": "Table of Contents",
   "title_sidebar": "Contents",
   "toc_cell": false,
   "toc_position": {
    "height": "calc(100% - 180px)",
    "left": "10px",
    "top": "150px",
    "width": "280px"
   },
   "toc_section_display": true,
   "toc_window_display": true
  },
  "vscode": {
   "interpreter": {
    "hash": "5fa92699e080ff94e0ce4b6703120e0e782d3ef43cbedd62af6f3099c814264f"
   }
  }
 },
 "nbformat": 4,
 "nbformat_minor": 4
}

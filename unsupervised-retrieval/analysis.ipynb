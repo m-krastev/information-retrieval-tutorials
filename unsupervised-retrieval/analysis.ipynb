{
 "cells": [
  {
   "cell_type": "code",
   "execution_count": 2,
   "metadata": {},
   "outputs": [],
   "source": [
    "from functools import partial\n",
    "\n",
    "import numpy as np\n",
    "\n",
    "import matplotlib.pyplot as plt\n",
    "from matplotlib.pyplot import cm\n",
    "\n",
    "from collections import namedtuple\n",
    "\n",
    "%load_ext autoreload\n",
    "%autoreload 2\n",
    "%matplotlib inline"
   ]
  },
  {
   "cell_type": "code",
   "execution_count": 3,
   "metadata": {},
   "outputs": [],
   "source": [
    "from modules.dataset import read_cacm_docs, read_queries\n",
    "from modules.evaluation import read_qrels\n",
    "from modules.preprocessing import load_stopwords, process_text\n",
    "\n",
    "from modules.ranking import compute_df\n",
    "from modules.indexing import build_tf_index\n",
    "\n",
    "from modules.utils import print_results\n",
    "\n",
    "from modules.dataset import Dataset\n",
    "\n",
    "from modules.ranking import tfidf_search, naive_ql_search, ql_search, bm25_search\n",
    "\n",
    "from modules.evaluation import precision_k, recall_k, average_precision, evaluate_search_fn"
   ]
  },
  {
   "cell_type": "code",
   "execution_count": 4,
   "metadata": {},
   "outputs": [],
   "source": [
    "# Download the Dataset if you have not done it already!\n",
    "from modules.utils import download_dataset\n",
    "\n",
    "download_dataset()"
   ]
  },
  {
   "cell_type": "markdown",
   "metadata": {},
   "source": [
    "---\n",
    "## Section 5 Analysis <a class=\"anchor\" id=\"analysis\"></a>"
   ]
  },
  {
   "cell_type": "markdown",
   "metadata": {},
   "source": [
    "### 5.1: Information Retrieval Axioms\n",
    "\n",
    "In the first analysis section we will explore different Information Retrieval Axioms by using your implementations from above. This section can be a good way to:\n",
    "1. Learn/Remember the most important IR concepts\n",
    "2. Check your implementations of the search functions you implemented above,\n",
    "3. Expand your understanding regarding the traditional/statistical IR approaches and the way of evaluating them.\n",
    "\n",
    "Note that each for the questions below we expect a very short answer of about a couple of sentences (max 75 words).\n",
    "Please answer the question highlighted with red color as: *<font color='red'>Question</font>*, and move the answers to the [analysis.md](analysis.md)."
   ]
  },
  {
   "cell_type": "code",
   "execution_count": 5,
   "metadata": {},
   "outputs": [],
   "source": [
    "# Load the documents of the dataset again and the stopwords\n",
    "docs = read_cacm_docs()\n",
    "n_docs = len(docs)\n",
    "stopwords = load_stopwords()\n",
    "\n",
    "config = {\n",
    "  \"stem\": True,\n",
    "  \"remove_stopwords\" : True,\n",
    "  \"lowercase_text\": True,\n",
    "}\n",
    "\n",
    "def get_dataset(docs, stopwords, config=config):\n",
    "    \"\"\"\n",
    "    Returns ta dataset based on the documents given, the stopwrods,\n",
    "    and the preprocessing configurations.\n",
    "    \"\"\"\n",
    "    doc_repr = []\n",
    "    n_docs = len(docs)\n",
    "    for (doc_id, document) in docs:\n",
    "        doc_repr.append((doc_id, process_text(document, stopwords, **config)))\n",
    "\n",
    "    tf_index = build_tf_index(doc_repr)\n",
    "    df = compute_df([d[1] for d in doc_repr])\n",
    "\n",
    "\n",
    "    docs_by_id = dict(docs)\n",
    "    dh = Dataset(n_docs, docs_by_id, doc_repr,\n",
    "                df, tf_index,\n",
    "                stopwords, config)\n",
    "    return dh\n",
    "\n",
    "def get_docs(doc_ids, all_docs=docs):\n",
    "    \"\"\"\n",
    "    Returns a subset of the documents based on the selected\n",
    "    document ids.\n",
    "    \"\"\"\n",
    "    all_docs_by_id = dict(all_docs)\n",
    "\n",
    "    return [(did, all_docs_by_id[did]) for did in doc_ids]"
   ]
  },
  {
   "cell_type": "markdown",
   "metadata": {},
   "source": [
    "#### 5.1: Evaluating Rankings Axioms (ERA)\n",
    "In this subsection we will explore the some of the evaluation axioms in IR"
   ]
  },
  {
   "cell_type": "code",
   "execution_count": 6,
   "metadata": {},
   "outputs": [],
   "source": [
    "def print_scores(ranking, k):\n",
    "    \"\"\"\n",
    "    Helper method for printing the scores for a ranking.\n",
    "    \"\"\"\n",
    "    precision = precision_k(ranking, set(qrels_11), k)\n",
    "    print(f'precision@{k} = {precision}')\n",
    "\n",
    "    recall = recall_k(ranking, set(qrels_11), k)\n",
    "    print(f'recall@{k} = {recall}')\n",
    "\n",
    "    mean_ap = average_precision(ranking, set(qrels_11))\n",
    "    print(f'MAP = {mean_ap}')"
   ]
  },
  {
   "cell_type": "code",
   "execution_count": 7,
   "metadata": {},
   "outputs": [],
   "source": [
    "# Define the example ground truth we will be working with\n",
    "q = 'What articles exist which deal with TSS (Time Sharing System), an\\noperating system for IBM computers?'\n",
    "# we assume we have only 9 documents in our whole datasetfor the query above their qrels below have the first 5 documents as relevant and the last 5 as irrelevant documents.\n",
    "qrels_11 = ['2358', '2020', '1410', '1605', '1572']      # the relevant documents for the qery\n",
    "irrelevant_documents_11 = ['1831', '2651', '950', '2664', '2290']  # the irrelevant documents for the query\n",
    "docs_11_ids = [*qrels_11, *irrelevant_documents_11]        # all the documents are just the intersection of the relevant and irrelevant for the query documents\n",
    "docs_11 = get_docs(docs_11_ids)\n",
    "docs_11_by_id = dict(docs_11)\n",
    "\n",
    "dh_11 = get_dataset(docs_11, stopwords)"
   ]
  },
  {
   "cell_type": "markdown",
   "metadata": {},
   "source": [
    "Assume we have the following ideal raning for the query above."
   ]
  },
  {
   "cell_type": "code",
   "execution_count": 8,
   "metadata": {},
   "outputs": [
    {
     "name": "stdout",
     "output_type": "stream",
     "text": [
      "1.1 - Assumed Ideal Ranking\n",
      "Rank 0(1.0): The Multics Virtual Memory: Concepts and Design\\nA...\n",
      "Rank 1(1.0): The Allocation of Computer Resources-Is Pricing th...\n",
      "Rank 2(1.0): Interarrival Statistics for Time Sharing Systems\\n...\n",
      "Rank 3(1.0): An Experimental Comparison of Time Sharing and Bat...\n",
      "Rank 4(1.0): The Simulation of Time sharing Systems\\nThe develo...\n",
      "Rank 5(0.0): A Comment on Optimal Tree Structures...\n",
      "Rank 6(0.0): The Treatment of Data Types in EL1\\nIn constructin...\n",
      "Rank 7(0.0): Parallel Methods for Integrating Ordinary Differen...\n",
      "Rank 8(0.0): Parallelism in Tape-Sorting\\nTwo methods for emplo...\n",
      "Rank 9(0.0): Immediate Predominators in a Directed Graph [H] (A...\n"
     ]
    }
   ],
   "source": [
    "# Prepare the Ideal Ranking\n",
    "\n",
    "# an ideal ranking should approximately have the first 5 relevant documents as they appear below in the top \n",
    "# followed by the irrelevant documents.\n",
    "scores_11 = [1.0, 1.0, 1.0, 1.0, 1.0, 0.0, 0.0, 0.0, 0.0, 0.0]\n",
    "gt_ranking_11 = [(did, score) for did, score in zip(docs_11_ids, scores_11)]\n",
    "print('1.1 - Assumed Ideal Ranking')\n",
    "print_results(gt_ranking_11, docs_11_by_id)"
   ]
  },
  {
   "cell_type": "code",
   "execution_count": 9,
   "metadata": {},
   "outputs": [
    {
     "name": "stdout",
     "output_type": "stream",
     "text": [
      "> Evaluation scores for the ideal ranking:\n",
      "precision@5 = 1.0\n",
      "recall@5 = 1.0\n",
      "MAP = 1.0\n"
     ]
    }
   ],
   "source": [
    "print('> Evaluation scores for the ideal ranking:')\n",
    "print_scores(gt_ranking_11, k=5)"
   ]
  },
  {
   "cell_type": "markdown",
   "metadata": {},
   "source": [
    "##### 5.1.1: ERA - Ranking Swap Impact (RSI)"
   ]
  },
  {
   "cell_type": "markdown",
   "metadata": {},
   "source": [
    "1. Assume we are given from a ranking method the following ranking `RSI-1`."
   ]
  },
  {
   "cell_type": "code",
   "execution_count": 10,
   "metadata": {},
   "outputs": [
    {
     "name": "stdout",
     "output_type": "stream",
     "text": [
      "The Ranking of RSI-1:\n",
      "Rank 0(1.0): The Multics Virtual Memory: Concepts and Design\\nA...\n",
      "Rank 1(0.9): Parallelism in Tape-Sorting\\nTwo methods for emplo...\n",
      "Rank 2(0.8): The Allocation of Computer Resources-Is Pricing th...\n",
      "Rank 3(0.7): Interarrival Statistics for Time Sharing Systems\\n...\n",
      "Rank 4(0.6): Immediate Predominators in a Directed Graph [H] (A...\n",
      "Rank 5(0.5): An Experimental Comparison of Time Sharing and Bat...\n",
      "Rank 6(0.4): The Simulation of Time sharing Systems\\nThe develo...\n",
      "Rank 7(0.3): A Comment on Optimal Tree Structures...\n",
      "Rank 8(0.2): The Treatment of Data Types in EL1\\nIn constructin...\n",
      "Rank 9(0.1): Parallel Methods for Integrating Ordinary Differen...\n",
      "\n",
      "> Evaluation scores for RSI-1:\n",
      "precision@5 = 0.6\n",
      "recall@5 = 0.6\n",
      "MAP = 0.7595238095238095\n"
     ]
    }
   ],
   "source": [
    "doc_ids_11_a1_1 = ['2358', '2664', '2020', '1410', '2290', '1605', '1572', '1831', '2651', '950'] \n",
    "scores_11_a1_1 = [1.0, 0.9, 0.8, 0.7, 0.6, 0.5, 0.4, 0.3, 0.2, 0.1]\n",
    "ranking_11_a1_1 = [(did, score) for did, score in zip(doc_ids_11_a1_1, scores_11_a1_1)]\n",
    "print('The Ranking of RSI-1:')\n",
    "print_results(ranking_11_a1_1, docs_11_by_id)\n",
    "print()\n",
    "print('> Evaluation scores for RSI-1:')\n",
    "print_scores(ranking_11_a1_1, k=len(qrels_11))"
   ]
  },
  {
   "cell_type": "markdown",
   "metadata": {},
   "source": [
    "2. Now assume that as an improvement to the ranking method above, another method attempts to improve the results and returns the following ranking named ``RSI-2`` as an improvement to the initial one (`RSI-1`):"
   ]
  },
  {
   "cell_type": "code",
   "execution_count": 11,
   "metadata": {},
   "outputs": [
    {
     "name": "stdout",
     "output_type": "stream",
     "text": [
      "> The Ranking of RSI-2:\n",
      "Rank 0(1.0): The Multics Virtual Memory: Concepts and Design\\nA...\n",
      "Rank 1(0.9): Parallelism in Tape-Sorting\\nTwo methods for emplo...\n",
      "Rank 2(0.8): The Allocation of Computer Resources-Is Pricing th...\n",
      "Rank 3(0.7): Interarrival Statistics for Time Sharing Systems\\n...\n",
      "Rank 4(0.6): An Experimental Comparison of Time Sharing and Bat...\n",
      "Rank 5(0.5): Immediate Predominators in a Directed Graph [H] (A...\n",
      "Rank 6(0.4): The Simulation of Time sharing Systems\\nThe develo...\n",
      "Rank 7(0.3): A Comment on Optimal Tree Structures...\n",
      "Rank 8(0.2): The Treatment of Data Types in EL1\\nIn constructin...\n",
      "Rank 9(0.1): Parallel Methods for Integrating Ordinary Differen...\n",
      "\n",
      "> Evaluation scores for RSI-2:\n",
      "precision@5 = 0.8\n",
      "recall@5 = 0.8\n",
      "MAP = 0.7861904761904762\n"
     ]
    }
   ],
   "source": [
    "# RSI-1: ['2358', '2664', '2020', '1410', '2290', '1605', '1572', '1831', '2651', '950'] \n",
    "# RSI-2: ['2358', '2664', '2020', '1410', '1605', '2290', '1572', '1831', '2651', '950'] \n",
    "doc_ids_11_a1_2 = ['2358', '2664', '2020', '1410', '1605', '2290', '1572', '1831', '2651', '950'] \n",
    "scores_11_a1_2 = [1.0, 0.9, 0.8, 0.7, 0.6, 0.5, 0.4, 0.3, 0.2, 0.1]\n",
    "ranking_11_a1_2 = [(did, score) for did, score in zip(doc_ids_11_a1_2, scores_11_a1_2)]\n",
    "print('> The Ranking of RSI-2:')\n",
    "print_results(ranking_11_a1_2, docs_11_by_id)\n",
    "print()\n",
    "print('> Evaluation scores for RSI-2:')\n",
    "print_scores(ranking_11_a1_2, k=len(qrels_11))"
   ]
  },
  {
   "cell_type": "markdown",
   "metadata": {},
   "source": [
    "3. In addition to the first improvement above (`RSI-2`), another ranking method returns the following ranking named `RSI-3` as an alternative improvement to the `RSI-2`:"
   ]
  },
  {
   "cell_type": "code",
   "execution_count": 12,
   "metadata": {},
   "outputs": [
    {
     "name": "stdout",
     "output_type": "stream",
     "text": [
      "> The Ranking of RSI-3:\n",
      "Rank 0(1.0): The Multics Virtual Memory: Concepts and Design\\nA...\n",
      "Rank 1(0.9): The Allocation of Computer Resources-Is Pricing th...\n",
      "Rank 2(0.8): Parallelism in Tape-Sorting\\nTwo methods for emplo...\n",
      "Rank 3(0.7): Interarrival Statistics for Time Sharing Systems\\n...\n",
      "Rank 4(0.6): Immediate Predominators in a Directed Graph [H] (A...\n",
      "Rank 5(0.5): An Experimental Comparison of Time Sharing and Bat...\n",
      "Rank 6(0.4): The Simulation of Time sharing Systems\\nThe develo...\n",
      "Rank 7(0.3): A Comment on Optimal Tree Structures...\n",
      "Rank 8(0.2): The Treatment of Data Types in EL1\\nIn constructin...\n",
      "Rank 9(0.1): Parallel Methods for Integrating Ordinary Differen...\n",
      "\n",
      "> Evaluation scores for RSI-3:\n",
      "precision@5 = 0.6\n",
      "recall@5 = 0.6\n",
      "MAP = 0.8261904761904761\n"
     ]
    }
   ],
   "source": [
    "# RSI-1: ['2358', '2664', '2020', '1410', '2290', '1605', '1572', '1831', '2651', '950'] \n",
    "# RSI-2: ['2358', '2664', '2020', '1410', '1605', '2290', '1572', '1831', '2651', '950']\n",
    "# RSI-3: ['2358', '2020', '2664', '1410', '2290', '1605', '1572', '1831', '2651', '950'] \n",
    "doc_ids_11_a1_3 = ['2358', '2020', '2664', '1410', '2290', '1605', '1572', '1831', '2651', '950'] \n",
    "scores_11_a1_3 = [1.0, 0.9, 0.8, 0.7, 0.6, 0.5, 0.4, 0.3, 0.2, 0.1]\n",
    "ranking_11_a1_3 = [(did, score) for did, score in zip(doc_ids_11_a1_3, scores_11_a1_3)]\n",
    "print('> The Ranking of RSI-3:')\n",
    "print_results(ranking_11_a1_3, docs_11_by_id)\n",
    "print()\n",
    "print('> Evaluation scores for RSI-3:')\n",
    "print_scores(ranking_11_a1_3, k=len(qrels_11))"
   ]
  },
  {
   "cell_type": "markdown",
   "metadata": {},
   "source": [
    "*<font color='red'>Question RSI:</font> For each improvement (`RSI-2` and `RSI-3`) what is the minimum number of swaps (i.e., swapping the position of two elements in the ranking) were applied with respect to the initial ranking (`RSI-1`)? Which of the two improvement rankings (`RSI-2` or `RSI-3`) is better and why?* "
   ]
  },
  {
   "cell_type": "markdown",
   "metadata": {},
   "source": [
    "*<font color='yellow'>Answer RSI: Please move the answer to the [analysis.md](analysis.md) file.</font>*\n",
    "\n",
    "RSI-1 and RSI-2 differ by 1 swap. RSI-1 and RSI-3 also differ by 1 swap.\n",
    "\n",
    "RSI-2 has a higher number of guessed positive predictions (precision), as well as better ratio of correctly guessed positives out of all true positives (recall). The MAP calculates the precision across different relevance thresholds. The better method depends on our purposes. In this specific scenario, we mainly care about having correct guesses along the first 5 predictions, therefore RSI-2 is the superior method."
   ]
  },
  {
   "cell_type": "markdown",
   "metadata": {},
   "source": [
    "##### 5.1.2: ERA - Ranking Swap Preference (RSP)"
   ]
  },
  {
   "cell_type": "markdown",
   "metadata": {},
   "source": [
    "The worst ranking can be derived by placing all the relevant documents at the end of the ranking `RSP-1`, like the ranking below:"
   ]
  },
  {
   "cell_type": "code",
   "execution_count": 13,
   "metadata": {},
   "outputs": [
    {
     "name": "stdout",
     "output_type": "stream",
     "text": [
      "> The Ranking of RSP-1:\n",
      "Rank 0(1.0): A Comment on Optimal Tree Structures...\n",
      "Rank 1(0.9): The Treatment of Data Types in EL1\\nIn constructin...\n",
      "Rank 2(0.8): Parallel Methods for Integrating Ordinary Differen...\n",
      "Rank 3(0.7): Parallelism in Tape-Sorting\\nTwo methods for emplo...\n",
      "Rank 4(0.6): Immediate Predominators in a Directed Graph [H] (A...\n",
      "Rank 5(0.5): The Multics Virtual Memory: Concepts and Design\\nA...\n",
      "Rank 6(0.4): The Allocation of Computer Resources-Is Pricing th...\n",
      "Rank 7(0.3): Interarrival Statistics for Time Sharing Systems\\n...\n",
      "Rank 8(0.2): An Experimental Comparison of Time Sharing and Bat...\n",
      "Rank 9(0.1): The Simulation of Time sharing Systems\\nThe develo...\n",
      "\n",
      "> Evaluation scores for RSP-1:\n",
      "precision@5 = 0.0\n",
      "recall@5 = 0.0\n",
      "MAP = 0.3543650793650793\n"
     ]
    }
   ],
   "source": [
    "doc_ids_11_a2_1 = [ '1831', '2651', '950', '2664', '2290', '2358', '2020', '1410', '1605', '1572']\n",
    "scores_11_a2_1 = [1.0, 0.9, 0.8, 0.7, 0.6, 0.5, 0.4, 0.3, 0.2, 0.1]\n",
    "ranking_11_a2_1 = [(did, score) for did, score in zip(doc_ids_11_a2_1, scores_11_a2_1)]\n",
    "print('> The Ranking of RSP-1:')\n",
    "print_results(ranking_11_a2_1, docs_11_by_id)\n",
    "print()\n",
    "print('> Evaluation scores for RSP-1:')\n",
    "print_scores(ranking_11_a2_1, k=len(qrels_11))"
   ]
  },
  {
   "cell_type": "markdown",
   "metadata": {},
   "source": [
    "Imagine you are trying to build a new ranking method, and to do that you are exploring the atributes of good rankings. \n",
    "\n",
    "To understand better the importance of the relevant documents at specific positions in a ranking, you explore the effects of changing their positions in it as we have seen in the previous subsection. More specifically, you consider the following scenario: \n",
    "* If you are allowed to shift relevant documents in the ranking ***k* times** (where you shift a document higher in the ranking by jumping over documents in front of them) then what would be a good shift strategy? Which documents to push higher in the ranking and how many hops further each of them to take? \n",
    "\n",
    "Practically, to be able to put this analysis into practice you start from the worst case scenario (`RSP-1`) mentioned above and you explore two cases each of which you make a total of 9 shifts / hops for relevant documents:"
   ]
  },
  {
   "cell_type": "markdown",
   "metadata": {},
   "source": [
    "1. First case (`RSP-2`):"
   ]
  },
  {
   "cell_type": "code",
   "execution_count": 14,
   "metadata": {},
   "outputs": [
    {
     "name": "stdout",
     "output_type": "stream",
     "text": [
      "['2358', '2020', '1410', '1605', '1572']\n",
      "> The Ranking of RSP-2:\n",
      "Rank 0(1.0): A Comment on Optimal Tree Structures...\n",
      "Rank 1(0.9): The Treatment of Data Types in EL1\\nIn constructin...\n",
      "Rank 2(0.8): The Multics Virtual Memory: Concepts and Design\\nA...\n",
      "Rank 3(0.7): The Allocation of Computer Resources-Is Pricing th...\n",
      "Rank 4(0.6): Interarrival Statistics for Time Sharing Systems\\n...\n",
      "Rank 5(0.5): Parallel Methods for Integrating Ordinary Differen...\n",
      "Rank 6(0.4): Parallelism in Tape-Sorting\\nTwo methods for emplo...\n",
      "Rank 7(0.3): Immediate Predominators in a Directed Graph [H] (A...\n",
      "Rank 8(0.2): An Experimental Comparison of Time Sharing and Bat...\n",
      "Rank 9(0.1): The Simulation of Time sharing Systems\\nThe develo...\n",
      "\n",
      "> Evaluation scores for RSP-2:\n",
      "precision@5 = 0.6\n",
      "recall@5 = 0.6\n",
      "MAP = 0.47555555555555545\n"
     ]
    }
   ],
   "source": [
    "# RSP-1: ['1831', '2651', '950', '2664', '2290', '2358', '2020', '1410', '1605', '1572']\n",
    "# RSP-2: ['1831', '2651', '2358', '2020', '1410', '950', '2664', '2290', '1605', '1572']\n",
    "\n",
    "# RSP-2 has moved 3 relevant documents up with 3 positions.\n",
    "\n",
    "doc_ids_11_a2_2 = ['1831', '2651', '2358', '2020', '1410', '950', '2664', '2290', '1605', '1572']\n",
    "scores_11_a2_2 = [1.0, 0.9, 0.8, 0.7, 0.6, 0.5, 0.4, 0.3, 0.2, 0.1]\n",
    "ranking_11_a2_2 = [(did, score) for did, score in zip(doc_ids_11_a2_2, scores_11_a2_2)]\n",
    "print('> The Ranking of RSP-2:')\n",
    "print_results(ranking_11_a2_2, docs_11_by_id)\n",
    "print()\n",
    "print('> Evaluation scores for RSP-2:')\n",
    "print_scores(ranking_11_a2_2, k=len(qrels_11))"
   ]
  },
  {
   "cell_type": "markdown",
   "metadata": {},
   "source": [
    "2. Second Case (`RSP-3`):"
   ]
  },
  {
   "cell_type": "code",
   "execution_count": 15,
   "metadata": {},
   "outputs": [
    {
     "name": "stdout",
     "output_type": "stream",
     "text": [
      "> The Ranking of 5.1.1-2 ranking 3\n",
      "Rank 0(1.0): The Simulation of Time sharing Systems\\nThe develo...\n",
      "Rank 1(0.9): A Comment on Optimal Tree Structures...\n",
      "Rank 2(0.8): The Treatment of Data Types in EL1\\nIn constructin...\n",
      "Rank 3(0.7): Parallel Methods for Integrating Ordinary Differen...\n",
      "Rank 4(0.6): Parallelism in Tape-Sorting\\nTwo methods for emplo...\n",
      "Rank 5(0.5): Immediate Predominators in a Directed Graph [H] (A...\n",
      "Rank 6(0.4): The Multics Virtual Memory: Concepts and Design\\nA...\n",
      "Rank 7(0.3): The Allocation of Computer Resources-Is Pricing th...\n",
      "Rank 8(0.2): Interarrival Statistics for Time Sharing Systems\\n...\n",
      "Rank 9(0.1): An Experimental Comparison of Time Sharing and Bat...\n",
      "\n",
      "> Evaluation scores for 5.1.1-2 ranking 3:\n",
      "precision@5 = 0.2\n",
      "recall@5 = 0.2\n",
      "MAP = 0.5210317460317461\n"
     ]
    }
   ],
   "source": [
    "# RSP-1: ['1831', '2651', '950', '2664', '2290', '2358', '2020', '1410', '1605', '1572']\n",
    "# RSP-3: ['1572', '1831', '2651', '950', '2664', '2290', '2358', '2020', '1410', '1605']\n",
    "\n",
    "# RSP-3 has moved only one relevant document up with 9 positions.\n",
    "\n",
    "doc_ids_11_a2_3 = ['1572', '1831', '2651', '950', '2664', '2290', '2358', '2020', '1410', '1605']\n",
    "scores_11_a2_3 = [1.0, 0.9, 0.8, 0.7, 0.6, 0.5, 0.4, 0.3, 0.2, 0.1]\n",
    "ranking_11_a2_3 = [(did, score) for did, score in zip(doc_ids_11_a2_3, scores_11_a2_3)]\n",
    "print('> The Ranking of 5.1.1-2 ranking 3')\n",
    "print_results(ranking_11_a2_3, docs_11_by_id)\n",
    "print()\n",
    "print('> Evaluation scores for 5.1.1-2 ranking 3:')\n",
    "print_scores(ranking_11_a2_3, k=len(qrels_11))"
   ]
  },
  {
   "cell_type": "markdown",
   "metadata": {},
   "source": [
    "*<font color='red'>Question RSP:</font> How many relevant documents are shifted in each ranking (`RSP-2` or `RSP-3`), with respect to the worst case ranking `RSP-1`? Which of the two rankings is better and how do you justify it? What general observation/conclusion can you make regarding the move/shift of relevant documents in the ranking?*"
   ]
  },
  {
   "cell_type": "markdown",
   "metadata": {},
   "source": [
    "*<font color='yellow'>Answer RSP: Please move the answer to the [analysis.md](analysis.md) file.</font>*\n",
    "\n",
    "RSP-2 has shifted a group of 3 relevant documents each with 3 positions up relatively to RSP-1, while RSP-3 has shifted a single relevant document up 9 positions.\n",
    "\n",
    "In the first scheme, we move more relevant results up, which might be good in smaller rankings (e.g. here it's just 10 results) and leads to better recall@5, but imagine Google returning 10000 results, and we move 1000 relevant results up by 10 positions -- the results would still be horrible. In the second scheme, we move a single relevant result to the top, which might be a much better strategy in larger rankings. \n",
    "If we have no information about the relevance of the documents and we are dealing with usually small result sets, however, RSP-2 could, potentially, on average, be better."
   ]
  },
  {
   "cell_type": "markdown",
   "metadata": {},
   "source": [
    "---\n",
    "#### Subsection 5.2: Analyzing the Retrieval Constraints (ARC)\n",
    "In this subsection we will explore some of the axioms for basic Retrieval Models in IR using the TF-IDF method."
   ]
  },
  {
   "cell_type": "markdown",
   "metadata": {},
   "source": [
    "In this section we ask you to implement two different tf-idf ranking methods:\n",
    "\n",
    "1. The `count-idf1`:\n",
    "\n",
    "$$ TF=f_{d,t} $$\n",
    "\n",
    "$$ IDF=\\log (\\frac{N}{n_t})$$\n",
    "\n",
    "2. The `double normalization-tf`:\n",
    "\n",
    "$$ TF=(k + k \\frac{f_{d,t}}{max_t f_{d,t}}) $$\n",
    "\n",
    "$$ IDF=\\log (\\frac{N}{n_t})$$\n",
    "\n",
    "where $f_{d,t}$ is the frequency of token $t$ in document $d$, $N$ is the number of total documents and $n_t$ is the number of documents containing token $t$."
   ]
  },
  {
   "cell_type": "markdown",
   "metadata": {},
   "source": [
    "**Note**: Although, we will not explicitly test the other two tf-idf ranking methods we ask you above, you should implement them yourself so that to understand how they work since you will need to investigate them further in the next questions. In addition to what said, although we will not explicitly test these notebooks and your implementations we may look into the code to check that you have actually implemented yourself.\n",
    "\n",
    "You do have the freedom though to implement them as you want. The only thing we ask is that they should follow the same method signature (i.e., method API) as the definition of the `tfidf_search` in the modules [ranking.py](./modules/ranking.py) module (but you are very flexible and allowed to use more parameters and maybe default them to other values, or use partial to fill the method's parameters to make the method's API as required). That is to say, the parameters are expected to be: first the `query`, and then the `dh` of type `Dataset`."
   ]
  },
  {
   "cell_type": "markdown",
   "metadata": {},
   "source": []
  },
  {
   "cell_type": "markdown",
   "metadata": {},
   "source": [
    "You can implement them here in the notebook or in a different module and then import them here."
   ]
  },
  {
   "cell_type": "markdown",
   "metadata": {},
   "source": [
    "*<font color='yellow'>Your implementation or imports in the next code block.</font>*"
   ]
  },
  {
   "cell_type": "code",
   "execution_count": 16,
   "metadata": {},
   "outputs": [],
   "source": [
    "# Import your implementations or implement them here\n",
    "# import ...\n",
    "# TODO: Complete this part of the code\n",
    "\n",
    "# Using integrated math functions is actually faster than using numpy for small cases and especially when not dealing with matrices.\n",
    "from math import log\n",
    "\n",
    "\n",
    "def count_idf_score(tf, tdf, n_docs):\n",
    "    \"\"\"\n",
    "    Returns the score for the naive count-based tf-idf search function.\n",
    "    \"\"\"\n",
    "    return tf * log(n_docs / tdf)\n",
    "\n",
    "\n",
    "def count_idf_search(query: str, dh: Dataset):\n",
    "    \"\"\"\n",
    "    Returns the number of documents that are retrieved by the search function\n",
    "    that are in the ideal ranking.\n",
    "    \"\"\"\n",
    "    processed_query = dh.preprocess_query(query)\n",
    "    n_docs = dh.n_docs\n",
    "    tf_index = dh.get_index()\n",
    "    df = dh.get_df()\n",
    "    scores = {}\n",
    "    for term in processed_query:\n",
    "        for doc_id, tf in tf_index.get(term, []):\n",
    "            if doc_id not in scores:\n",
    "                scores[doc_id] = 0\n",
    "            scores[doc_id] += count_idf_score(tf, df[term], n_docs)\n",
    "\n",
    "    return sorted(scores.items(), key=lambda x: x[1], reverse=True)\n",
    "\n",
    "\n",
    "def double_normalization_score(tf, max_tf, tdf, n_docs, k=0.5):\n",
    "    \"\"\"\n",
    "    Returns the tf component from the double normalization search function.\n",
    "    \"\"\"\n",
    "    return (k + (k) * (tf / max_tf)) * log(n_docs / tdf)\n",
    "\n",
    "\n",
    "def double_normalization_idf_search(query: str, dh: Dataset):\n",
    "    \"\"\"\n",
    "    Returns the number of documents that are retrieved by the search function\n",
    "    that are in the ideal ranking.\n",
    "    \"\"\"\n",
    "    processed_query = dh.preprocess_query(query)\n",
    "    n_docs = dh.n_docs\n",
    "    tf_index = dh.get_index()\n",
    "    df = dh.get_df()\n",
    "    scores = {}\n",
    "    for term in processed_query:\n",
    "        max_tf = max([tf for _, tf in tf_index[term]]\n",
    "                     ) if term in tf_index else 0\n",
    "        for doc_id, tf in tf_index.get(term, []):\n",
    "            if doc_id not in scores:\n",
    "                scores[doc_id] = 0\n",
    "            scores[doc_id] += double_normalization_score(\n",
    "                tf, max_tf, df[term], n_docs)\n",
    "\n",
    "    return sorted(scores.items(), key=lambda x: x[1], reverse=True)"
   ]
  },
  {
   "cell_type": "markdown",
   "metadata": {},
   "source": [
    "In the next code block assign the methods to the specific variables below. Note that the `log_normalization_idf` ranking method is the one you have already implemented before, so we simply import it here."
   ]
  },
  {
   "cell_type": "markdown",
   "metadata": {},
   "source": [
    "*<font color='yellow'> Replace the three dots (i.e., '...') with the appropriate methods you just imported. </font>*"
   ]
  },
  {
   "cell_type": "code",
   "execution_count": 17,
   "metadata": {},
   "outputs": [],
   "source": [
    "# TODO: Complete this part of the code\n",
    "\n",
    "count_idf_search = count_idf_search\n",
    "log_normalization_idf_search = tfidf_search\n",
    "double_normalization_idf_search = double_normalization_idf_search"
   ]
  },
  {
   "cell_type": "markdown",
   "metadata": {},
   "source": [
    "##### 5.2.1 - ARC - Word Count Importance 1 (WCI)"
   ]
  },
  {
   "cell_type": "markdown",
   "metadata": {},
   "source": [
    "Let us start from the first case (`WCI-1`). Assume we are searching for anything related to `IBM` (our query). And assume that your dataset consists of three relevant and two irrelevant documents. See code below for details."
   ]
  },
  {
   "cell_type": "code",
   "execution_count": 18,
   "metadata": {},
   "outputs": [],
   "source": [
    "# Define the example ground truth we will be working with\n",
    "q_12_1 = 'IBM'\n",
    "# we assume we have only 9 documents in our whole datasetfor the query above their qrels below have the first 5 documents as relevant and the last 5 as irrelevant documents.\n",
    "qrels_12_1 = ['1161', '69', '98']\n",
    "irrelevant_documents_12_1 = ['3128', '3073']\n",
    "docs_12_1_ids = [*qrels_12_1, *irrelevant_documents_12_1]        # all the documents are just the intersection of the relevant and irrelevant for the query documents\n",
    "docs_12_1 = get_docs(docs_12_1_ids)\n",
    "docs_12_1_by_id = dict(docs_12_1)\n",
    "\n",
    "dh_12_1 = get_dataset(docs_12_1, stopwords)"
   ]
  },
  {
   "cell_type": "markdown",
   "metadata": {},
   "source": [
    "Then we compute the ranking with each of the three tf-idf ranking methods we have and we get the following results:"
   ]
  },
  {
   "cell_type": "code",
   "execution_count": 19,
   "metadata": {},
   "outputs": [
    {
     "name": "stdout",
     "output_type": "stream",
     "text": [
      "> count_idf_search Results:\n",
      "Rank 0(1.5): 1401 Compatibility Feature on the IBM System/360 M...\n",
      "Rank 1(1.0): Statistical Programs for the IBM 650-Part I\\nA col...\n",
      "Rank 2(0.51): The Arithmetic Translator-Compiler of\\nthe IBM FOR...\n",
      "\n",
      "> log_normalization_idf_search Results:\n",
      "Rank 0(0.71): 1401 Compatibility Feature on the IBM System/360 M...\n",
      "Rank 1(0.56): Statistical Programs for the IBM 650-Part I\\nA col...\n",
      "Rank 2(0.35): The Arithmetic Translator-Compiler of\\nthe IBM FOR...\n",
      "\n",
      "> double_normalization_idf_search Results:\n",
      "Rank 0(0.51): 1401 Compatibility Feature on the IBM System/360 M...\n",
      "Rank 1(0.43): Statistical Programs for the IBM 650-Part I\\nA col...\n",
      "Rank 2(0.34): The Arithmetic Translator-Compiler of\\nthe IBM FOR...\n"
     ]
    }
   ],
   "source": [
    "#### Function check\n",
    "\n",
    "count_idf_results = count_idf_search(q_12_1, dh_12_1)\n",
    "print(f\"> count_idf_search Results:\")\n",
    "print_results(count_idf_results, docs_12_1_by_id)\n",
    "\n",
    "print()\n",
    "log_norm_idf_results = log_normalization_idf_search(q_12_1, dh_12_1)\n",
    "print(f\"> log_normalization_idf_search Results:\")\n",
    "print_results(log_norm_idf_results, docs_12_1_by_id)\n",
    "\n",
    "print()\n",
    "double_norm_idf_results = double_normalization_idf_search(q_12_1, dh_12_1)\n",
    "print(f\"> double_normalization_idf_search Results:\")\n",
    "print_results(double_norm_idf_results, docs_12_1_by_id)\n"
   ]
  },
  {
   "cell_type": "code",
   "execution_count": 20,
   "metadata": {},
   "outputs": [
    {
     "data": {
      "text/plain": [
       "[('1161', 3), ('69', 2), ('98', 1)]"
      ]
     },
     "execution_count": 20,
     "metadata": {},
     "output_type": "execute_result"
    }
   ],
   "source": [
    "# Check the term count\n",
    "dh_12_1.get_index()[\"ibm\"]\n"
   ]
  },
  {
   "cell_type": "markdown",
   "metadata": {},
   "source": [
    "*<font color='red'>Question WCI 1:</font>*\n",
    "- Why do we see only three out of the five documents in each of the rankings (what is so special with the ones omitted)? \n",
    "- After Preprocessing how many times does the 'IBM' word appear in each document? \n",
    "- Do you see any correlation between the term count and the score for each of the tf-idf methods? Is this the same for all of the ranking methods? If not, why is it different in each case?"
   ]
  },
  {
   "cell_type": "markdown",
   "metadata": {},
   "source": [
    "*<font color='yellow'>Answer WCI 1: Please move the answer to the [analysis.md](analysis.md) file.</font>*\n",
    "\n",
    "The remaining 2 documents have 0 occurrences of 'ibm', which is why they are omitted (the search ignores any words that do not appear in the processed query).\n",
    "\n",
    "'ibm' frequency: [('1161', 3), ('69', 2), ('98', 1)]\n",
    "\n",
    "There is a correlation between rankings and Term Frequency-Inverse Document Frequency (TF-IDF), but its strength varies across the three methods because of the normalization applied for log_normalization_idf_search and double_normalization_idf_search."
   ]
  },
  {
   "cell_type": "markdown",
   "metadata": {},
   "source": [
    "##### 5.2.2 - ARC - Word Count Importance 2 (WCI)"
   ]
  },
  {
   "cell_type": "markdown",
   "metadata": {},
   "source": [
    "Moving to the second case (`WCI-2`). Assume we are searching for the query term `'about programs'` (our query). And assume that your dataset consists of four relevant and two irrelevant documents. See code below for details."
   ]
  },
  {
   "cell_type": "code",
   "execution_count": 21,
   "metadata": {},
   "outputs": [],
   "source": [
    "# Define the example ground truth we will be working with\n",
    "q_12_2 = 'about programs'\n",
    "# we assume we have only 9 documents in our whole datasetfor the query above their qrels below have the first 5 documents as relevant and the last 5 as irrelevant documents.\n",
    "qrels_12_2 = ['71', '2217', '2605', '1050']\n",
    "irrelevant_documents_12_2 = ['3128', '373']\n",
    "docs_12_2_ids = [*qrels_12_2, *irrelevant_documents_12_2]        # all the documents are just the intersection of the relevant and irrelevant for the query documents\n",
    "docs_12_2 = get_docs(docs_12_2_ids)\n",
    "docs_12_2_by_id = dict(docs_12_2)\n",
    "\n",
    "dh_12_2 = get_dataset(docs_12_2, stopwords)"
   ]
  },
  {
   "cell_type": "markdown",
   "metadata": {},
   "source": [
    "The rankings as returned by each ranking method can be seen below:"
   ]
  },
  {
   "cell_type": "code",
   "execution_count": 22,
   "metadata": {},
   "outputs": [
    {
     "name": "stdout",
     "output_type": "stream",
     "text": [
      "> count_idf_search Results:\n",
      "Rank 0(4.5): Proposal for a Feasible Programming System\\nThis p...\n",
      "Rank 1(4.1): Experiments in Automatic Learning for a Multipurpo...\n",
      "Rank 2(0.81): A Precise Numerical Analysis Program\\nA descriptio...\n",
      "Rank 3(0.41): A Parts Breakdown Technique Using List Structures\\...\n",
      "\n",
      "> log_normalization_idf_search Results:\n",
      "Rank 0(1.0): Proposal for a Feasible Programming System\\nThis p...\n",
      "Rank 1(0.97): Experiments in Automatic Learning for a Multipurpo...\n",
      "Rank 2(0.45): A Precise Numerical Analysis Program\\nA descriptio...\n",
      "Rank 3(0.28): A Parts Breakdown Technique Using List Structures\\...\n",
      "\n",
      "> double_normalization_idf_search Results:\n",
      "Rank 0(0.41): Proposal for a Feasible Programming System\\nThis p...\n",
      "Rank 1(0.39): Experiments in Automatic Learning for a Multipurpo...\n",
      "Rank 2(0.24): A Precise Numerical Analysis Program\\nA descriptio...\n",
      "Rank 3(0.22): A Parts Breakdown Technique Using List Structures\\...\n"
     ]
    }
   ],
   "source": [
    "#### Function check\n",
    "count_idf_results = count_idf_search(q_12_2, dh_12_2)\n",
    "print(f\"> count_idf_search Results:\")\n",
    "print_results(count_idf_results, docs_12_2_by_id)\n",
    "\n",
    "print()\n",
    "log_norm_idf_results = log_normalization_idf_search(q_12_2, dh_12_2)\n",
    "print(f\"> log_normalization_idf_search Results:\")\n",
    "print_results(log_norm_idf_results, docs_12_2_by_id)\n",
    "\n",
    "print()\n",
    "double_norm_idf_results = double_normalization_idf_search(q_12_2, dh_12_2)\n",
    "print(f\"> double_normalization_idf_search Results:\")\n",
    "print_results(double_norm_idf_results, docs_12_2_by_id)\n"
   ]
  },
  {
   "cell_type": "code",
   "execution_count": 23,
   "metadata": {},
   "outputs": [
    {
     "data": {
      "text/plain": [
       "[('71', 11), ('2217', 10), ('2605', 2), ('1050', 1)]"
      ]
     },
     "execution_count": 23,
     "metadata": {},
     "output_type": "execute_result"
    }
   ],
   "source": [
    "# Check the term count\n",
    "dh_12_2.get_index()[\"program\"]"
   ]
  },
  {
   "cell_type": "markdown",
   "metadata": {},
   "source": [
    "*<font color='red'>Question WCI 2:</font>*\n",
    "\n",
    "- What is the term frequency of each query term? What is the difference of the term-frequency of the `program` word between documents '71' and '2217', and what is the same tf difference between documents '2217' and '2606'? Is it the same or different? \n",
    "- Does the ranking score difference of the respective documents change proportionally or is it irrelevant? \n",
    "- Does the difference of ranking scores depend on the absolute term frequency values for each ranking method? \n",
    "- Is the behavior similar for each method, and explain why it is the same/different?"
   ]
  },
  {
   "cell_type": "markdown",
   "metadata": {},
   "source": [
    "*<font color='yellow'>Answer WCI 2: Please move the answer to the [analysis.md](analysis.md) file.</font>*\n",
    "\n",
    "The term frequency of 'program' in the documents is [('71', 11), ('2217', 10), ('2605', 2), ('1050', 1)]. The term frequency difference between documents '71' and '2217' is 1, and the term frequency difference between documents '2217' and '2605' is 8.\n",
    "\n",
    "The ranking score difference is proportional to the count method and it is also relevant for the log and double normalization methods (but not proportional).\n",
    "The ranking scores for the count method are related to the relative (not absolute) term frequency values because it considers both the frequency of a term in a specific document (TF) and its inverse document frequency (IDF) across the entire list of documents. Log-normalization decreases the sensitivity of this relation and double-normalization decreases it more.\n",
    "\n",
    "The count-based method directly translates term frequency into scores, while the log-normalization and double-normalization reduce its impact adjusting the term frequency relative to the highest frequency term in a document. This leads to a more balanced scoring that accounts for document length and term saturation."
   ]
  },
  {
   "cell_type": "markdown",
   "metadata": {},
   "source": [
    "##### 5.2.3 - ARC - Word Count Importance 3 (WCI)"
   ]
  },
  {
   "cell_type": "markdown",
   "metadata": {},
   "source": [
    "We keep the same example as above, but we now add an extension text at the end of each document in our customized dataset. Case `WCI-3`:"
   ]
  },
  {
   "cell_type": "code",
   "execution_count": 24,
   "metadata": {},
   "outputs": [],
   "source": [
    "import copy\n",
    "# Define the example ground truth we will be working with\n",
    "q_12_3 = q_12_2\n",
    "# we assume we have only 9 documents in our whole datasetfor the query above their qrels below have the first 5 documents as relevant and the last 5 as irrelevant documents.\n",
    "qrels_12_3 = copy.deepcopy(qrels_12_2)\n",
    "irrelevant_documents_12_3 = copy.deepcopy(irrelevant_documents_12_2)\n",
    "docs_12_3_ids = [*qrels_12_2, *irrelevant_documents_12_3]        # all the documents are just the intersection of the relevant and irrelevant for the query documents\n",
    "docs_12_3 = get_docs(docs_12_3_ids)\n",
    "text_extension = \"\"\"\n",
    "Amsterdam, a city of dreams so grand,\n",
    "Canals like ribbons across the land.\n",
    "Tulips bloom in colors bright,\n",
    "Underneath soft, starry night.\n",
    "\n",
    "Bicycles whirring on cobbled streets,\n",
    "Histories told by every beat.\n",
    "Anne Frank's courage, tales of old,\n",
    "In Amsterdam's story, they unfold.\n",
    "\n",
    "Art and culture, a vibrant scene,\n",
    "Rembrandt's masterpieces, evergreen.\n",
    "Coffee shops and markets thrive,\n",
    "In Amsterdam's heart, adventure's alive.\n",
    "\n",
    "From Dam Square's hustle to peaceful Vondelpark,\n",
    "Amsterdam's beauty leaves a lasting mark.\n",
    "A city of freedom, open and free,\n",
    "Amsterdam's charm captures all who see.\n",
    "\"\"\"\n",
    "\n",
    "# Add the text extension at the end of each text.\n",
    "for i in range(len(docs_12_3)):\n",
    "    docs_12_3[i] = (docs_12_3[i][0], docs_12_3[i][1] + text_extension)\n",
    "docs_12_3_by_id = dict(docs_12_3)\n",
    "\n",
    "dh_12_3 = get_dataset(docs_12_3, stopwords)"
   ]
  },
  {
   "cell_type": "markdown",
   "metadata": {},
   "source": [
    "We now re-evaluate our ranking methods."
   ]
  },
  {
   "cell_type": "code",
   "execution_count": 25,
   "metadata": {},
   "outputs": [
    {
     "name": "stdout",
     "output_type": "stream",
     "text": [
      "> count_idf_search Results:\n",
      "Rank 0(4.5): Proposal for a Feasible Programming System\\nThis p...\n",
      "Rank 1(4.1): Experiments in Automatic Learning for a Multipurpo...\n",
      "Rank 2(0.81): A Precise Numerical Analysis Program\\nA descriptio...\n",
      "Rank 3(0.41): A Parts Breakdown Technique Using List Structures\\...\n",
      "\n",
      "> log_normalization_idf_search Results:\n",
      "Rank 0(1.0): Proposal for a Feasible Programming System\\nThis p...\n",
      "Rank 1(0.97): Experiments in Automatic Learning for a Multipurpo...\n",
      "Rank 2(0.45): A Precise Numerical Analysis Program\\nA descriptio...\n",
      "Rank 3(0.28): A Parts Breakdown Technique Using List Structures\\...\n",
      "\n",
      "> double_normalization_idf_search Results:\n",
      "Rank 0(0.41): Proposal for a Feasible Programming System\\nThis p...\n",
      "Rank 1(0.39): Experiments in Automatic Learning for a Multipurpo...\n",
      "Rank 2(0.24): A Precise Numerical Analysis Program\\nA descriptio...\n",
      "Rank 3(0.22): A Parts Breakdown Technique Using List Structures\\...\n"
     ]
    }
   ],
   "source": [
    "#### Function check\n",
    "count_idf_results = count_idf_search(q_12_3, dh_12_3)\n",
    "print(f\"> count_idf_search Results:\")\n",
    "print_results(count_idf_results, docs_12_3_by_id)\n",
    "\n",
    "print()\n",
    "log_norm_idf_results = log_normalization_idf_search(q_12_3, dh_12_3)\n",
    "print(f\"> log_normalization_idf_search Results:\")\n",
    "print_results(log_norm_idf_results, docs_12_3_by_id)\n",
    "\n",
    "print()\n",
    "double_norm_idf_results = double_normalization_idf_search(q_12_3, dh_12_3)\n",
    "print(f\"> double_normalization_idf_search Results:\")\n",
    "print_results(double_norm_idf_results, docs_12_3_by_id)\n"
   ]
  },
  {
   "cell_type": "markdown",
   "metadata": {},
   "source": [
    "*<font color='red'>Question WCI 3:</font>*\n",
    "\n",
    "Based on this change of adding a new text at the end of each document. Do the ranking scores drop, remain the same or increase for each ranking method? Why is that?"
   ]
  },
  {
   "cell_type": "markdown",
   "metadata": {},
   "source": [
    "*<font color='yellow'>Answer WCI 3: Please move the answer to the [analysis.md](analysis.md) file.</font>*\n",
    "\n",
    "They stay the same for the `count_idf_search`, and the `log_normalization_idf_search` because they do not account for the size of the document, but only for counting the relevant terms in the text. On the other hand, the `double_normalization_idf_search`'s ranking score could drop as it is normalized by the maximum term-frequency of the document (and we increase the frequency of irrelevant terms).\n"
   ]
  },
  {
   "cell_type": "markdown",
   "metadata": {},
   "source": [
    "##### 5.2-4 - Ranking Method Analysis 4 - Conclusion"
   ]
  },
  {
   "cell_type": "markdown",
   "metadata": {},
   "source": [
    "In this section we evaluate the three tf-idf ranking methods we have to the dataset we used previously. Below you can see the code, and in the last code block the evaluation results."
   ]
  },
  {
   "cell_type": "code",
   "execution_count": 26,
   "metadata": {},
   "outputs": [],
   "source": [
    "docs = read_cacm_docs()\n",
    "stopwords = load_stopwords()\n",
    "queries = read_queries()\n",
    "qrels = read_qrels()"
   ]
  },
  {
   "cell_type": "code",
   "execution_count": 27,
   "metadata": {},
   "outputs": [],
   "source": [
    "dh = get_dataset(docs, stopwords)\n",
    "dh.docs_by_id = dict(docs)\n",
    "dh.doc_rep_dict = dict(dh.doc_rep) "
   ]
  },
  {
   "cell_type": "code",
   "execution_count": 28,
   "metadata": {},
   "outputs": [],
   "source": [
    "list_of_metrics = [\n",
    "    (\"RECALL@100\", partial(recall_k, k=100)),\n",
    "    (\"MAP\", average_precision)]"
   ]
  },
  {
   "cell_type": "code",
   "execution_count": 29,
   "metadata": {},
   "outputs": [],
   "source": [
    "list_of_search_fns = [\n",
    "    (\"count_idf_search\", count_idf_search),\n",
    "    (\"log_normalization_idf_search\", log_normalization_idf_search),\n",
    "    (\"double_normalization_idf_search\", double_normalization_idf_search),\n",
    "]"
   ]
  },
  {
   "cell_type": "code",
   "execution_count": 30,
   "metadata": {},
   "outputs": [
    {
     "name": "stdout",
     "output_type": "stream",
     "text": [
      "\tEvaluating Search Function: count_idf_search\n"
     ]
    },
    {
     "name": "stdout",
     "output_type": "stream",
     "text": [
      "\t\tMetric: RECALL@100: 0.4715\n",
      "\t\tMetric: MAP: 0.1631\n",
      "\n",
      "\tEvaluating Search Function: log_normalization_idf_search\n",
      "\t\tMetric: RECALL@100: 0.5530\n",
      "\t\tMetric: MAP: 0.2548\n",
      "\n",
      "\tEvaluating Search Function: double_normalization_idf_search\n",
      "\t\tMetric: RECALL@100: 0.5665\n",
      "\t\tMetric: MAP: 0.2710\n",
      "\n"
     ]
    }
   ],
   "source": [
    "from modules.evaluation import evaluate_search_fn\n",
    "results = {}\n",
    "index_sets = {1, 2}\n",
    "\n",
    "results = {}\n",
    "for search_fn_name, search_fn in list_of_search_fns:\n",
    "    print(f\"\\tEvaluating Search Function: {search_fn_name}\")\n",
    "    results[search_fn_name] = evaluate_search_fn(search_fn_name, search_fn, list_of_metrics, dh, queries, qrels)\n",
    "    for metric_name, metric_val in results[search_fn_name].items():\n",
    "        print(f\"\\t\\tMetric: {metric_name}: {metric_val:0.4f}\")\n",
    "    print()"
   ]
  },
  {
   "cell_type": "code",
   "execution_count": 31,
   "metadata": {},
   "outputs": [
    {
     "data": {
      "text/plain": [
       "(1,\n",
       " 243,\n",
       " dict_values([6, 6, 5, 5, 4, 3, 5, 4, 2, 5, 10, 6, 5, 11, 4, 5, 3, 4, 5, 25, 4, 8, 9, 4, 4, 4, 6, 3, 2, 8, 5, 8, 7, 3, 6, 7, 3, 3, 23, 116, 5, 5, 4, 6, 6, 58, 5, 116, 8, 7, 4, 13, 4, 6, 2, 5, 7, 54, 18, 6, 5, 8, 44, 4, 6, 6, 4, 73, 17, 22, 90, 3, 4, 5, 5, 9, 3, 68, 6, 9, 5, 22, 5, 23, 5, 16, 8, 10, 8, 8, 4, 45, 16, 17, 56, 45, 8, 9, 4, 7, 3, 4, 72, 68, 5, 73, 3, 5, 3, 2, 48, 8, 4, 4, 3, 43, 6, 4, 3, 5, 4, 6, 59, 30, 6, 8, 5, 6, 6, 8, 10, 6, 9, 9, 5, 3, 6, 8, 6, 6, 3, 3, 14, 85, 4, 48, 6, 5, 10, 8, 5, 6, 3, 5, 2, 5, 5, 6, 5, 6, 6, 3, 3, 4, 4, 7, 6, 9, 3, 5, 6, 7, 5, 9, 9, 7, 19, 4, 10, 10, 10, 10, 4, 8, 71, 8, 2, 6, 4, 4, 3, 4, 4, 6, 2, 5, 3, 7, 6, 9, 9, 43, 4, 4, 34, 3, 4, 4, 4, 8, 5, 6, 4, 5, 7, 4, 5, 4, 3, 5, 4, 22, 3, 51, 7, 11, 5, 5, 2, 4, 5, 5, 6, 6, 2, 28, 7, 4, 6, 5, 53, 27, 110, 7, 9, 9, 7, 47, 9, 6, 37, 49, 10, 58, 5, 7, 5, 6, 5, 6, 2, 1, 5, 4, 44, 4, 5, 5, 4, 4, 8, 39, 4, 10, 6, 39, 6, 103, 4, 5, 29, 74, 3, 73, 3, 5, 4, 4, 7, 6, 3, 5, 8, 3, 6, 4, 5, 72, 4, 33, 7, 5, 31, 8, 5, 5, 5, 5, 5, 9, 7, 3, 5, 4, 3, 3, 6, 8, 60, 61, 112, 69, 5, 6, 8, 5, 9, 6, 70, 5, 8, 39, 8, 8, 58, 10, 4, 6, 7, 6, 6, 10, 10, 7, 8, 8, 9, 8, 3, 9, 9, 7, 7, 10, 7, 5, 8, 7, 5, 6, 5, 4, 5, 3, 6, 5, 43, 8, 6, 6, 10, 7, 8, 5, 5, 5, 5, 6, 2, 42, 6, 5, 6, 6, 5, 5, 6, 10, 7, 7, 5, 4, 5, 4, 4, 72, 122, 2, 8, 7, 5, 2, 8, 5, 29, 9, 8, 4, 70, 2, 8, 4, 4, 32, 4, 7, 55, 5, 6, 5, 8, 5, 6, 6, 7, 7, 5, 6, 10, 5, 5, 6, 12, 5, 62, 3, 3, 11, 8, 61, 83, 7, 8, 7, 5, 7, 3, 6, 6, 7, 7, 6, 6, 7, 6, 5, 7, 6, 5, 5, 7, 76, 4, 68, 5, 7, 6, 7, 7, 7, 5, 7, 5, 4, 4, 5, 4, 2, 30, 8, 4, 7, 30, 6, 11, 6, 5, 5, 10, 5, 6, 47, 5, 9, 78, 5, 104, 8, 6, 5, 5, 7, 9, 5, 6, 5, 13, 6, 6, 7, 7, 6, 5, 6, 8, 7, 7, 10, 9, 6, 5, 7, 5, 8, 5, 3, 67, 4, 5, 5, 119, 5, 107, 5, 9, 89, 14, 11, 7, 7, 7, 5, 6, 7, 9, 7, 6, 6, 7, 7, 7, 7, 8, 7, 6, 3, 4, 54, 6, 4, 3, 5, 6, 5, 5, 6, 7, 7, 6, 8, 7, 10, 10, 7, 9, 6, 5, 10, 5, 7, 4, 2, 4, 5, 105, 10, 6, 8, 8, 8, 11, 3, 6, 7, 63, 25, 6, 31, 3, 4, 7, 2, 4, 2, 60, 8, 3, 5, 5, 5, 6, 5, 5, 7, 69, 192, 35, 27, 93, 5, 6, 7, 7, 7, 9, 19, 3, 7, 8, 41, 9, 4, 11, 5, 4, 4, 96, 7, 7, 9, 9, 2, 11, 85, 5, 9, 8, 6, 5, 7, 5, 4, 11, 6, 26, 6, 4, 7, 6, 7, 17, 6, 5, 5, 7, 8, 6, 8, 2, 136, 67, 6, 4, 10, 120, 4, 60, 59, 87, 5, 5, 4, 5, 9, 6, 5, 5, 8, 10, 7, 34, 3, 31, 27, 135, 107, 10, 46, 33, 6, 6, 5, 5, 10, 7, 7, 7, 11, 5, 6, 6, 6, 6, 5, 6, 5, 49, 13, 57, 5, 36, 5, 4, 129, 4, 30, 50, 59, 2, 60, 59, 7, 9, 9, 8, 7, 6, 7, 5, 5, 6, 6, 5, 5, 5, 5, 8, 6, 3, 3, 5, 3, 9, 3, 54, 4, 3, 21, 51, 2, 25, 5, 6, 8, 9, 8, 26, 22, 6, 6, 7, 5, 6, 5, 9, 14, 7, 10, 6, 18, 6, 6, 5, 6, 10, 8, 6, 11, 5, 5, 4, 11, 3, 37, 5, 124, 5, 4, 42, 6, 7, 5, 5, 6, 6, 5, 6, 6, 5, 6, 6, 6, 6, 6, 8, 8, 5, 5, 3, 3, 5, 26, 4, 68, 55, 6, 12, 18, 8, 5, 9, 7, 6, 7, 9, 8, 7, 6, 7, 7, 6, 7, 5, 4, 4, 4, 14, 39, 85, 49, 78, 6, 3, 94, 72, 52, 23, 40, 3, 30, 51, 4, 2, 5, 66, 2, 82, 7, 7, 7, 5, 10, 5, 6, 7, 7, 8, 8, 9, 5, 8, 6, 7, 9, 7, 8, 11, 5, 6, 17, 58, 44, 59, 46, 17, 5, 10, 5, 8, 5, 7, 5, 6, 7, 6, 6, 7, 3, 5, 4, 3, 8, 1, 2, 3, 1, 1, 1, 5, 3, 7, 5, 5, 5, 7, 5, 6, 3, 2, 7, 6, 11, 8, 7, 7, 7, 9, 5, 6, 36, 34, 64, 5, 74, 5, 18, 4, 2, 34, 64, 27, 3, 3, 5, 5, 3, 5, 2, 8, 4, 27, 73, 37, 66, 9, 8, 9, 14, 6, 7, 51, 107, 58, 40, 8, 8, 11, 8, 9, 43, 46, 45, 14, 10, 7, 13, 14, 6, 3, 29, 10, 8, 8, 7, 7, 9, 4, 3, 3, 3, 62, 67, 136, 6, 7, 22, 16, 37, 22, 56, 9, 127, 48, 44, 40, 32, 11, 7, 9, 9, 9, 9, 9, 4, 60, 49, 3, 35, 79, 55, 23, 104, 99, 56, 66, 3, 10, 9, 9, 8, 8, 10, 54, 26, 29, 73, 34, 54, 63, 19, 82, 40, 21, 7, 9, 5, 7, 9, 5, 6, 6, 71, 12, 10, 21, 111, 36, 7, 6, 6, 53, 47, 16, 5, 5, 6, 7, 8, 7, 7, 7, 8, 56, 50, 13, 15, 28, 64, 3, 8, 9, 7, 6, 6, 5, 9, 16, 142, 98, 6, 7, 5, 3, 4, 3, 3, 2, 108, 27, 39, 36, 50, 70, 30, 26, 50, 43, 7, 14, 21, 30, 19, 5, 6, 5, 5, 6, 6, 8, 6, 4, 5, 6, 73, 173, 5, 3, 4, 5, 7, 4, 4, 102, 36, 108, 50, 53, 30, 6, 5, 5, 21, 21, 85, 138, 8, 10, 25, 69, 81, 82, 75, 38, 50, 63, 89, 41, 25, 98, 118, 62, 70, 53, 8, 7, 10, 8, 11, 87, 67, 50, 33, 32, 54, 35, 34, 9, 91, 9, 10, 9, 8, 7, 129, 68, 58, 88, 24, 65, 39, 12, 8, 7, 21, 7, 90, 4, 5, 7, 28, 18, 26, 22, 25, 29, 52, 9, 8, 9, 8, 8, 10, 82, 25, 53, 47, 6, 8, 8, 22, 18, 13, 34, 90, 93, 76, 62, 70, 6, 6, 8, 9, 7, 4, 4, 3, 59, 23, 17, 9, 27, 48, 59, 19, 46, 3, 57, 49, 35, 42, 70, 53, 20, 119, 101, 11, 72, 9, 8, 44, 43, 98, 14, 40, 10, 3, 5, 52, 31, 63, 41, 37, 8, 5, 13, 12, 11, 30, 7, 138, 3, 63, 10, 59, 87, 7, 7, 12, 9, 8, 3, 11, 12, 23, 44, 26, 112, 107, 73, 6, 2, 2, 5, 35, 116, 9, 10, 7, 9, 8, 6, 6, 105, 96, 87, 55, 84, 4, 5, 7, 64, 14, 40, 63, 11, 5, 7, 6, 3, 11, 57, 7, 8, 46, 24, 57, 71, 69, 86, 198, 32, 37, 31, 62, 8, 8, 7, 47, 93, 9, 13, 102, 36, 50, 98, 136, 18, 29, 33, 11, 9, 8, 43, 15, 8, 9, 10, 10, 101, 45, 96, 43, 37, 57, 142, 61, 62, 63, 60, 66, 60, 64, 87, 73, 37, 42, 95, 52, 35, 26, 29, 36, 60, 60, 10, 11, 9, 120, 118, 83, 85, 115, 54, 15, 102, 44, 43, 8, 8, 40, 56, 12, 97, 27, 98, 58, 73, 30, 35, 88, 22, 49, 106, 43, 82, 9, 10, 21, 42, 46, 63, 16, 39, 25, 46, 8, 7, 10, 7, 12, 10, 9, 86, 104, 89, 89, 71, 43, 40, 41, 4, 79, 62, 69, 53, 4, 39, 86, 105, 193, 54, 44, 44, 50, 38, 178, 11, 9, 10, 10, 8, 43, 32, 48, 79, 50, 104, 75, 64, 11, 101, 7, 11, 10, 55, 45, 112, 26, 13, 10, 26, 48, 90, 71, 53, 91, 45, 10, 16, 11, 12, 12, 7, 54, 36, 81, 112, 85, 82, 11, 11, 8, 68, 48, 120, 51, 107, 55, 37, 48, 21, 4, 45, 84, 53, 61, 10, 10, 25, 38, 35, 83, 130, 68, 6, 2, 10, 39, 60, 77, 34, 81, 39, 57, 8, 8, 9, 11, 34, 13, 10, 8, 28, 71, 37, 60, 35, 36, 26, 67, 58, 98, 11, 9, 9, 12, 13, 11, 13, 10, 11, 7, 9, 10, 9, 21, 46, 77, 95, 85, 141, 43, 39, 89, 58, 8, 10, 10, 10, 8, 78, 84, 75, 53, 108, 10, 9, 78, 86, 34, 37, 51, 62, 60, 37, 47, 10, 13, 31, 53, 50, 41, 72, 13, 64, 72, 50, 42, 40, 50, 43, 67, 27, 85, 42, 50, 68, 80, 9, 11, 127, 51, 36, 31, 59, 57, 92, 8, 57, 114, 117, 120, 72, 50, 11, 9, 28, 44, 39, 7, 7, 8, 9, 94, 202, 14, 13, 13, 11, 13, 106, 26, 34, 77, 22, 86, 92, 47, 79, 136, 85, 31, 35, 83, 52, 54, 6, 6, 12, 6, 96, 40, 87, 28, 117, 45, 65, 83, 76, 122, 11, 6, 75, 9, 141, 72, 32, 27, 61, 60, 86, 18, 50, 9, 8, 9, 44, 26, 74, 24, 63, 63, 43, 48, 109, 136, 144, 65, 9, 8, 9, 9, 10, 11, 32, 10, 8, 88, 54, 36, 129, 57, 43, 45, 68, 21, 83, 78, 33, 80, 78, 68, 46, 53, 6, 10, 16, 9, 7, 9, 10, 7, 12, 100, 49, 32, 42, 85, 122, 47, 117, 11, 13, 44, 13, 6, 10, 8, 8, 11, 43, 34, 50, 49, 22, 44, 36, 62, 9, 13, 10, 76, 12, 6, 5, 5, 11, 9, 10, 7, 10, 10, 9, 8, 105, 65, 88, 33, 55, 96, 130, 4, 12, 8, 8, 11, 9, 12, 9, 9, 11, 10, 8, 132, 93, 47, 117, 47, 109, 6, 4, 3, 4, 55, 36, 44, 13, 9, 14, 10, 11, 9, 33, 133, 81, 89, 119, 20, 8, 10, 8, 37, 86, 91, 64, 184, 7, 23, 34, 34, 37, 119, 9, 11, 11, 13, 51, 56, 74, 32, 48, 9, 19, 64, 44, 22, 68, 79, 106, 11, 10, 12, 8, 51, 90, 96, 23, 76, 73, 82, 81, 104, 13, 9, 9, 9, 9, 10, 11, 51, 49, 53, 6, 8, 62, 101, 43, 108, 24, 38, 58, 37, 10, 10, 59, 80, 13, 11, 11, 9, 13, 14, 29, 85, 56, 59, 42, 101, 75, 87, 68, 59, 83, 33, 27, 165, 48, 59, 97, 12, 8, 11, 9, 10, 50, 124, 41, 62, 6, 4, 70, 5, 11, 11, 13, 107, 49, 59, 72, 52, 60, 109, 4, 6, 10, 7, 11, 11, 9, 25, 18, 31, 33, 89, 38, 135, 46, 107, 10, 11, 9, 9, 8, 9, 9, 11, 11, 48, 73, 5, 5, 9, 10, 9, 12, 10, 96, 41, 33, 55, 25, 184, 127, 69, 20, 4, 6, 9, 11, 9, 11, 11, 9, 11, 56, 51, 66, 61, 51, 103, 4, 3, 4, 3, 26, 8, 11, 12, 9, 80, 73, 31, 147, 39, 132, 62, 9, 8, 11, 9, 7, 30, 12, 9, 8, 128, 55, 60, 31, 59, 90, 35, 102, 106, 11, 6, 11, 11, 61, 136, 96, 56, 5, 69, 92, 5, 6, 5, 4, 4, 8, 9, 14, 7, 15, 35, 31, 42, 7, 48, 77, 90, 65, 8, 3, 4, 3, 6, 8, 10, 66, 115, 60, 59, 59, 108, 63, 15, 11, 7, 16, 9, 9, 10, 64, 137, 29, 26, 51, 75, 57, 55, 102, 43, 5, 13, 17, 11, 7, 12, 9, 10, 12, 10, 62, 21, 103, 34, 30, 72, 13, 12, 13, 45, 46, 12, 78, 76, 28, 55, 47, 76, 14, 154, 119, 75, 82, 48, 16, 59, 54, 73, 74, 61, 41, 7, 7, 15, 4, 66, 7, 47, 76, 77, 40, 56, 86, 31, 56, 22, 4, 9, 10, 34, 84, 101, 117, 94, 74, 25, 143, 3, 2, 82, 40, 87, 67, 116, 140, 2, 7, 22, 31, 106, 74, 120, 84, 134, 13, 60, 84, 133, 78, 45, 12, 13, 48, 99, 31, 83, 68, 2, 14, 20, 111, 103, 150, 76, 107, 62, 6, 6, 9, 10, 10, 33, 45, 52, 78, 57, 47, 109, 243, 7, 7, 24, 5, 7, 5, 11, 18, 18, 12, 8, 107, 57, 68, 59, 57, 9, 46, 101, 61, 74, 6, 7, 6, 15, 11, 11, 51, 39, 141, 74, 117, 45, 38, 70, 7, 14, 7, 27, 74, 91, 74, 61, 63, 7, 3, 4, 5, 5, 62, 14, 38, 55, 72, 55, 159, 9, 10, 4, 5, 5, 5, 5, 98, 44, 45, 63, 89, 81, 24, 44, 64, 25, 71, 59, 20, 70, 29, 13, 44, 160, 21, 57, 96, 27, 62, 60, 80, 32, 53, 50, 38, 41, 30, 5, 5, 7, 7, 9, 9, 8, 9, 7, 24, 21, 48, 56, 123, 129, 89, 150, 46, 14, 10, 10, 12, 11, 4, 5, 45, 108, 71, 45, 81, 109, 99, 5, 8, 10, 9, 12, 31, 60, 68, 65, 65, 69, 29, 66, 92, 43, 82, 50, 85, 85, 55, 85, 10, 6, 68, 12, 10, 9, 30, 54, 51, 75, 9, 12, 10, 11, 23, 121, 6, 78, 36, 40, 89, 129, 11, 9, 11, 76, 37, 32, 33, 29, 4, 6, 27, 11, 13, 10, 9, 10, 14, 75, 133, 7, 102, 99, 2, 18, 10, 14, 14, 9, 14, 6, 84, 43, 33, 27, 73, 108, 50, 7, 9, 7, 8, 8, 6, 9, 21, 2, 32, 47, 96, 68, 75, 46, 75, 62, 48, 7, 12, 8, 6, 8, 9, 11, 13, 10, 11, 10, 41, 132, 83, 7, 9, 9, 15, 7, 4, 5, 74, 80, 55, 46, 137, 90, 74, 77, 57, 25, 12, 59, 28, 39, 41, 78, 12, 72, 125, 53, 132, 90, 71, 6, 3, 6, 11, 7, 10, 7, 8, 8, 5, 7, 41, 53, 79, 79, 46, 46, 54, 9, 12, 74, 68, 57, 97, 84, 64, 10, 10, 13, 7, 5, 12, 125, 104, 67, 71, 76, 14, 7, 84, 77, 43, 35, 38, 65, 84, 9, 11, 14, 6, 8, 7, 88, 86, 53, 42, 27, 57, 49, 68, 6, 6, 9, 10, 13, 94, 100, 116, 56, 68, 108, 3, 4, 5, 6, 8, 6, 48, 71, 58, 69, 9, 48, 11, 15, 7, 7, 10, 5, 8, 82, 67, 59, 86, 83, 57, 115, 5, 12, 19, 13, 42, 54, 53, 87, 8, 6, 36, 60, 8, 7, 9, 10, 13, 28, 6, 20, 63, 128, 43, 118, 59, 68, 104, 50, 70, 124, 97, 29, 79, 85, 33, 44, 8, 9, 9, 9, 7, 7, 11, 13, 37, 54, 101, 78, 7, 44, 31, 62, 72, 63, 11, 13, 12, 59, 67, 8, 4, 5, 8, 10, 5, 28, 82, 45, 88, 72, 95, 42, 5, 4, 6, 81, 10, 7, 7, 11, 77, 60, 43, 88, 73, 82, 24, 39, 72, 67, 4, 3, 10, 173, 15, 11, 81, 53, 127, 63, 88, 42, 88, 111, 73, 40, 86, 18, 46, 35, 92, 77, 70, 58, 10, 149, 58, 114, 57, 58, 61, 74, 103, 145, 79, 5, 8, 127, 35, 51, 8, 44, 7, 45, 39, 153, 5, 3, 69, 32, 100, 71, 65, 77, 2, 53, 27, 75, 21, 21, 70, 103, 74, 12, 152, 50, 6, 10, 3, 5, 10, 8, 8, 11, 9, 52, 86, 53, 75, 24, 31, 42, 64, 39, 9, 3, 11, 95, 57, 9, 25, 37, 8, 3, 14, 35, 48, 110, 69, 4, 9, 7, 8, 6, 8, 103, 98, 9, 8, 73, 62, 132, 82, 75, 15, 28, 41, 35, 54, 40, 48, 94, 71, 116, 38, 6, 48, 77, 55, 9, 67, 100, 55, 41, 50, 8, 6, 70, 81, 118, 94, 8, 11, 60, 88, 42, 48, 41, 54, 83, 39, 54, 86, 70, 42, 5, 58, 95, 60, 38, 102, 95, 149, 68, 4, 7, 53, 83, 60, 67, 77, 77, 7, 95, 56, 88, 72, 45, 36, 55, 41, 85, 69, 6, 57, 42, 7, 96, 50, 87, 7, 31, 27, 87, 94, 84, 60, 85, 153, 58, 155, 87, 46, 54, 112, 57, 33, 43, 106, 61, 53, 49, 69, 93, 69, 36, 118, 63, 59, 6, 6, 6, 148, 54, 69, 51, 43, 125, 11, 70, 73, 67, 112, 125, 116, 99, 103, 46, 72, 74, 82, 41, 191, 25, 6, 5, 12, 70, 63, 65, 93, 84, 54, 7, 71, 65, 53, 49, 93, 69, 75, 71, 94, 11, 49, 48, 49, 55, 108, 56, 65, 3, 46, 56, 66, 6, 7, 61, 105, 98, 41, 83, 100, 59, 46, 7, 6, 5, 63, 83, 112, 62, 64, 4, 9, 37, 111, 88, 68, 71, 86, 92, 68, 4, 88, 40, 10, 103, 52, 107, 54, 54, 86, 105, 49, 60, 103, 67, 5, 87, 43, 46, 84, 54, 63, 101, 132, 46, 35, 86, 5, 71, 144, 53, 73, 116, 93, 90, 66, 68, 5, 53, 71, 111, 107, 67, 71, 70, 49, 39, 51, 54, 123, 69, 64, 20, 47, 74, 98, 115, 127, 70, 7, 139, 92, 58, 64, 63, 111, 46, 80, 50, 5, 6, 4, 89, 52, 74, 105, 53, 68, 65, 61, 109, 39, 77, 59, 123, 198, 66, 19, 78, 115, 50, 39, 52, 72, 54, 120, 69, 45, 71, 94, 113, 43, 141, 53, 88, 130, 72, 56, 51, 72, 43, 77, 51, 82, 80, 38, 27, 27, 61, 64, 142, 63, 69, 101, 79, 80, 50, 33, 70, 68, 10, 6, 58, 73, 11, 63, 79, 55, 89, 74, 73, 58, 87, 93, 79, 41, 112, 56, 53, 54, 105, 57, 43, 84, 88, 86, 60, 49, 81, 41, 79, 104, 61, 2, 55, 101, 48, 7, 144, 8, 30, 116, 74, 79, 61, 30, 10, 10, 24, 30, 58, 50, 34, 62, 69, 42, 3, 36, 45, 66, 83, 66, 34, 31, 3, 28, 28, 42, 33, 27, 42, 35, 29, 35, 53, 38, 31, 82, 85, 56, 64, 62, 63]))"
      ]
     },
     "execution_count": 31,
     "metadata": {},
     "output_type": "execute_result"
    }
   ],
   "source": [
    "# Check document lengts\n",
    "lengths = dh.get_doc_lengths().values()\n",
    "\n",
    "min(lengths), max(lengths), lengths"
   ]
  },
  {
   "cell_type": "markdown",
   "metadata": {},
   "source": [
    "*<font color='red'>Question WCI 4:</font>*\n",
    "\n",
    "Based on the Analysis in the three previous subsections and the results above, which `tf-idf` method is better generally? (Explain)"
   ]
  },
  {
   "cell_type": "markdown",
   "metadata": {},
   "source": [
    "*<font color='yellow'>Answer WCI 4: Please move the answer to the [analysis.md](analysis.md) file.</font>*\n",
    "\n",
    "The double_normalization_idf_search method, yields the best overall performance. This is because the length of the document can vary significantly, which can in turn affect the ranking. The regularization makes it more robust to the different lengths and prevents the bias towards longer documents. The double_normalization_idf_search method has the strongest regularization, thus making it the best pick in this scenario."
   ]
  },
  {
   "cell_type": "markdown",
   "metadata": {},
   "source": [
    "### Section 5.3: Advantages & Disadvantages of Approaches\n",
    "In the final section of analysis of the Assignment 1 - Part1, we will compare the different term-based IR algorithms and different preprocessing configurations and analyze their advantages and disadvantages."
   ]
  },
  {
   "cell_type": "code",
   "execution_count": 32,
   "metadata": {},
   "outputs": [],
   "source": [
    "docs = read_cacm_docs()\n",
    "docs_by_id = dict(docs)\n",
    "queries = read_queries()\n",
    "qrels = read_qrels()\n",
    "stopwords = load_stopwords()\n",
    "n_docs = len(docs)"
   ]
  },
  {
   "cell_type": "code",
   "execution_count": 33,
   "metadata": {},
   "outputs": [],
   "source": [
    "config_1 = {\n",
    "  \"stem\": False,\n",
    "  \"remove_stopwords\" : False,\n",
    "  \"lowercase_text\": True\n",
    "}\n",
    "\n",
    "\n",
    "# In this configuration:\n",
    "# Preprocess the text, stem and remove stopwords\n",
    "config_2 = {\n",
    "  \"stem\": True,\n",
    "  \"remove_stopwords\" : True,\n",
    "  \"lowercase_text\": True,\n",
    "}\n",
    "\n",
    "####\n",
    "doc_repr_1 = []\n",
    "doc_repr_2 = []\n",
    "for (doc_id, document) in docs:\n",
    "    doc_repr_1.append((doc_id, process_text(document, stopwords, **config_1)))\n",
    "    doc_repr_2.append((doc_id, process_text(document, stopwords, **config_2)))"
   ]
  },
  {
   "cell_type": "code",
   "execution_count": 34,
   "metadata": {},
   "outputs": [],
   "source": [
    "df_1 = compute_df([d[1] for d in doc_repr_1])\n",
    "df_2 = compute_df([d[1] for d in doc_repr_2])"
   ]
  },
  {
   "cell_type": "code",
   "execution_count": 35,
   "metadata": {},
   "outputs": [],
   "source": [
    "tf_index_1 = build_tf_index(doc_repr_1)\n",
    "tf_index_2 = build_tf_index(doc_repr_2)"
   ]
  },
  {
   "cell_type": "code",
   "execution_count": 36,
   "metadata": {},
   "outputs": [],
   "source": [
    "dh1 = Dataset(n_docs, docs_by_id, doc_repr_1, df_1, tf_index_1, stopwords, config_1)\n",
    "dh2 = Dataset(n_docs, docs_by_id, doc_repr_2, df_2, tf_index_2, stopwords, config_2)"
   ]
  },
  {
   "cell_type": "code",
   "execution_count": 37,
   "metadata": {},
   "outputs": [],
   "source": [
    "#### Evaluate a search function\n",
    "\n",
    "list_of_search_fns = [\n",
    "    (\"TF-IDF\", tfidf_search),\n",
    "    (\"NaiveQL\", naive_ql_search),\n",
    "    (\"QL\", ql_search),\n",
    "    (\"BM25\", bm25_search)\n",
    "]\n",
    "\n",
    "from modules.evaluation import evaluate_search_fn"
   ]
  },
  {
   "cell_type": "code",
   "execution_count": 38,
   "metadata": {},
   "outputs": [],
   "source": [
    "from functools import partial\n",
    "\n",
    "list_of_metrics = [\n",
    "    (\"RECALL@100\", partial(recall_k, k=100)),\n",
    "    (\"MAP\", average_precision)]"
   ]
  },
  {
   "cell_type": "markdown",
   "metadata": {},
   "source": [
    "\n",
    "First, gather the results. The results should consider the index set, the different search functions and different metrics. Next cell plots the results in bar charts, per metric, with clear labels.\n",
    "\n",
    "**IMPORTANT:** *Make sure to run the following cell to loop over different search functions and run `evaluate_search_fn`. This saves the output of your runs, e.g. `BM25_1.trec`, etc.*"
   ]
  },
  {
   "cell_type": "code",
   "execution_count": 39,
   "metadata": {},
   "outputs": [
    {
     "name": "stdout",
     "output_type": "stream",
     "text": [
      "Index: 1\n",
      "\tEvaluating Search Function: TF-IDF\n"
     ]
    },
    {
     "name": "stdout",
     "output_type": "stream",
     "text": [
      "\t\tMetric: RECALL@100: 0.4682\n",
      "\t\tMetric: MAP: 0.1781\n",
      "\n",
      "\tEvaluating Search Function: NaiveQL\n",
      "\t\tMetric: RECALL@100: 0.0608\n",
      "\t\tMetric: MAP: 0.0117\n",
      "\n",
      "\tEvaluating Search Function: QL\n",
      "\t\tMetric: RECALL@100: 0.1611\n",
      "\t\tMetric: MAP: 0.0483\n",
      "\n",
      "\tEvaluating Search Function: BM25\n",
      "\t\tMetric: RECALL@100: 0.5446\n",
      "\t\tMetric: MAP: 0.2209\n",
      "\n",
      "Index: 2\n",
      "\tEvaluating Search Function: TF-IDF\n",
      "\t\tMetric: RECALL@100: 0.5530\n",
      "\t\tMetric: MAP: 0.2548\n",
      "\n",
      "\tEvaluating Search Function: NaiveQL\n",
      "\t\tMetric: RECALL@100: 0.1456\n",
      "\t\tMetric: MAP: 0.0347\n",
      "\n",
      "\tEvaluating Search Function: QL\n",
      "\t\tMetric: RECALL@100: 0.3108\n",
      "\t\tMetric: MAP: 0.0927\n",
      "\n",
      "\tEvaluating Search Function: BM25\n",
      "\t\tMetric: RECALL@100: 0.6265\n",
      "\t\tMetric: MAP: 0.3004\n",
      "\n"
     ]
    },
    {
     "data": {
      "image/png": "[encoded data removed]",
      "text/plain": [
       "<Figure size 1000x1600 with 2 Axes>"
      ]
     },
     "metadata": {},
     "output_type": "display_data"
    },
    {
     "data": {
      "image/png": "[encoded data removed]",
      "text/plain": [
       "<Figure size 1000x1600 with 2 Axes>"
      ]
     },
     "metadata": {},
     "output_type": "display_data"
    }
   ],
   "source": [
    "results = {}\n",
    "index_sets = {1: dh1, 2: dh2}\n",
    "\n",
    "for index_set, dh in index_sets.items():\n",
    "    results[index_set] = {}\n",
    "    print(f\"Index: {index_set}\")\n",
    "    for search_fn_name, search_fn in list_of_search_fns:\n",
    "        print(f\"\\tEvaluating Search Function: {search_fn_name}\")\n",
    "        results[index_set][search_fn_name] = evaluate_search_fn(search_fn_name, search_fn, list_of_metrics, dh, queries, qrels, index_set)\n",
    "        for metric_name, metric_val in results[index_set][search_fn_name].items():\n",
    "            print(f\"\\t\\tMetric: {metric_name}: {metric_val:0.4f}\")\n",
    "        print()\n",
    "\n",
    "def plot_metrics(search_fns):\n",
    "\n",
    "    fig, axes = plt.subplots(nrows=len(list_of_metrics), ncols=1)\n",
    "    fig.set_figheight(8 * len(list_of_metrics))\n",
    "    fig.set_figwidth(10)\n",
    "\n",
    "    for (metric, _), ax in zip(list_of_metrics, axes):\n",
    "        metrics = []\n",
    "        labels = []\n",
    "        for search_fn in search_fns:\n",
    "            metrics.append(search_fns[search_fn][metric])\n",
    "            labels.append(search_fn)\n",
    "\n",
    "        x = np.arange(len(labels))\n",
    "        rects = ax.bar(x, metrics, label=metric)\n",
    "\n",
    "        ax.set_xticks(x)\n",
    "        ax.set_xticklabels(labels, rotation=45)\n",
    "        ax.set_ylim(ymin=0, ymax= max(metrics) + 0.05)\n",
    "        ax.set_title(metric)\n",
    "\n",
    "plot_metrics(results[1])\n",
    "\n",
    "plot_metrics(results[2])\n"
   ]
  },
  {
   "cell_type": "code",
   "execution_count": 40,
   "metadata": {},
   "outputs": [
    {
     "data": {
      "text/plain": [
       "(1,\n",
       " 243,\n",
       " dict_values([6, 6, 5, 5, 4, 3, 5, 4, 2, 5, 10, 6, 5, 11, 4, 5, 3, 4, 5, 25, 4, 8, 9, 4, 4, 4, 6, 3, 2, 8, 5, 8, 7, 3, 6, 7, 3, 3, 23, 116, 5, 5, 4, 6, 6, 58, 5, 116, 8, 7, 4, 13, 4, 6, 2, 5, 7, 54, 18, 6, 5, 8, 44, 4, 6, 6, 4, 73, 17, 22, 90, 3, 4, 5, 5, 9, 3, 68, 6, 9, 5, 22, 5, 23, 5, 16, 8, 10, 8, 8, 4, 45, 16, 17, 56, 45, 8, 9, 4, 7, 3, 4, 72, 68, 5, 73, 3, 5, 3, 2, 48, 8, 4, 4, 3, 43, 6, 4, 3, 5, 4, 6, 59, 30, 6, 8, 5, 6, 6, 8, 10, 6, 9, 9, 5, 3, 6, 8, 6, 6, 3, 3, 14, 85, 4, 48, 6, 5, 10, 8, 5, 6, 3, 5, 2, 5, 5, 6, 5, 6, 6, 3, 3, 4, 4, 7, 6, 9, 3, 5, 6, 7, 5, 9, 9, 7, 19, 4, 10, 10, 10, 10, 4, 8, 71, 8, 2, 6, 4, 4, 3, 4, 4, 6, 2, 5, 3, 7, 6, 9, 9, 43, 4, 4, 34, 3, 4, 4, 4, 8, 5, 6, 4, 5, 7, 4, 5, 4, 3, 5, 4, 22, 3, 51, 7, 11, 5, 5, 2, 4, 5, 5, 6, 6, 2, 28, 7, 4, 6, 5, 53, 27, 110, 7, 9, 9, 7, 47, 9, 6, 37, 49, 10, 58, 5, 7, 5, 6, 5, 6, 2, 1, 5, 4, 44, 4, 5, 5, 4, 4, 8, 39, 4, 10, 6, 39, 6, 103, 4, 5, 29, 74, 3, 73, 3, 5, 4, 4, 7, 6, 3, 5, 8, 3, 6, 4, 5, 72, 4, 33, 7, 5, 31, 8, 5, 5, 5, 5, 5, 9, 7, 3, 5, 4, 3, 3, 6, 8, 60, 61, 112, 69, 5, 6, 8, 5, 9, 6, 70, 5, 8, 39, 8, 8, 58, 10, 4, 6, 7, 6, 6, 10, 10, 7, 8, 8, 9, 8, 3, 9, 9, 7, 7, 10, 7, 5, 8, 7, 5, 6, 5, 4, 5, 3, 6, 5, 43, 8, 6, 6, 10, 7, 8, 5, 5, 5, 5, 6, 2, 42, 6, 5, 6, 6, 5, 5, 6, 10, 7, 7, 5, 4, 5, 4, 4, 72, 122, 2, 8, 7, 5, 2, 8, 5, 29, 9, 8, 4, 70, 2, 8, 4, 4, 32, 4, 7, 55, 5, 6, 5, 8, 5, 6, 6, 7, 7, 5, 6, 10, 5, 5, 6, 12, 5, 62, 3, 3, 11, 8, 61, 83, 7, 8, 7, 5, 7, 3, 6, 6, 7, 7, 6, 6, 7, 6, 5, 7, 6, 5, 5, 7, 76, 4, 68, 5, 7, 6, 7, 7, 7, 5, 7, 5, 4, 4, 5, 4, 2, 30, 8, 4, 7, 30, 6, 11, 6, 5, 5, 10, 5, 6, 47, 5, 9, 78, 5, 104, 8, 6, 5, 5, 7, 9, 5, 6, 5, 13, 6, 6, 7, 7, 6, 5, 6, 8, 7, 7, 10, 9, 6, 5, 7, 5, 8, 5, 3, 67, 4, 5, 5, 119, 5, 107, 5, 9, 89, 14, 11, 7, 7, 7, 5, 6, 7, 9, 7, 6, 6, 7, 7, 7, 7, 8, 7, 6, 3, 4, 54, 6, 4, 3, 5, 6, 5, 5, 6, 7, 7, 6, 8, 7, 10, 10, 7, 9, 6, 5, 10, 5, 7, 4, 2, 4, 5, 105, 10, 6, 8, 8, 8, 11, 3, 6, 7, 63, 25, 6, 31, 3, 4, 7, 2, 4, 2, 60, 8, 3, 5, 5, 5, 6, 5, 5, 7, 69, 192, 35, 27, 93, 5, 6, 7, 7, 7, 9, 19, 3, 7, 8, 41, 9, 4, 11, 5, 4, 4, 96, 7, 7, 9, 9, 2, 11, 85, 5, 9, 8, 6, 5, 7, 5, 4, 11, 6, 26, 6, 4, 7, 6, 7, 17, 6, 5, 5, 7, 8, 6, 8, 2, 136, 67, 6, 4, 10, 120, 4, 60, 59, 87, 5, 5, 4, 5, 9, 6, 5, 5, 8, 10, 7, 34, 3, 31, 27, 135, 107, 10, 46, 33, 6, 6, 5, 5, 10, 7, 7, 7, 11, 5, 6, 6, 6, 6, 5, 6, 5, 49, 13, 57, 5, 36, 5, 4, 129, 4, 30, 50, 59, 2, 60, 59, 7, 9, 9, 8, 7, 6, 7, 5, 5, 6, 6, 5, 5, 5, 5, 8, 6, 3, 3, 5, 3, 9, 3, 54, 4, 3, 21, 51, 2, 25, 5, 6, 8, 9, 8, 26, 22, 6, 6, 7, 5, 6, 5, 9, 14, 7, 10, 6, 18, 6, 6, 5, 6, 10, 8, 6, 11, 5, 5, 4, 11, 3, 37, 5, 124, 5, 4, 42, 6, 7, 5, 5, 6, 6, 5, 6, 6, 5, 6, 6, 6, 6, 6, 8, 8, 5, 5, 3, 3, 5, 26, 4, 68, 55, 6, 12, 18, 8, 5, 9, 7, 6, 7, 9, 8, 7, 6, 7, 7, 6, 7, 5, 4, 4, 4, 14, 39, 85, 49, 78, 6, 3, 94, 72, 52, 23, 40, 3, 30, 51, 4, 2, 5, 66, 2, 82, 7, 7, 7, 5, 10, 5, 6, 7, 7, 8, 8, 9, 5, 8, 6, 7, 9, 7, 8, 11, 5, 6, 17, 58, 44, 59, 46, 17, 5, 10, 5, 8, 5, 7, 5, 6, 7, 6, 6, 7, 3, 5, 4, 3, 8, 1, 2, 3, 1, 1, 1, 5, 3, 7, 5, 5, 5, 7, 5, 6, 3, 2, 7, 6, 11, 8, 7, 7, 7, 9, 5, 6, 36, 34, 64, 5, 74, 5, 18, 4, 2, 34, 64, 27, 3, 3, 5, 5, 3, 5, 2, 8, 4, 27, 73, 37, 66, 9, 8, 9, 14, 6, 7, 51, 107, 58, 40, 8, 8, 11, 8, 9, 43, 46, 45, 14, 10, 7, 13, 14, 6, 3, 29, 10, 8, 8, 7, 7, 9, 4, 3, 3, 3, 62, 67, 136, 6, 7, 22, 16, 37, 22, 56, 9, 127, 48, 44, 40, 32, 11, 7, 9, 9, 9, 9, 9, 4, 60, 49, 3, 35, 79, 55, 23, 104, 99, 56, 66, 3, 10, 9, 9, 8, 8, 10, 54, 26, 29, 73, 34, 54, 63, 19, 82, 40, 21, 7, 9, 5, 7, 9, 5, 6, 6, 71, 12, 10, 21, 111, 36, 7, 6, 6, 53, 47, 16, 5, 5, 6, 7, 8, 7, 7, 7, 8, 56, 50, 13, 15, 28, 64, 3, 8, 9, 7, 6, 6, 5, 9, 16, 142, 98, 6, 7, 5, 3, 4, 3, 3, 2, 108, 27, 39, 36, 50, 70, 30, 26, 50, 43, 7, 14, 21, 30, 19, 5, 6, 5, 5, 6, 6, 8, 6, 4, 5, 6, 73, 173, 5, 3, 4, 5, 7, 4, 4, 102, 36, 108, 50, 53, 30, 6, 5, 5, 21, 21, 85, 138, 8, 10, 25, 69, 81, 82, 75, 38, 50, 63, 89, 41, 25, 98, 118, 62, 70, 53, 8, 7, 10, 8, 11, 87, 67, 50, 33, 32, 54, 35, 34, 9, 91, 9, 10, 9, 8, 7, 129, 68, 58, 88, 24, 65, 39, 12, 8, 7, 21, 7, 90, 4, 5, 7, 28, 18, 26, 22, 25, 29, 52, 9, 8, 9, 8, 8, 10, 82, 25, 53, 47, 6, 8, 8, 22, 18, 13, 34, 90, 93, 76, 62, 70, 6, 6, 8, 9, 7, 4, 4, 3, 59, 23, 17, 9, 27, 48, 59, 19, 46, 3, 57, 49, 35, 42, 70, 53, 20, 119, 101, 11, 72, 9, 8, 44, 43, 98, 14, 40, 10, 3, 5, 52, 31, 63, 41, 37, 8, 5, 13, 12, 11, 30, 7, 138, 3, 63, 10, 59, 87, 7, 7, 12, 9, 8, 3, 11, 12, 23, 44, 26, 112, 107, 73, 6, 2, 2, 5, 35, 116, 9, 10, 7, 9, 8, 6, 6, 105, 96, 87, 55, 84, 4, 5, 7, 64, 14, 40, 63, 11, 5, 7, 6, 3, 11, 57, 7, 8, 46, 24, 57, 71, 69, 86, 198, 32, 37, 31, 62, 8, 8, 7, 47, 93, 9, 13, 102, 36, 50, 98, 136, 18, 29, 33, 11, 9, 8, 43, 15, 8, 9, 10, 10, 101, 45, 96, 43, 37, 57, 142, 61, 62, 63, 60, 66, 60, 64, 87, 73, 37, 42, 95, 52, 35, 26, 29, 36, 60, 60, 10, 11, 9, 120, 118, 83, 85, 115, 54, 15, 102, 44, 43, 8, 8, 40, 56, 12, 97, 27, 98, 58, 73, 30, 35, 88, 22, 49, 106, 43, 82, 9, 10, 21, 42, 46, 63, 16, 39, 25, 46, 8, 7, 10, 7, 12, 10, 9, 86, 104, 89, 89, 71, 43, 40, 41, 4, 79, 62, 69, 53, 4, 39, 86, 105, 193, 54, 44, 44, 50, 38, 178, 11, 9, 10, 10, 8, 43, 32, 48, 79, 50, 104, 75, 64, 11, 101, 7, 11, 10, 55, 45, 112, 26, 13, 10, 26, 48, 90, 71, 53, 91, 45, 10, 16, 11, 12, 12, 7, 54, 36, 81, 112, 85, 82, 11, 11, 8, 68, 48, 120, 51, 107, 55, 37, 48, 21, 4, 45, 84, 53, 61, 10, 10, 25, 38, 35, 83, 130, 68, 6, 2, 10, 39, 60, 77, 34, 81, 39, 57, 8, 8, 9, 11, 34, 13, 10, 8, 28, 71, 37, 60, 35, 36, 26, 67, 58, 98, 11, 9, 9, 12, 13, 11, 13, 10, 11, 7, 9, 10, 9, 21, 46, 77, 95, 85, 141, 43, 39, 89, 58, 8, 10, 10, 10, 8, 78, 84, 75, 53, 108, 10, 9, 78, 86, 34, 37, 51, 62, 60, 37, 47, 10, 13, 31, 53, 50, 41, 72, 13, 64, 72, 50, 42, 40, 50, 43, 67, 27, 85, 42, 50, 68, 80, 9, 11, 127, 51, 36, 31, 59, 57, 92, 8, 57, 114, 117, 120, 72, 50, 11, 9, 28, 44, 39, 7, 7, 8, 9, 94, 202, 14, 13, 13, 11, 13, 106, 26, 34, 77, 22, 86, 92, 47, 79, 136, 85, 31, 35, 83, 52, 54, 6, 6, 12, 6, 96, 40, 87, 28, 117, 45, 65, 83, 76, 122, 11, 6, 75, 9, 141, 72, 32, 27, 61, 60, 86, 18, 50, 9, 8, 9, 44, 26, 74, 24, 63, 63, 43, 48, 109, 136, 144, 65, 9, 8, 9, 9, 10, 11, 32, 10, 8, 88, 54, 36, 129, 57, 43, 45, 68, 21, 83, 78, 33, 80, 78, 68, 46, 53, 6, 10, 16, 9, 7, 9, 10, 7, 12, 100, 49, 32, 42, 85, 122, 47, 117, 11, 13, 44, 13, 6, 10, 8, 8, 11, 43, 34, 50, 49, 22, 44, 36, 62, 9, 13, 10, 76, 12, 6, 5, 5, 11, 9, 10, 7, 10, 10, 9, 8, 105, 65, 88, 33, 55, 96, 130, 4, 12, 8, 8, 11, 9, 12, 9, 9, 11, 10, 8, 132, 93, 47, 117, 47, 109, 6, 4, 3, 4, 55, 36, 44, 13, 9, 14, 10, 11, 9, 33, 133, 81, 89, 119, 20, 8, 10, 8, 37, 86, 91, 64, 184, 7, 23, 34, 34, 37, 119, 9, 11, 11, 13, 51, 56, 74, 32, 48, 9, 19, 64, 44, 22, 68, 79, 106, 11, 10, 12, 8, 51, 90, 96, 23, 76, 73, 82, 81, 104, 13, 9, 9, 9, 9, 10, 11, 51, 49, 53, 6, 8, 62, 101, 43, 108, 24, 38, 58, 37, 10, 10, 59, 80, 13, 11, 11, 9, 13, 14, 29, 85, 56, 59, 42, 101, 75, 87, 68, 59, 83, 33, 27, 165, 48, 59, 97, 12, 8, 11, 9, 10, 50, 124, 41, 62, 6, 4, 70, 5, 11, 11, 13, 107, 49, 59, 72, 52, 60, 109, 4, 6, 10, 7, 11, 11, 9, 25, 18, 31, 33, 89, 38, 135, 46, 107, 10, 11, 9, 9, 8, 9, 9, 11, 11, 48, 73, 5, 5, 9, 10, 9, 12, 10, 96, 41, 33, 55, 25, 184, 127, 69, 20, 4, 6, 9, 11, 9, 11, 11, 9, 11, 56, 51, 66, 61, 51, 103, 4, 3, 4, 3, 26, 8, 11, 12, 9, 80, 73, 31, 147, 39, 132, 62, 9, 8, 11, 9, 7, 30, 12, 9, 8, 128, 55, 60, 31, 59, 90, 35, 102, 106, 11, 6, 11, 11, 61, 136, 96, 56, 5, 69, 92, 5, 6, 5, 4, 4, 8, 9, 14, 7, 15, 35, 31, 42, 7, 48, 77, 90, 65, 8, 3, 4, 3, 6, 8, 10, 66, 115, 60, 59, 59, 108, 63, 15, 11, 7, 16, 9, 9, 10, 64, 137, 29, 26, 51, 75, 57, 55, 102, 43, 5, 13, 17, 11, 7, 12, 9, 10, 12, 10, 62, 21, 103, 34, 30, 72, 13, 12, 13, 45, 46, 12, 78, 76, 28, 55, 47, 76, 14, 154, 119, 75, 82, 48, 16, 59, 54, 73, 74, 61, 41, 7, 7, 15, 4, 66, 7, 47, 76, 77, 40, 56, 86, 31, 56, 22, 4, 9, 10, 34, 84, 101, 117, 94, 74, 25, 143, 3, 2, 82, 40, 87, 67, 116, 140, 2, 7, 22, 31, 106, 74, 120, 84, 134, 13, 60, 84, 133, 78, 45, 12, 13, 48, 99, 31, 83, 68, 2, 14, 20, 111, 103, 150, 76, 107, 62, 6, 6, 9, 10, 10, 33, 45, 52, 78, 57, 47, 109, 243, 7, 7, 24, 5, 7, 5, 11, 18, 18, 12, 8, 107, 57, 68, 59, 57, 9, 46, 101, 61, 74, 6, 7, 6, 15, 11, 11, 51, 39, 141, 74, 117, 45, 38, 70, 7, 14, 7, 27, 74, 91, 74, 61, 63, 7, 3, 4, 5, 5, 62, 14, 38, 55, 72, 55, 159, 9, 10, 4, 5, 5, 5, 5, 98, 44, 45, 63, 89, 81, 24, 44, 64, 25, 71, 59, 20, 70, 29, 13, 44, 160, 21, 57, 96, 27, 62, 60, 80, 32, 53, 50, 38, 41, 30, 5, 5, 7, 7, 9, 9, 8, 9, 7, 24, 21, 48, 56, 123, 129, 89, 150, 46, 14, 10, 10, 12, 11, 4, 5, 45, 108, 71, 45, 81, 109, 99, 5, 8, 10, 9, 12, 31, 60, 68, 65, 65, 69, 29, 66, 92, 43, 82, 50, 85, 85, 55, 85, 10, 6, 68, 12, 10, 9, 30, 54, 51, 75, 9, 12, 10, 11, 23, 121, 6, 78, 36, 40, 89, 129, 11, 9, 11, 76, 37, 32, 33, 29, 4, 6, 27, 11, 13, 10, 9, 10, 14, 75, 133, 7, 102, 99, 2, 18, 10, 14, 14, 9, 14, 6, 84, 43, 33, 27, 73, 108, 50, 7, 9, 7, 8, 8, 6, 9, 21, 2, 32, 47, 96, 68, 75, 46, 75, 62, 48, 7, 12, 8, 6, 8, 9, 11, 13, 10, 11, 10, 41, 132, 83, 7, 9, 9, 15, 7, 4, 5, 74, 80, 55, 46, 137, 90, 74, 77, 57, 25, 12, 59, 28, 39, 41, 78, 12, 72, 125, 53, 132, 90, 71, 6, 3, 6, 11, 7, 10, 7, 8, 8, 5, 7, 41, 53, 79, 79, 46, 46, 54, 9, 12, 74, 68, 57, 97, 84, 64, 10, 10, 13, 7, 5, 12, 125, 104, 67, 71, 76, 14, 7, 84, 77, 43, 35, 38, 65, 84, 9, 11, 14, 6, 8, 7, 88, 86, 53, 42, 27, 57, 49, 68, 6, 6, 9, 10, 13, 94, 100, 116, 56, 68, 108, 3, 4, 5, 6, 8, 6, 48, 71, 58, 69, 9, 48, 11, 15, 7, 7, 10, 5, 8, 82, 67, 59, 86, 83, 57, 115, 5, 12, 19, 13, 42, 54, 53, 87, 8, 6, 36, 60, 8, 7, 9, 10, 13, 28, 6, 20, 63, 128, 43, 118, 59, 68, 104, 50, 70, 124, 97, 29, 79, 85, 33, 44, 8, 9, 9, 9, 7, 7, 11, 13, 37, 54, 101, 78, 7, 44, 31, 62, 72, 63, 11, 13, 12, 59, 67, 8, 4, 5, 8, 10, 5, 28, 82, 45, 88, 72, 95, 42, 5, 4, 6, 81, 10, 7, 7, 11, 77, 60, 43, 88, 73, 82, 24, 39, 72, 67, 4, 3, 10, 173, 15, 11, 81, 53, 127, 63, 88, 42, 88, 111, 73, 40, 86, 18, 46, 35, 92, 77, 70, 58, 10, 149, 58, 114, 57, 58, 61, 74, 103, 145, 79, 5, 8, 127, 35, 51, 8, 44, 7, 45, 39, 153, 5, 3, 69, 32, 100, 71, 65, 77, 2, 53, 27, 75, 21, 21, 70, 103, 74, 12, 152, 50, 6, 10, 3, 5, 10, 8, 8, 11, 9, 52, 86, 53, 75, 24, 31, 42, 64, 39, 9, 3, 11, 95, 57, 9, 25, 37, 8, 3, 14, 35, 48, 110, 69, 4, 9, 7, 8, 6, 8, 103, 98, 9, 8, 73, 62, 132, 82, 75, 15, 28, 41, 35, 54, 40, 48, 94, 71, 116, 38, 6, 48, 77, 55, 9, 67, 100, 55, 41, 50, 8, 6, 70, 81, 118, 94, 8, 11, 60, 88, 42, 48, 41, 54, 83, 39, 54, 86, 70, 42, 5, 58, 95, 60, 38, 102, 95, 149, 68, 4, 7, 53, 83, 60, 67, 77, 77, 7, 95, 56, 88, 72, 45, 36, 55, 41, 85, 69, 6, 57, 42, 7, 96, 50, 87, 7, 31, 27, 87, 94, 84, 60, 85, 153, 58, 155, 87, 46, 54, 112, 57, 33, 43, 106, 61, 53, 49, 69, 93, 69, 36, 118, 63, 59, 6, 6, 6, 148, 54, 69, 51, 43, 125, 11, 70, 73, 67, 112, 125, 116, 99, 103, 46, 72, 74, 82, 41, 191, 25, 6, 5, 12, 70, 63, 65, 93, 84, 54, 7, 71, 65, 53, 49, 93, 69, 75, 71, 94, 11, 49, 48, 49, 55, 108, 56, 65, 3, 46, 56, 66, 6, 7, 61, 105, 98, 41, 83, 100, 59, 46, 7, 6, 5, 63, 83, 112, 62, 64, 4, 9, 37, 111, 88, 68, 71, 86, 92, 68, 4, 88, 40, 10, 103, 52, 107, 54, 54, 86, 105, 49, 60, 103, 67, 5, 87, 43, 46, 84, 54, 63, 101, 132, 46, 35, 86, 5, 71, 144, 53, 73, 116, 93, 90, 66, 68, 5, 53, 71, 111, 107, 67, 71, 70, 49, 39, 51, 54, 123, 69, 64, 20, 47, 74, 98, 115, 127, 70, 7, 139, 92, 58, 64, 63, 111, 46, 80, 50, 5, 6, 4, 89, 52, 74, 105, 53, 68, 65, 61, 109, 39, 77, 59, 123, 198, 66, 19, 78, 115, 50, 39, 52, 72, 54, 120, 69, 45, 71, 94, 113, 43, 141, 53, 88, 130, 72, 56, 51, 72, 43, 77, 51, 82, 80, 38, 27, 27, 61, 64, 142, 63, 69, 101, 79, 80, 50, 33, 70, 68, 10, 6, 58, 73, 11, 63, 79, 55, 89, 74, 73, 58, 87, 93, 79, 41, 112, 56, 53, 54, 105, 57, 43, 84, 88, 86, 60, 49, 81, 41, 79, 104, 61, 2, 55, 101, 48, 7, 144, 8, 30, 116, 74, 79, 61, 30, 10, 10, 24, 30, 58, 50, 34, 62, 69, 42, 3, 36, 45, 66, 83, 66, 34, 31, 3, 28, 28, 42, 33, 27, 42, 35, 29, 35, 53, 38, 31, 82, 85, 56, 64, 62, 63]))"
      ]
     },
     "execution_count": 40,
     "metadata": {},
     "output_type": "execute_result"
    }
   ],
   "source": [
    "# Check document lengts\n",
    "lengths = dh.get_doc_lengths().values()\n",
    "\n",
    "min(lengths), max(lengths), lengths\n"
   ]
  },
  {
   "cell_type": "markdown",
   "metadata": {},
   "source": [
    "---\n",
    "#### 5.3.1 Summary\n",
    "Write a summary of what you observe in the results.\n",
    "Your summary should compare results across the 2 indices and the methods being used. State what you expected to see in the results, followed by either supporting evidence *or* justify why the results did not support your expectations.\n",
    "\n",
    "*Submission format:*\n",
    "\n",
    "1- Your runtime evaluation results of the given list of metrics and search functions\n",
    "  will be saved in separate files as follows (Make sure the contents of these files are as expected and not damaged due to\n",
    "  any errors):\n",
    "\n",
    "2- You need to submit your response including up to 250 words in a file named as: `analysis.md` (with markdown format) in\n",
    "the root directory of your repository. Your file should also include a table of your results with following shape:\n",
    "\n",
    "| Ranking Algorithm | Index      | RECALL@100  | MAP         |\n",
    "|-------------------|------------|-------------|-------------|\n",
    "|       Tf-IDF      | 1 <br> 2   |   x <br> x  |   x <br> x  |\n",
    "|       Naive-QL    | 1 <br> 2   |   x <br> x  |   x <br> x  |\n",
    "|       QL          | 1 <br> 2   |   x <br> x  |   x <br> x  |\n",
    "|       BM25        | 1 <br> 2   |   x <br> x  |   x <br> x  |\n",
    "\n"
   ]
  },
  {
   "cell_type": "markdown",
   "metadata": {},
   "source": [
    "### Summary\n",
    "\n",
    "Preprocessing the text makes the queries more effective. Stemming reduces words to their base or root form, removing stopwords eliminates filler words, and lowercasing ensures that the same words are treated identically. This is expected to improve ranking.\n",
    "\n",
    "- Naive-QL is a probabilistic method that ranks documents based on the likelihood of a query being generated from each document's language model. It requires consistent and well-represented documents and can effectively handle rare terms. However, it is basic and is expected to perform poorly due to zero-frequency problems with some documents.\n",
    "- QL operates similarly to Naive-QL but uses smoothing to handle terms that do not appear in some documents. It is expected to perform better than Naive-QL.\n",
    "- TF-IDF uses keywords and calculates term frequencies to determine scores. It is more robust with diverse document contents than the first two methods. However, it does not consider the length of the documents and term saturation.\n",
    "- BM25 is more sophisticated than TF-IDF and addresses these issues. It is expected to perform better in this case, as the number of tokens per document varies significantly.\n",
    "\n",
    "The expectations are confirmed by the table below. Preprocessing significantly improves ranking performance, especially with respect to the mean average precision metric. BM25 search performs the best, and Naive-QL performs the worst. We notice that ranking by keywords using TF-IDF search is much better than the probabilistic QL method, which can be attributed to poorly represented documents.\n",
    "\n",
    "| Ranking Algorithm | Index      | RECALL@100  | MAP         |\n",
    "|-------------------|------------|-------------|-------------|\n",
    "|       Tf-IDF      | 1 <br> 2   |   0.4682 <br> 0.5530  |   0.1781 <br> 0.2548  |\n",
    "|       Naive-QL    | 1 <br> 2   |   0.0608 <br> 0.1456  |   0.0117 <br> 0.0347  |\n",
    "|       QL          | 1 <br> 2   |   0.1611 <br> 0.3108  |   0.0483 <br> 0.0927  |\n",
    "|       BM25        | 1 <br> 2   |   0.5446 <br> 0.6265  |   0.2209 <br> 0.3004  |\n"
   ]
  }
 ],
 "metadata": {
  "kernelspec": {
   "display_name": "ir-ta",
   "language": "python",
   "name": "python3"
  },
  "language_info": {
   "codemirror_mode": {
    "name": "ipython",
    "version": 3
   },
   "file_extension": ".py",
   "mimetype": "text/x-python",
   "name": "python",
   "nbconvert_exporter": "python",
   "pygments_lexer": "ipython3",
   "version": "3.11.5"
  },
  "orig_nbformat": 4
 },
 "nbformat": 4,
 "nbformat_minor": 2
}
